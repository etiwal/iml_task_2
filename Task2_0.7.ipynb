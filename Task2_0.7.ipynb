{
 "cells": [
  {
   "cell_type": "code",
   "execution_count": 1,
   "metadata": {},
   "outputs": [],
   "source": [
    "import numpy as np\n",
    "import pandas as pd\n",
    "import os\n",
    "# explicitly require this experimental feature\n",
    "from sklearn.experimental import enable_iterative_imputer  # noqa\n",
    "# now you can import normally from sklearn.impute\n",
    "from sklearn.impute import IterativeImputer, SimpleImputer\n",
    "from sklearn.metrics import mean_absolute_error\n",
    "from sklearn.svm import LinearSVR, SVR, SVC,LinearSVC\n",
    "from sklearn.datasets import make_regression\n",
    "from sklearn.preprocessing import normalize \n",
    "import matplotlib.pyplot as plt\n",
    "import seaborn as sns\n",
    "from sklearn.feature_selection import RFE\n",
    "from sklearn.linear_model import LogisticRegression, RidgeClassifier, RidgeClassifierCV\n",
    "from sklearn.neural_network import MLPClassifier\n",
    "from sklearn.ensemble import RandomForestClassifier\n"
   ]
  },
  {
   "cell_type": "code",
   "execution_count": 2,
   "metadata": {},
   "outputs": [],
   "source": [
    "# Read in data\n",
    "df_training_original = pd.read_csv('train_features.csv')\n",
    "df_training_label = pd.read_csv('train_labels.csv')\n",
    "all_pids = [pid for pid in df_training_original['pid'].unique()]"
   ]
  },
  {
   "cell_type": "code",
   "execution_count": 3,
   "metadata": {},
   "outputs": [],
   "source": [
    "def getPatientData(trainingData, pids, patients=0, mode='pid'):\n",
    "    if mode == 'number':\n",
    "        pids = all_pids[:patients]\n",
    "    if len(pids) == 0:\n",
    "        return trainingData\n",
    "    #pids = np.array(pids).astype(np.float)\n",
    "    patients = [trainingData.iloc[idx] for idx in range(0, len(trainingData)) if trainingData['pid'][idx] in pids]    \n",
    "    #patientTrainingDataIndex = [trainingData.iloc[idx] for idx, col in enumerate(trainingData) if trainingData['pid'][idx] in pids]    \n",
    "    return pd.DataFrame(patients)\n",
    "\n",
    "def partitionData(trainingDataPids, trainingPartition=80):\n",
    "    validationPartition = 100 - trainingPartition\n",
    "    countTraining = int((trainingPartition/100)*len(trainingDataPids))\n",
    "    training = trainingDataPids[:countTraining]\n",
    "    validation = trainingDataPids[countTraining:]\n",
    "    print('')\n",
    "    print('Training size: ' + str(countTraining))\n",
    "    print('Validation size: ' + str(len(validation)))\n",
    "    return training, validation\n",
    "\n",
    "def populateData(X,Y):\n",
    "    Z = pd.merge(X, Y, on='pid')\n",
    "    YData = Z[Y.columns].iloc[:,1:]\n",
    "    XData = Z[X.columns].iloc[:,1:]\n",
    "    return XData, YData\n",
    "import sklearn.metrics as metrics\n",
    "\n",
    "TESTS = ['LABEL_BaseExcess', 'LABEL_Fibrinogen', 'LABEL_AST', 'LABEL_Alkalinephos', 'LABEL_Bilirubin_total',\n",
    "         'LABEL_Lactate', 'LABEL_TroponinI', 'LABEL_SaO2',\n",
    "         'LABEL_Bilirubin_direct', 'LABEL_EtCO2']\n",
    "def get_score(df_true, df_submission):\n",
    "    df_submission = df_submission.sort_values('pid')\n",
    "    df_true = df_true.sort_values('pid')\n",
    "    \n",
    "    #task1 = np.mean([metrics.roc_auc_score(df_true[entry], df_submission[entry]) for entry in TESTS])\n",
    "    task2 = metrics.roc_auc_score(df_true['LABEL_Sepsis'], df_submission['LABEL_Sepsis'])\n",
    "    #task3 = np.mean([0.5 + 0.5 * np.maximum(0, metrics.r2_score(df_true[entry], df_submission[entry])) for entry in VITALS])\n",
    "    #score = np.mean([task1, task2, task3])\n",
    "    return task2"
   ]
  },
  {
   "cell_type": "code",
   "execution_count": 75,
   "metadata": {
    "scrolled": true
   },
   "outputs": [
    {
     "name": "stdout",
     "output_type": "stream",
     "text": [
      "0.0 %\n",
      "3.0 %\n",
      "5.0 %\n",
      "8.0 %\n",
      "11.0 %\n",
      "13.0 %\n",
      "16.0 %\n",
      "18.0 %\n",
      "21.0 %\n",
      "24.0 %\n",
      "26.0 %\n",
      "28.999999999999996 %\n",
      "32.0 %\n",
      "34.0 %\n",
      "37.0 %\n",
      "39.0 %\n",
      "42.0 %\n",
      "45.0 %\n",
      "47.0 %\n",
      "50.0 %\n",
      "53.0 %\n",
      "55.00000000000001 %\n",
      "57.99999999999999 %\n",
      "61.0 %\n",
      "63.0 %\n",
      "66.0 %\n",
      "68.0 %\n",
      "71.0 %\n",
      "74.0 %\n",
      "76.0 %\n",
      "79.0 %\n",
      "82.0 %\n",
      "84.0 %\n",
      "87.0 %\n",
      "89.0 %\n",
      "92.0 %\n",
      "95.0 %\n",
      "97.0 %\n",
      "        pid  Time   Age      EtCO2    PTT   BUN  Lactate       Temp  \\\n",
      "0       1.0   8.5  34.0        NaN    NaN  12.0      NaN  36.750000   \n",
      "0      10.0   6.5  71.0        NaN  27.80  12.0      NaN  36.000000   \n",
      "0     100.0   7.5  68.0        NaN  20.90  21.0      NaN  36.250000   \n",
      "0    1000.0   6.5  79.0  31.863636    NaN  22.0    3.855  36.818182   \n",
      "0   10000.0   6.5  76.0        NaN  28.55  22.0      NaN  36.750000   \n",
      "..      ...   ...   ...        ...    ...   ...      ...        ...   \n",
      "0    9993.0   6.5  80.0        NaN    NaN  13.5      NaN  35.750000   \n",
      "0    9995.0   6.5  73.0        NaN  55.50  50.0      NaN  36.000000   \n",
      "0    9996.0  12.5  53.0        NaN    NaN   NaN      NaN  37.400000   \n",
      "0    9998.0   6.5  89.0        NaN  34.70  13.0      NaN  36.636364   \n",
      "0    9999.0   6.5  85.0        NaN  36.40  30.0      NaN  36.000000   \n",
      "\n",
      "          Hgb       HCO3  ...  Alkalinephos_count  SpO2_count  \\\n",
      "0    8.566667  25.333333  ...                   0          12   \n",
      "0   14.600000        NaN  ...                   1          11   \n",
      "0   12.500000  27.000000  ...                   0          12   \n",
      "0    9.200000        NaN  ...                   0          11   \n",
      "0   10.700000  25.500000  ...                   0          11   \n",
      "..        ...        ...  ...                 ...         ...   \n",
      "0    8.350000        NaN  ...                   2          11   \n",
      "0   11.200000  29.000000  ...                   0          11   \n",
      "0   10.800000        NaN  ...                   0          12   \n",
      "0    8.400000        NaN  ...                   0          11   \n",
      "0    9.450000  25.000000  ...                   0           7   \n",
      "\n",
      "    Bilirubin_direct_count  Chloride_count  Hct_count  Heartrate_count  \\\n",
      "0                        0               3          6               12   \n",
      "0                        0               0          1               11   \n",
      "0                        0               2          2               12   \n",
      "0                        0               0          1               11   \n",
      "0                        0               2          2               11   \n",
      "..                     ...             ...        ...              ...   \n",
      "0                        0               0          2               11   \n",
      "0                        0               1          1               11   \n",
      "0                        0               0          3               12   \n",
      "0                        0               0          1               11   \n",
      "0                        0               1          2               11   \n",
      "\n",
      "    Bilirubin_total_count  TroponinI_count  ABPs_count  pH_count  \n",
      "0                       0                0          12         7  \n",
      "0                       1                1          11         0  \n",
      "0                       0                0          11         0  \n",
      "0                       0                0          11         1  \n",
      "0                       0                0          11         4  \n",
      "..                    ...              ...         ...       ...  \n",
      "0                       2                2          11         0  \n",
      "0                       0                0          11         0  \n",
      "0                       0                0          12         4  \n",
      "0                       0                2          11         0  \n",
      "0                       0                0          11         0  \n",
      "\n",
      "[18995 rows x 71 columns]\n"
     ]
    }
   ],
   "source": [
    "\n",
    "X_pid_train = pd.DataFrame()\n",
    "for i, pid in enumerate(all_pids):\n",
    "    uniqueData = df_training_original[df_training_original['pid']==pid]\n",
    "    means = uniqueData.mean()\n",
    "    means['pid'] = pid\n",
    "    means['Age'] = uniqueData['Age'].iloc[0]\n",
    "    means = pd.DataFrame(means).transpose()\n",
    "    counts = uniqueData.isna().sum()\n",
    "    counts = -1*counts + 12\n",
    "   \n",
    "    counts = pd.DataFrame(counts).transpose()\n",
    "    #print(counts)\n",
    "    countsCol = [x + '_count' for x in means.columns]\n",
    "    countsCol[0] = 'pid'\n",
    "    countsCol[1] = 'Time'\n",
    "    countsCol[2] = 'Age'\n",
    "    counts.columns  = countsCol\n",
    "    counts['pid'] = pid\n",
    "    counts.drop(['Time', 'Age'], inplace=True, axis=1)\n",
    "    merged = pd.merge(means, counts)\n",
    "    X_pid_train = pd.concat([X_pid_train, merged])\n",
    "    #counts.drop('Time', inplace=True)\n",
    "    if i % 500 == 0:\n",
    "        print(round(i/len(all_pids),2)*100, '%')\n",
    "    del means\n",
    "    #print(means)\n",
    "\n",
    "\n",
    "    \n",
    "print(X_pid_train)"
   ]
  },
  {
   "cell_type": "code",
   "execution_count": 124,
   "metadata": {},
   "outputs": [
    {
     "name": "stdout",
     "output_type": "stream",
     "text": [
      "Index(['pid', 'Time', 'Age', 'EtCO2', 'PTT', 'BUN', 'Lactate', 'Temp', 'Hgb',\n",
      "       'HCO3', 'BaseExcess', 'RRate', 'Fibrinogen', 'Phosphate', 'WBC',\n",
      "       'Creatinine', 'PaCO2', 'AST', 'FiO2', 'Platelets', 'SaO2', 'Glucose',\n",
      "       'ABPm', 'Magnesium', 'Potassium', 'ABPd', 'Calcium', 'Alkalinephos',\n",
      "       'SpO2', 'Bilirubin_direct', 'Chloride', 'Hct', 'Heartrate',\n",
      "       'Bilirubin_total', 'TroponinI', 'ABPs', 'pH', 'EtCO2_count',\n",
      "       'PTT_count', 'BUN_count', 'Lactate_count', 'Temp_count', 'Hgb_count',\n",
      "       'HCO3_count', 'BaseExcess_count', 'RRate_count', 'Fibrinogen_count',\n",
      "       'Phosphate_count', 'WBC_count', 'Creatinine_count', 'PaCO2_count',\n",
      "       'AST_count', 'FiO2_count', 'Platelets_count', 'SaO2_count',\n",
      "       'Glucose_count', 'ABPm_count', 'Magnesium_count', 'Potassium_count',\n",
      "       'ABPd_count', 'Calcium_count', 'Alkalinephos_count', 'SpO2_count',\n",
      "       'Bilirubin_direct_count', 'Chloride_count', 'Hct_count',\n",
      "       'Heartrate_count', 'Bilirubin_total_count', 'TroponinI_count',\n",
      "       'ABPs_count', 'pH_count'],\n",
      "      dtype='object')\n",
      "Index(['pid', 'PTT', 'HCO3', 'BaseExcess', 'PaCO2', 'FiO2', 'SaO2', 'Chloride',\n",
      "       'Hct', 'pH', 'EtCO2_count', 'PTT_count', 'BUN_count', 'Lactate_count',\n",
      "       'Temp_count', 'Hgb_count', 'HCO3_count', 'BaseExcess_count',\n",
      "       'RRate_count', 'Fibrinogen_count', 'Phosphate_count', 'WBC_count',\n",
      "       'Creatinine_count', 'PaCO2_count', 'AST_count', 'FiO2_count',\n",
      "       'Platelets_count', 'SaO2_count', 'Glucose_count', 'ABPm_count',\n",
      "       'Magnesium_count', 'Potassium_count', 'ABPd_count', 'Calcium_count',\n",
      "       'Alkalinephos_count', 'SpO2_count', 'Bilirubin_direct_count',\n",
      "       'Chloride_count', 'Hct_count', 'Heartrate_count',\n",
      "       'Bilirubin_total_count', 'TroponinI_count', 'ABPs_count', 'pH_count'],\n",
      "      dtype='object')\n",
      "       pid    PTT       HCO3  BaseExcess      PaCO2   FiO2   SaO2  Chloride  \\\n",
      "0      1.0   0.00  25.333333   -0.666667  43.333333  0.425   0.00     112.0   \n",
      "0     10.0  27.80   0.000000    0.000000   0.000000  0.000   0.00       0.0   \n",
      "0    100.0  20.90  27.000000    0.000000   0.000000  0.000   0.00     101.0   \n",
      "0   1000.0   0.00   0.000000    0.000000  44.000000  0.400  98.00       0.0   \n",
      "0  10000.0  28.55  25.500000    1.500000  44.500000  0.500  98.25     103.5   \n",
      "\n",
      "    Hct    pH  ...  Alkalinephos_count  SpO2_count  Bilirubin_direct_count  \\\n",
      "0  23.2  7.37  ...                   0          12                       0   \n",
      "0  42.1  0.00  ...                   1          11                       0   \n",
      "0  36.8  0.00  ...                   0          12                       0   \n",
      "0  27.3  7.30  ...                   0          11                       0   \n",
      "0  30.3  7.39  ...                   0          11                       0   \n",
      "\n",
      "   Chloride_count  Hct_count  Heartrate_count  Bilirubin_total_count  \\\n",
      "0               3          6               12                      0   \n",
      "0               0          1               11                      1   \n",
      "0               2          2               12                      0   \n",
      "0               0          1               11                      0   \n",
      "0               2          2               11                      0   \n",
      "\n",
      "   TroponinI_count  ABPs_count  pH_count  \n",
      "0                0          12         7  \n",
      "0                1          11         0  \n",
      "0                0          11         0  \n",
      "0                0          11         1  \n",
      "0                0          11         4  \n",
      "\n",
      "[5 rows x 44 columns]\n"
     ]
    }
   ],
   "source": [
    "print(X_pid_train.columns)\n",
    "x_train = X_pid_train[['pid', 'PTT', 'HCO3', 'BaseExcess', 'PaCO2', 'FiO2', 'SaO2','Chloride', 'Hct', 'pH'\n",
    "                      , 'EtCO2_count',\n",
    "       'PTT_count', 'BUN_count', 'Lactate_count', 'Temp_count', 'Hgb_count',\n",
    "       'HCO3_count', 'BaseExcess_count', 'RRate_count', 'Fibrinogen_count',\n",
    "       'Phosphate_count', 'WBC_count', 'Creatinine_count', 'PaCO2_count',\n",
    "       'AST_count', 'FiO2_count', 'Platelets_count', 'SaO2_count',\n",
    "       'Glucose_count', 'ABPm_count', 'Magnesium_count', 'Potassium_count',\n",
    "       'ABPd_count', 'Calcium_count', 'Alkalinephos_count', 'SpO2_count',\n",
    "       'Bilirubin_direct_count', 'Chloride_count', 'Hct_count',\n",
    "       'Heartrate_count', 'Bilirubin_total_count', 'TroponinI_count',\n",
    "       'ABPs_count', 'pH_count']].fillna(0)\n",
    "#x_train = X_pid_train.copy().sort_values(['pid'])\n",
    "print(x_train.columns)\n",
    "#x_train = X_pid_train[['pid','ABPm','RRate','FiO2','Platelets','Creatinine', 'Lactate','ABPm_count', 'RRate_count','FiO2_count', 'Platelets_count','Creatinine_count','Lactate_count']].fillna(0)\n",
    "#x_train = x_train[['pid','ABPm','RRate','FiO2','Platelets','Creatinine', 'Lactate']].fillna(0)\n",
    "x_train = x_train\n",
    "print(x_train.head())"
   ]
  },
  {
   "cell_type": "code",
   "execution_count": 125,
   "metadata": {},
   "outputs": [
    {
     "name": "stdout",
     "output_type": "stream",
     "text": [
      "     pid  LABEL_Sepsis\n",
      "0      1           0.0\n",
      "1     10           0.0\n",
      "2    100           0.0\n",
      "3   1000           0.0\n",
      "4  10000           0.0\n"
     ]
    }
   ],
   "source": [
    "df_training_label = df_training_label\n",
    "print(df_training_label.iloc[:,[0,-5]].head())"
   ]
  },
  {
   "cell_type": "code",
   "execution_count": 126,
   "metadata": {},
   "outputs": [
    {
     "name": "stdout",
     "output_type": "stream",
     "text": [
      "(18995, 44)\n"
     ]
    }
   ],
   "source": [
    "print(x_train.shape)"
   ]
  },
  {
   "cell_type": "code",
   "execution_count": 129,
   "metadata": {},
   "outputs": [
    {
     "name": "stdout",
     "output_type": "stream",
     "text": [
      "[0. 1.]\n",
      "0.16903217384408292\n"
     ]
    },
    {
     "name": "stderr",
     "output_type": "stream",
     "text": [
      "C:\\Users\\Oliver\\Anaconda3\\lib\\site-packages\\sklearn\\neural_network\\multilayer_perceptron.py:566: ConvergenceWarning: Stochastic Optimizer: Maximum iterations (300) reached and the optimization hasn't converged yet.\n",
      "  % self.max_iter, ConvergenceWarning)\n"
     ]
    }
   ],
   "source": [
    "# Train MLPClassifier\n",
    "#regr =   KNeighborsClassifier(3)\n",
    "regr = MLPClassifier(alpha=1e-4, hidden_layer_sizes=(200,200,200), random_state=1, solver='sgd', max_iter=300)\n",
    "#regr = RidgeClassifierCV()\n",
    "#regr = RandomForestClassifier()\n",
    "trainNumbers = 16000\n",
    "regr.fit(x_train.iloc[:trainNumbers,1:], df_training_label.iloc[:trainNumbers,-5].values)\n",
    "print(regr.classes_)\n",
    "print(regr.loss_)"
   ]
  },
  {
   "cell_type": "code",
   "execution_count": 130,
   "metadata": {},
   "outputs": [
    {
     "name": "stdout",
     "output_type": "stream",
     "text": [
      "Empty DataFrame\n",
      "Columns: [False, LABEL_Sepsis, pid]\n",
      "Index: []\n",
      "0.640378086419753\n"
     ]
    }
   ],
   "source": [
    "f = regr.predict_proba(x_train.iloc[trainNumbers:,1:])\n",
    "f = pd.DataFrame(f)\n",
    "#f.columns = list(df_training_label.columns[-5])\n",
    "f.columns = ['False', 'LABEL_Sepsis']\n",
    "f['pid'] = x_train.iloc[trainNumbers:,0].reset_index(drop=True)\n",
    "\n",
    "print(f[f['pid'].isin([27001, 27003, 27007, 27010])])\n",
    "\n",
    "print(get_score(df_training_label.iloc[trainNumbers:,:], f))"
   ]
  },
  {
   "cell_type": "code",
   "execution_count": 131,
   "metadata": {},
   "outputs": [
    {
     "data": {
      "text/plain": [
       "0.6736342592592591"
      ]
     },
     "execution_count": 131,
     "metadata": {},
     "output_type": "execute_result"
    }
   ],
   "source": [
    "0.48263668430335094\n",
    "0.6736342592592591"
   ]
  },
  {
   "cell_type": "code",
   "execution_count": null,
   "metadata": {},
   "outputs": [],
   "source": []
  }
 ],
 "metadata": {
  "kernelspec": {
   "display_name": "Python 3",
   "language": "python",
   "name": "python3"
  },
  "language_info": {
   "codemirror_mode": {
    "name": "ipython",
    "version": 3
   },
   "file_extension": ".py",
   "mimetype": "text/x-python",
   "name": "python",
   "nbconvert_exporter": "python",
   "pygments_lexer": "ipython3",
   "version": "3.7.4"
  }
 },
 "nbformat": 4,
 "nbformat_minor": 2
}
