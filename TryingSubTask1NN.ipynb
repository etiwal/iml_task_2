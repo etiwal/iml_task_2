{
 "cells": [
  {
   "cell_type": "code",
   "execution_count": 599,
   "metadata": {},
   "outputs": [],
   "source": [
    "import numpy as np\n",
    "import pandas as pd\n",
    "import os\n",
    "# explicitly require this experimental feature\n",
    "from sklearn.experimental import enable_iterative_imputer  # noqa\n",
    "# now you can import normally from sklearn.impute\n",
    "from sklearn.impute import IterativeImputer, SimpleImputer\n",
    "from sklearn.metrics import mean_absolute_error\n",
    "from sklearn.svm import LinearSVR, SVR, SVC,LinearSVC\n",
    "from sklearn.datasets import make_regression\n",
    "from sklearn.preprocessing import normalize \n",
    "import matplotlib.pyplot as plt\n",
    "import seaborn as sns\n",
    "from sklearn.feature_selection import RFE\n",
    "from sklearn.linear_model import LogisticRegression, RidgeClassifier, RidgeClassifierCV\n",
    "from sklearn.neural_network import MLPClassifier\n",
    "from sklearn.ensemble import RandomForestClassifier\n"
   ]
  },
  {
   "cell_type": "code",
   "execution_count": 2,
   "metadata": {},
   "outputs": [],
   "source": [
    "# Read in data\n",
    "df_training_original = pd.read_csv('train_features.csv')\n",
    "df_training_label = pd.read_csv('train_labels.csv')\n",
    "all_pids = [pid for pid in df_training_original['pid'].unique()]"
   ]
  },
  {
   "cell_type": "code",
   "execution_count": 3,
   "metadata": {},
   "outputs": [],
   "source": [
    "def getPatientData(trainingData, pids, patients=0, mode='pid'):\n",
    "    if mode == 'number':\n",
    "        pids = all_pids[:patients]\n",
    "    if len(pids) == 0:\n",
    "        return trainingData\n",
    "    #pids = np.array(pids).astype(np.float)\n",
    "    patients = [trainingData.iloc[idx] for idx in range(0, len(trainingData)) if trainingData['pid'][idx] in pids]    \n",
    "    #patientTrainingDataIndex = [trainingData.iloc[idx] for idx, col in enumerate(trainingData) if trainingData['pid'][idx] in pids]    \n",
    "    return pd.DataFrame(patients)\n",
    "\n",
    "def partitionData(trainingDataPids, trainingPartition=80):\n",
    "    validationPartition = 100 - trainingPartition\n",
    "    countTraining = int((trainingPartition/100)*len(trainingDataPids))\n",
    "    training = trainingDataPids[:countTraining]\n",
    "    validation = trainingDataPids[countTraining:]\n",
    "    print('')\n",
    "    print('Training size: ' + str(countTraining))\n",
    "    print('Validation size: ' + str(len(validation)))\n",
    "    return training, validation\n",
    "\n",
    "def populateData(X,Y):\n",
    "    Z = pd.merge(X, Y, on='pid')\n",
    "    YData = Z[Y.columns].iloc[:,1:]\n",
    "    XData = Z[X.columns].iloc[:,1:]\n",
    "    return XData, YData"
   ]
  },
  {
   "cell_type": "code",
   "execution_count": 4,
   "metadata": {},
   "outputs": [
    {
     "name": "stdout",
     "output_type": "stream",
     "text": [
      "Number of missing values in data:\n",
      "FiO2                3246.0\n",
      "BaseExcess          1267.0\n",
      "Creatinine           837.0\n",
      "Lactate              295.0\n",
      "Bilirubin_total      219.0\n",
      "RRate                101.0\n",
      "Magnesium             59.0\n",
      "Phosphate             59.0\n",
      "Bilirubin_direct      19.0\n",
      "Calcium               19.0\n",
      "TroponinI             11.0\n",
      "BUN                    9.0\n",
      "WBC                    8.0\n",
      "dtype: float64\n",
      "\n",
      "Training size: 15196\n",
      "Validation size: 3799\n"
     ]
    }
   ],
   "source": [
    "df_training = df_training_original.copy()\n",
    "\n",
    "# See how many values are missing in which rows\n",
    "loss = df_training_original.isnull().any()\n",
    "lossRow = df_training[df_training_original == loss].sum()\n",
    "print('Number of missing values in data:')\n",
    "print(lossRow[lossRow > 0].sort_values(ascending=False))\n",
    "\n",
    "# Filter out certain rows with a lot of missing data\n",
    "lossColumns = list(lossRow[lossRow > 100].index)\n",
    "df_training = df_training.drop(columns=lossColumns)\n",
    "\n",
    "# Set all time data to be between 1-12\n",
    "X_ALL = pd.DataFrame(columns = df_training.columns)\n",
    "if os.path.exists('x_time_adjusted.csv'):\n",
    "    X_ALL = pd.read_csv('x_time_adjusted.csv', index_col=False)\n",
    "    X_ALL = X_ALL.iloc[:,1:]\n",
    "else:\n",
    "    for pids in all_pids:\n",
    "        df_trainingTemp = df_training[df_training['pid'] == pids]\n",
    "        df_trainingTemp['Time'] = df_trainingTemp['Time'] - (df_trainingTemp['Time'].min() -1)\n",
    "        X_ALL = pd.concat([X_ALL, df_trainingTemp])\n",
    "    \n",
    "df_training = X_ALL.copy()\n",
    "# Partition data in training and validation\n",
    "trainingPIDS, validationPIDS = partitionData(all_pids)\n"
   ]
  },
  {
   "cell_type": "code",
   "execution_count": 609,
   "metadata": {},
   "outputs": [
    {
     "name": "stderr",
     "output_type": "stream",
     "text": [
      "C:\\Users\\Oliver\\Anaconda3\\lib\\site-packages\\ipykernel_launcher.py:15: SettingWithCopyWarning: \n",
      "A value is trying to be set on a copy of a slice from a DataFrame.\n",
      "Try using .loc[row_indexer,col_indexer] = value instead\n",
      "\n",
      "See the caveats in the documentation: http://pandas.pydata.org/pandas-docs/stable/user_guide/indexing.html#returning-a-view-versus-a-copy\n",
      "  from ipykernel import kernelapp as app\n"
     ]
    },
    {
     "name": "stdout",
     "output_type": "stream",
     "text": [
      "(18995, 38)\n"
     ]
    }
   ],
   "source": [
    "## Divide data in half\n",
    "\n",
    "X_pid_train = pd.DataFrame(columns=['pid','Age', 'Temp1','Temp2','Temp3','Temp4','Temp5','Temp6',\n",
    "                              'HR1','HR2','HR3','HR4','HR5','HR6',\n",
    "                              'Abps1','Abps2','Abps3','Abps4','Abps5','Abps6',\n",
    "                              'ABPm1','ABPm2','ABPm3','ABPm4','ABPm5','ABPm6',\n",
    "                                    'SpO21','SpO22','SpO23','SpO24','SpO25','SpO26',\n",
    "                                    'ABPd1','ABPd2','ABPd3','ABPd4','ABPd5','ABPd6'\n",
    "                                   ])\n",
    "\n",
    "Y_pid_train = pd.DataFrame(columns = df_training_label.columns)\n",
    "for pid in all_pids:\n",
    "    uniqueData = df_training_original[df_training_original['pid']==pid]\n",
    "    yResult = df_training_label[df_training_label['pid'] == pid]\n",
    "    yResult['pid'] = yResult['pid'].astype(np.float)\n",
    "    Temp = uniqueData['Temp']\n",
    "    #if Temp.isna().sum() > 3:\n",
    "    #    continue\n",
    "    HR = uniqueData['Heartrate']\n",
    "    Abps = uniqueData['ABPs']\n",
    "    Abpm = uniqueData['ABPm']\n",
    "    Abpd = uniqueData['ABPd']\n",
    "    \n",
    "    spo2 = uniqueData['SpO2']\n",
    "    pH  = uniqueData['pH']\n",
    "    DF = pd.DataFrame([[np.nan,np.nan, np.nan, np.nan,np.nan,np.nan,np.nan,np.nan,np.nan,np.nan,\n",
    "                        np.nan,np.nan, np.nan, np.nan,np.nan,np.nan,np.nan,np.nan,np.nan,np.nan,\n",
    "                        np.nan,np.nan, np.nan, np.nan,np.nan,np.nan,np.nan,np.nan,np.nan,np.nan,\n",
    "                        np.nan,np.nan, np.nan, np.nan,np.nan,np.nan,np.nan,np.nan]],\n",
    "                      columns=['pid','Age', 'Temp1','Temp2','Temp3','Temp4','Temp5','Temp6',\n",
    "                              'HR1','HR2','HR3','HR4','HR5','HR6',\n",
    "                              'Abps1','Abps2','Abps3','Abps4','Abps5','Abps6',\n",
    "                              'ABPm1','ABPm2','ABPm3','ABPm4','ABPm5','ABPm6',\n",
    "                                    'SpO21','SpO22','SpO23','SpO24','SpO25','SpO26',\n",
    "                                    'ABPd1','ABPd2','ABPd3','ABPd4','ABPd5','ABPd6'\n",
    "                                   ])\n",
    "\n",
    "    DF['pid'] = uniqueData['pid'].iloc[0]\n",
    "    DF['Age'] = uniqueData['Age'].iloc[0]\n",
    "    for i in range(0,6):\n",
    "        DF['Temp' + str(i+1)] = Temp.iloc[2*i]\n",
    "        DF['HR' + str(i+1)] = HR.iloc[2*i]\n",
    "        DF['Abps' + str(i+1)] = Abps.iloc[2*i]\n",
    "        DF['ABPm' + str(i+1)] = Abpm.iloc[2*i]\n",
    "        DF['SpO2' + str(i+1)] = spo2.iloc[2*i]\n",
    "        DF['ABPd' + str(i+1)] = Abpd.iloc[2*i]\n",
    "\n",
    "#        DF['pH' + str(i+1)] = pH.iloc[2*i]\n",
    "\n",
    "    X_pid_train = pd.concat([X_pid_train, DF])\n",
    "    Y_pid_train = pd.concat([Y_pid_train, yResult])\n",
    "print(X_pid_train.shape)\n"
   ]
  },
  {
   "cell_type": "code",
   "execution_count": 361,
   "metadata": {},
   "outputs": [
    {
     "name": "stderr",
     "output_type": "stream",
     "text": [
      "C:\\Users\\Oliver\\Anaconda3\\lib\\site-packages\\ipykernel_launcher.py:16: SettingWithCopyWarning: \n",
      "A value is trying to be set on a copy of a slice from a DataFrame.\n",
      "Try using .loc[row_indexer,col_indexer] = value instead\n",
      "\n",
      "See the caveats in the documentation: http://pandas.pydata.org/pandas-docs/stable/user_guide/indexing.html#returning-a-view-versus-a-copy\n",
      "  app.launch_new_instance()\n"
     ]
    },
    {
     "name": "stdout",
     "output_type": "stream",
     "text": [
      "(18995, 20)\n"
     ]
    }
   ],
   "source": [
    "# Only take every third datapoint\n",
    "\n",
    "X_pid_train = pd.DataFrame(columns=['pid','Age', \n",
    "                                    'Temp1','Temp2','Temp3',\n",
    "                              'HR1','HR2','HR3',\n",
    "                              'Abps1','Abps2','Abps3',\n",
    "                              'ABPm1','ABPm2','ABPm3',\n",
    "                                    'SpO21','SpO22','SpO23',\n",
    "                                    'ABPd1','ABPd2','ABPd3'\n",
    "                                   ])\n",
    "\n",
    "Y_pid_train = pd.DataFrame(columns = df_training_label.columns)\n",
    "for pid in all_pids[:100000]:\n",
    "    uniqueData = df_training_original[df_training_original['pid']==pid]\n",
    "    yResult = df_training_label[df_training_label['pid'] == pid]\n",
    "    yResult['pid'] = yResult['pid'].astype(np.float)\n",
    "    Temp = uniqueData['Temp']\n",
    "    #if Temp.isna().sum() > 3:\n",
    "    #    continue\n",
    "    HR = uniqueData['Heartrate']\n",
    "    Abps = uniqueData['ABPs']\n",
    "    Abpm = uniqueData['ABPm']\n",
    "    Abpd = uniqueData['ABPd']\n",
    "    spo2 = uniqueData['SpO2']\n",
    "    #pH  = uniqueData['pH']\n",
    "    \n",
    "    DF = pd.DataFrame([[np.nan, np.nan, np.nan, np.nan,np.nan,np.nan,np.nan,np.nan,np.nan,np.nan,\n",
    "                        np.nan,np.nan, np.nan, np.nan,np.nan,np.nan,np.nan,np.nan,np.nan,np.nan]],\n",
    "                      columns=['pid','Age', \n",
    "                              'Temp1','Temp2','Temp3',\n",
    "                              'HR1','HR2','HR3',\n",
    "                              'Abps1','Abps2','Abps3',\n",
    "                              'ABPm1','ABPm2','ABPm3',\n",
    "                              'SpO21','SpO22','SpO23',\n",
    "                              'ABPd1','ABPd2','ABPd3'])\n",
    "\n",
    "    DF['pid'] = uniqueData['pid'].iloc[0]\n",
    "    DF['Age'] = uniqueData['Age'].iloc[0]\n",
    "    for i, j in enumerate([0,5,11]):\n",
    "        DF['Temp' + str(i+1)] = Temp.iloc[j]\n",
    "        DF['HR' + str(i+1)] = HR.iloc[j]\n",
    "        DF['Abps' + str(i+1)] = Abps.iloc[j]\n",
    "        DF['ABPm' + str(i+1)] = Abpm.iloc[j]\n",
    "        DF['SpO2' + str(i+1)] = spo2.iloc[j]\n",
    "        DF['ABPd' + str(i+1)] = Abpd.iloc[j]\n",
    "\n",
    "#        DF['pH' + str(i+1)] = pH.iloc[2*i]\n",
    "    X_pid_train = pd.concat([X_pid_train, DF])\n",
    "    Y_pid_train = pd.concat([Y_pid_train, yResult])\n",
    "print(X_pid_train.shape)"
   ]
  },
  {
   "cell_type": "code",
   "execution_count": 610,
   "metadata": {},
   "outputs": [
    {
     "name": "stdout",
     "output_type": "stream",
     "text": [
      "     pid   Age  Temp1  Temp2  Temp3  Temp4  Temp5  Temp6   HR1    HR2  ...  \\\n",
      "0      1  34.0   36.0   36.0    NaN   37.0    NaN    NaN  94.0   92.0  ...   \n",
      "0     10  71.0    NaN    NaN   36.0    NaN   36.0    NaN   NaN   83.0  ...   \n",
      "0    100  68.0   35.0   36.0   36.0    NaN   38.0    NaN  94.0   94.0  ...   \n",
      "0   1000  79.0    NaN   36.0   36.0   37.0   37.0   38.0   NaN  110.0  ...   \n",
      "0  10000  76.0    NaN   37.0    NaN    NaN    NaN    NaN   NaN   66.0  ...   \n",
      "\n",
      "   SpO23  SpO24  SpO25  SpO26  ABPd1  ABPd2  ABPd3  ABPd4  ABPd5  ABPd6  \n",
      "0  100.0  100.0  100.0  100.0   61.0   59.0   48.0   46.0   47.0   49.0  \n",
      "0   98.0   98.0   96.0   99.0    NaN   92.0   76.0   73.0   85.0   80.0  \n",
      "0   97.0   96.0   92.0   97.0   74.0   54.0   65.0   68.0   61.0   64.0  \n",
      "0   98.0  100.0  100.0  100.0    NaN   63.0   55.5   69.0   65.0   57.0  \n",
      "0   98.0   99.0   98.0   97.0    NaN   43.0   47.5   51.0   47.0   52.5  \n",
      "\n",
      "[5 rows x 38 columns]\n"
     ]
    }
   ],
   "source": [
    "print(X_pid_train.head())"
   ]
  },
  {
   "cell_type": "code",
   "execution_count": 611,
   "metadata": {},
   "outputs": [
    {
     "name": "stdout",
     "output_type": "stream",
     "text": [
      "           pid   Age      Temp1      Temp2      Temp3      Temp4      Temp5  \\\n",
      "0          1.0  34.0  36.000000  36.000000  36.835235  37.000000  37.014294   \n",
      "1         10.0  71.0  36.326348  36.568081  36.000000  36.966159  36.000000   \n",
      "2        100.0  68.0  35.000000  36.000000  36.000000  36.966159  38.000000   \n",
      "3       1000.0  79.0  36.326348  36.000000  36.000000  37.000000  37.000000   \n",
      "4      10000.0  76.0  36.326348  37.000000  36.835235  36.966159  37.014294   \n",
      "...        ...   ...        ...        ...        ...        ...        ...   \n",
      "18990   9993.0  80.0  36.326348  36.568081  36.835235  36.966159  37.014294   \n",
      "18991   9995.0  73.0  36.326348  36.568081  36.000000  36.966159  36.000000   \n",
      "18992   9996.0  53.0  37.000000  37.000000  36.835235  36.966159  38.000000   \n",
      "18993   9998.0  89.0  36.326348  36.000000  36.000000  37.000000  37.000000   \n",
      "18994   9999.0  85.0  36.326348  36.568081  36.835235  36.000000  37.014294   \n",
      "\n",
      "           Temp6       HR1    HR2  ...       SpO23  SpO24       SpO25  SpO26  \\\n",
      "0      37.054522  94.00000   92.0  ...  100.000000  100.0  100.000000  100.0   \n",
      "1      37.054522  85.38835   83.0  ...   98.000000   98.0   96.000000   99.0   \n",
      "2      37.054522  94.00000   94.0  ...   97.000000   96.0   92.000000   97.0   \n",
      "3      38.000000  85.38835  110.0  ...   98.000000  100.0  100.000000  100.0   \n",
      "4      37.054522  85.38835   66.0  ...   98.000000   99.0   98.000000   97.0   \n",
      "...          ...       ...    ...  ...         ...    ...         ...    ...   \n",
      "18990  37.054522  85.38835  132.0  ...  100.000000  100.0  100.000000  100.0   \n",
      "18991  37.054522  85.38835   65.0  ...   97.000000   90.0   93.000000   94.0   \n",
      "18992  37.054522  86.00000   95.0  ...  100.000000  100.0   96.000000  100.0   \n",
      "18993  37.000000  85.38835  106.0  ...  100.000000  100.0  100.000000  100.0   \n",
      "18994  37.054522  85.38835   75.0  ...   97.724785   96.0   97.517713   98.0   \n",
      "\n",
      "           ABPd1      ABPd2      ABPd3      ABPd4     ABPd5      ABPd6  \n",
      "0      61.000000  59.000000  48.000000  46.000000  47.00000  49.000000  \n",
      "1      62.512716  92.000000  76.000000  73.000000  85.00000  80.000000  \n",
      "2      74.000000  54.000000  65.000000  68.000000  61.00000  64.000000  \n",
      "3      62.512716  63.000000  55.500000  69.000000  65.00000  57.000000  \n",
      "4      62.512716  43.000000  47.500000  51.000000  47.00000  52.500000  \n",
      "...          ...        ...        ...        ...       ...        ...  \n",
      "18990  62.512716  80.500000  65.000000  67.500000  69.00000  70.000000  \n",
      "18991  62.512716  65.342813  64.425743  63.742642  63.29388  63.012494  \n",
      "18992  65.500000  58.000000  62.000000  49.500000  52.00000  53.500000  \n",
      "18993  62.512716  56.000000  66.000000  49.000000  58.00000  49.000000  \n",
      "18994  62.512716  89.000000  64.425743  63.742642  63.29388  63.012494  \n",
      "\n",
      "[18995 rows x 38 columns]\n"
     ]
    }
   ],
   "source": [
    "my_imputer = SimpleImputer(strategy='mean')\n",
    "imputed_X_train_plus = pd.DataFrame(my_imputer.fit_transform(X_pid_train))\n",
    "imputed_X_train_plus.columns = X_pid_train.columns\n",
    "print(imputed_X_train_plus)"
   ]
  },
  {
   "cell_type": "code",
   "execution_count": 612,
   "metadata": {},
   "outputs": [
    {
     "data": {
      "image/png": "[encoded data removed]",
      "text/plain": [
       "<Figure size 1440x576 with 2 Axes>"
      ]
     },
     "metadata": {
      "needs_background": "light"
     },
     "output_type": "display_data"
    }
   ],
   "source": [
    "plt.figure(figsize=(20,8))\n",
    "corr = all_pid_train[all_pid_train.columns[3:31]].corr()\n",
    "ax = sns.heatmap(\n",
    "    corr, \n",
    "    vmin=-1, vmax=1, center=0,\n",
    "    cmap=sns.diverging_palette(20, 220, n=200),\n",
    "    square=True\n",
    ")\n",
    "ax.set_xticklabels(\n",
    "    ax.get_xticklabels(),\n",
    "    rotation=45,\n",
    "    horizontalalignment='right'\n",
    ");"
   ]
  },
  {
   "cell_type": "code",
   "execution_count": 636,
   "metadata": {},
   "outputs": [
    {
     "name": "stdout",
     "output_type": "stream",
     "text": [
      "(11129, 38)\n"
     ]
    },
    {
     "name": "stderr",
     "output_type": "stream",
     "text": [
      "C:\\Users\\Oliver\\Anaconda3\\lib\\site-packages\\sklearn\\neural_network\\multilayer_perceptron.py:566: ConvergenceWarning: Stochastic Optimizer: Maximum iterations (200) reached and the optimization hasn't converged yet.\n",
      "  % self.max_iter, ConvergenceWarning)\n"
     ]
    },
    {
     "data": {
      "text/plain": [
       "MLPClassifier(activation='relu', alpha=1e-05, batch_size='auto', beta_1=0.9,\n",
       "              beta_2=0.999, early_stopping=False, epsilon=1e-08,\n",
       "              hidden_layer_sizes=(100, 100), learning_rate='constant',\n",
       "              learning_rate_init=0.001, max_iter=200, momentum=0.9,\n",
       "              n_iter_no_change=10, nesterovs_momentum=True, power_t=0.5,\n",
       "              random_state=1, shuffle=True, solver='sgd', tol=0.0001,\n",
       "              validation_fraction=0.1, verbose=False, warm_start=False)"
      ]
     },
     "execution_count": 636,
     "metadata": {},
     "output_type": "execute_result"
    }
   ],
   "source": [
    "\n",
    "#regr = LinearSVC(C=1, fit_intercept=False, multi_class='cramer_singer')\n",
    "\n",
    "# Drop rows that contain 0 for all y targets (get rid of a lot of negatives)\n",
    "cols = df_training_label.columns\n",
    "indices = [df_training_label.iloc[x,:].name for x in range(0, len(df_training_label)) if not(df_training_label.iloc[x,1:12] == [0.0,0.0,0.0,0.0,0.0,0.0,0.0,0.0,0.0,0.0,0.0]).all()]\n",
    "df_training2 = df_training_label.loc[indices,:]\n",
    "X_filtered = imputed_X_train_plus.copy()\n",
    "X_norm = X_filtered.copy()\n",
    "X_norm = X_norm[X_norm['pid'].isin(list(df_training2['pid']))]\n",
    "y_pid_fit = Y_pid_train[Y_pid_train['pid'].isin(list(df_training2['pid']))]\n",
    "y_pid_fit = y_pid_fit.reset_index(drop=True)\n",
    "\n",
    "# Normalize the data\n",
    "X_norm.iloc[:,1:] = StandardScaler().fit_transform(X_norm.iloc[:,1:])\n",
    "X_norm = pd.DataFrame(X_norm)\n",
    "X_norm = X_norm.reset_index(drop=True)\n",
    "X_norm.columns = X_filtered.columns\n",
    "print(X_norm.shape)\n",
    "\n",
    "\n",
    "\n",
    "# Train MLPClassifier\n",
    "#regr =   KNeighborsClassifier(3)\n",
    "regr = MLPClassifier(alpha=1e-5,hidden_layer_sizes=(100,100), random_state=1, solver='sgd', max_iter=200)\n",
    "#regr = RidgeClassifierCV()\n",
    "#regr = RandomForestClassifier()\n",
    "\n",
    "regr.fit(np.array(X_norm.iloc[:11000,1:]), np.array(y_pid_fit.iloc[:11000,1:11]))\n"
   ]
  },
  {
   "cell_type": "code",
   "execution_count": 638,
   "metadata": {},
   "outputs": [
    {
     "data": {
      "text/plain": [
       "0.6701656409736738"
      ]
     },
     "execution_count": 638,
     "metadata": {},
     "output_type": "execute_result"
    }
   ],
   "source": [
    "f = regr.predict_proba(X_norm.iloc[11000:,1:])\n",
    "\n",
    "f = pd.DataFrame(f)\n",
    "\n",
    "f.columns = Y_pid_train.columns[1:11]\n",
    "f['pid'] = X_norm.iloc[11000:,0].reset_index(drop=True)\n",
    "f['LABEL_Sepsis'] = np.nan\n",
    "f['LABEL_RRate'] = np.nan\n",
    "f['LABEL_ABPm'] = np.nan\n",
    "f['LABEL_SpO2'] = np.nan\n",
    "f['LABEL_Heartrate'] = np.nan\n",
    "f = f[Y_pid_train.columns]\n",
    "get_score(y_pid_fit.iloc[11000:,:], f)"
   ]
  },
  {
   "cell_type": "code",
   "execution_count": null,
   "metadata": {},
   "outputs": [],
   "source": [
    "#mit daten in 3 geteilt 0.6663326701565544 (50,50)\n",
    "# mit 6 datenpunkten 0.6733103690366024 mit netz (100,100)"
   ]
  },
  {
   "cell_type": "code",
   "execution_count": 543,
   "metadata": {},
   "outputs": [],
   "source": [
    "import sklearn.metrics as metrics\n",
    "\n",
    "TESTS = ['LABEL_BaseExcess', 'LABEL_Fibrinogen', 'LABEL_AST', 'LABEL_Alkalinephos', 'LABEL_Bilirubin_total',\n",
    "         'LABEL_Lactate', 'LABEL_TroponinI', 'LABEL_SaO2',\n",
    "         'LABEL_Bilirubin_direct', 'LABEL_EtCO2']\n",
    "def get_score(df_true, df_submission):\n",
    "    df_submission = df_submission.sort_values('pid')\n",
    "    df_true = df_true.sort_values('pid')\n",
    "    \n",
    "    task1 = np.mean([metrics.roc_auc_score(df_true[entry], df_submission[entry]) for entry in TESTS])\n",
    "    #task2 = metrics.roc_auc_score(df_true['LABEL_Sepsis'], df_submission['LABEL_Sepsis'])\n",
    "    #task3 = np.mean([0.5 + 0.5 * np.maximum(0, metrics.r2_score(df_true[entry], df_submission[entry])) for entry in VITALS])\n",
    "    #score = np.mean([task1, task2, task3])\n",
    "    return task1"
   ]
  },
  {
   "cell_type": "code",
   "execution_count": null,
   "metadata": {},
   "outputs": [],
   "source": []
  },
  {
   "cell_type": "code",
   "execution_count": null,
   "metadata": {},
   "outputs": [],
   "source": []
  }
 ],
 "metadata": {
  "kernelspec": {
   "display_name": "Python 3",
   "language": "python",
   "name": "python3"
  },
  "language_info": {
   "codemirror_mode": {
    "name": "ipython",
    "version": 3
   },
   "file_extension": ".py",
   "mimetype": "text/x-python",
   "name": "python",
   "nbconvert_exporter": "python",
   "pygments_lexer": "ipython3",
   "version": "3.7.4"
  }
 },
 "nbformat": 4,
 "nbformat_minor": 2
}
