{
 "cells": [
  {
   "cell_type": "code",
   "execution_count": 1,
   "metadata": {},
   "outputs": [],
   "source": [
    "import numpy as np\n",
    "import pandas as pd\n",
    "import os\n",
    "# explicitly require this experimental feature\n",
    "from sklearn.experimental import enable_iterative_imputer  # noqa\n",
    "# now you can import normally from sklearn.impute\n",
    "from sklearn.impute import IterativeImputer, SimpleImputer\n",
    "from sklearn.metrics import mean_absolute_error\n",
    "from sklearn.svm import LinearSVR, SVR, SVC,LinearSVC\n",
    "from sklearn.datasets import make_regression\n",
    "from sklearn.preprocessing import normalize \n",
    "import matplotlib.pyplot as plt\n",
    "import seaborn as sns\n",
    "from sklearn.feature_selection import RFE\n",
    "from sklearn.linear_model import LogisticRegression, RidgeClassifier, RidgeClassifierCV\n",
    "from sklearn.neural_network import MLPClassifier, MLPRegressor\n",
    "from sklearn.ensemble import RandomForestClassifier\n",
    "from sklearn.model_selection import train_test_split\n",
    "from utils import dataset_imputer, get_score"
   ]
  },
  {
   "cell_type": "code",
   "execution_count": 2,
   "metadata": {},
   "outputs": [],
   "source": [
    "# Read in data\n",
    "df_training_features = pd.read_csv('train_features.csv')\n",
    "df_training_labels = pd.read_csv('train_labels.csv')\n",
    "all_pids = [pid for pid in df_training_features['pid'].unique()]\n",
    "\n",
    "pids_train, pids_val = train_test_split(all_pids, test_size = 0.1)"
   ]
  },
  {
   "cell_type": "code",
   "execution_count": 3,
   "metadata": {},
   "outputs": [],
   "source": [
    "# def getPatientData(trainingData, pids, patients=0, mode='pid'):\n",
    "#     if mode == 'number':\n",
    "#         pids = all_pids[:patients]\n",
    "#     if len(pids) == 0:\n",
    "#         return trainingData\n",
    "#     #pids = np.array(pids).astype(np.float)\n",
    "#     patients = [trainingData.iloc[idx] for idx in range(0, len(trainingData)) if trainingData['pid'][idx] in pids]    \n",
    "#     #patientTrainingDataIndex = [trainingData.iloc[idx] for idx, col in enumerate(trainingData) if trainingData['pid'][idx] in pids]    \n",
    "#     return pd.DataFrame(patients)\n",
    "\n",
    "# def partitionData(trainingDataPids, trainingPartition=80):\n",
    "#     validationPartition = 100 - trainingPartition\n",
    "#     countTraining = int((trainingPartition/100)*len(trainingDataPids))\n",
    "#     training = trainingDataPids[:countTraining]\n",
    "#     validation = trainingDataPids[countTraining:]\n",
    "#     print('')\n",
    "#     print('Training size: ' + str(countTraining))\n",
    "#     print('Validation size: ' + str(len(validation)))\n",
    "#     return training, validation\n",
    "\n",
    "# def populateData(X,Y):\n",
    "#     Z = pd.merge(X, Y, on='pid')\n",
    "#     YData = Z[Y.columns].iloc[:,1:]\n",
    "#     XData = Z[X.columns].iloc[:,1:]\n",
    "#     return XData, YData\n",
    "# import sklearn.metrics as metrics\n",
    "\n",
    "# TESTS = ['LABEL_BaseExcess', 'LABEL_Fibrinogen', 'LABEL_AST', 'LABEL_Alkalinephos', 'LABEL_Bilirubin_total',\n",
    "#          'LABEL_Lactate', 'LABEL_TroponinI', 'LABEL_SaO2',\n",
    "#          'LABEL_Bilirubin_direct', 'LABEL_EtCO2']\n",
    "\n",
    "# VITALS = ['LABEL_RRate', 'LABEL_ABPm', 'LABEL_SpO2', 'LABEL_Heartrate']\n",
    "\n",
    "# #def get_score(df_true, df_submission):\n",
    "#     df_submission = df_submission.sort_values('pid')\n",
    "#     df_true = df_true.sort_values('pid')\n",
    "    \n",
    "#     #task1 = np.mean([metrics.roc_auc_score(df_true[entry], df_submission[entry]) for entry in TESTS])\n",
    "#     #task2 = metrics.roc_auc_score(df_true['LABEL_Sepsis'], df_submission['LABEL_Sepsis'])\n",
    "#     task3 = np.mean([0.5 + 0.5 * np.maximum(0, metrics.r2_score(df_true[entry], df_submission[entry])) for entry in VITALS])\n",
    "#     #score = np.mean([task1, task2, task3])\n",
    "#     return task3"
   ]
  },
  {
   "cell_type": "code",
   "execution_count": 4,
   "metadata": {},
   "outputs": [
    {
     "name": "stdout",
     "output_type": "stream",
     "text": [
      "0.0 %\n",
      "10.0 %\n",
      "20.0 %\n",
      "30.0 %\n",
      "40.0 %\n",
      "50.0 %\n",
      "60.0 %\n",
      "70.0 %\n",
      "80.0 %\n",
      "90.0 %\n",
      "100.0 % - completed\n",
      "\n",
      "0.0 %\n",
      "10.0 %\n",
      "20.0 %\n",
      "30.0 %\n",
      "40.0 %\n",
      "50.0 %\n",
      "60.0 %\n",
      "70.0 %\n",
      "80.0 %\n",
      "90.0 %\n",
      "100.0 % - completed\n",
      "\n"
     ]
    }
   ],
   "source": [
    "X_pid_train = dataset_imputer(df_training_features, method='mean', pid_list=pids_train, fillna=True)\n",
    "X_pid_val = dataset_imputer(df_training_features, method='mean', pid_list=pids_val, fillna=True)"
   ]
  },
  {
   "cell_type": "code",
   "execution_count": 5,
   "metadata": {
    "scrolled": true
   },
   "outputs": [
    {
     "name": "stdout",
     "output_type": "stream",
     "text": [
      "100.0 % - completed\n",
      "\n",
      "100.0 % - completed\n",
      "\n"
     ]
    }
   ],
   "source": [
    "Y_pid_train = dataset_imputer(df_training_labels, method=None, pid_list=pids_train, fillna=True)\n",
    "Y_pid_val = dataset_imputer(df_training_labels, method=None, pid_list=pids_val, fillna=True)"
   ]
  },
  {
   "cell_type": "code",
   "execution_count": 6,
   "metadata": {},
   "outputs": [
    {
     "name": "stdout",
     "output_type": "stream",
     "text": [
      "   pid   Age       Temp      RRate  Heartrate        ABPm        SpO2\n",
      "0  1.0  34.0  36.750000  17.000000  77.083333   68.333333  100.000000\n",
      "0  2.0  86.0  36.000000  18.000000  59.000000   94.636364   96.000000\n",
      "0  4.0  66.0  36.666667  14.636364  72.545455   80.909091   99.272727\n",
      "0  6.0  66.0  37.166667  15.833333  87.333333   65.750000   99.333333\n",
      "0  8.0  42.0  36.000000  17.181818  81.181818  143.900000   97.800000\n",
      "****************************************************************************************************\n",
      "       pid  LABEL_RRate  LABEL_ABPm  LABEL_SpO2  LABEL_Heartrate\n",
      "0        1         12.1        85.4       100.0             59.9\n",
      "6622     2         20.4        99.1        95.4             65.8\n",
      "15008    4         17.8        78.8        97.4             71.8\n",
      "16335    6         17.9        75.1        97.3             80.7\n",
      "17676    8         18.7       112.8        97.0             92.6\n"
     ]
    }
   ],
   "source": [
    "#x_train = X_pid_train[['pid', 'PTT', 'HCO3', 'BaseExcess', 'PaCO2', 'FiO2', 'SaO2','Chloride', 'Hct', 'pH']]\n",
    "x_train, x_val = X_pid_train.copy(), X_pid_val.copy()\n",
    "y_train, y_val = Y_pid_train.copy(), Y_pid_val.copy()\n",
    "\n",
    "feature_columns = ['pid','Age','Temp','RRate','Heartrate','ABPm','SpO2']\n",
    "\n",
    "x_train, x_val = x_train[feature_columns], x_val[feature_columns]\n",
    "\n",
    "label_columns = ['pid', 'LABEL_RRate',  'LABEL_ABPm',  'LABEL_SpO2', 'LABEL_Heartrate']\n",
    "\n",
    "y_train, y_val = y_train[label_columns], y_val[label_columns]\n",
    "\n",
    "print(x_train.head())\n",
    "print('*'*100)\n",
    "print(y_train.head())"
   ]
  },
  {
   "cell_type": "code",
   "execution_count": 7,
   "metadata": {},
   "outputs": [
    {
     "name": "stdout",
     "output_type": "stream",
     "text": [
      "(17095, 7)\n",
      "(17095, 5)\n"
     ]
    }
   ],
   "source": [
    "print(x_train.shape)\n",
    "print(y_train.shape)"
   ]
  },
  {
   "cell_type": "code",
   "execution_count": null,
   "metadata": {},
   "outputs": [],
   "source": [
    "\n"
   ]
  },
  {
   "cell_type": "code",
   "execution_count": 8,
   "metadata": {},
   "outputs": [
    {
     "name": "stdout",
     "output_type": "stream",
     "text": [
      "20.71226311778017\n"
     ]
    }
   ],
   "source": [
    "# Train MLPClassifier\n",
    "#regr =   KNeighborsClassifier(3)\n",
    "regr = MLPRegressor(alpha=1e-4, hidden_layer_sizes=(200,200,200), random_state=1, solver='adam', max_iter=200)\n",
    "#regr = RidgeClassifierCV()\n",
    "#regr = RandomForestClassifier()\n",
    "regr.fit(x_train.iloc[:,1:], y_train.iloc[:,1:])\n",
    "print(regr.loss_)"
   ]
  },
  {
   "cell_type": "code",
   "execution_count": 9,
   "metadata": {},
   "outputs": [
    {
     "name": "stdout",
     "output_type": "stream",
     "text": [
      "    pid   Age       Temp      RRate   Heartrate        ABPm        SpO2\n",
      "0   1.0  34.0  36.750000  17.000000   77.083333   68.333333  100.000000\n",
      "0   2.0  86.0  36.000000  18.000000   59.000000   94.636364   96.000000\n",
      "0   4.0  66.0  36.666667  14.636364   72.545455   80.909091   99.272727\n",
      "0   6.0  66.0  37.166667  15.833333   87.333333   65.750000   99.333333\n",
      "0   8.0  42.0  36.000000  17.181818   81.181818  143.900000   97.800000\n",
      "0  10.0  71.0  36.000000  18.090909   78.818182  101.727273   98.000000\n",
      "0  13.0  73.0  37.600000  16.583333   82.833333   79.916667   99.833333\n",
      "0  14.0  37.0  36.666667  18.333333   85.285714   82.833333   94.666667\n",
      "0  20.0  77.0  37.000000  32.444444  115.454545   91.181818   98.000000\n",
      "0  23.0  82.0   0.000000  12.583333   82.583333   85.500000  100.000000\n",
      "0  24.0  85.0  36.083333  11.333333   80.833333   66.250000   99.181818\n",
      "0  26.0  82.0  37.100000  12.666667   81.100000   79.200000   97.500000\n",
      "0  27.0  58.0  37.333333  20.333333   98.333333   94.916667   95.416667\n",
      "0  29.0  55.0  37.000000  18.700000   82.545455   74.727273   94.727273\n",
      "0  30.0  81.0  37.111111  17.875000   66.222222   79.111111   99.666667\n",
      "0  31.0  67.0  36.000000  17.583333   79.500000   93.833333   95.000000\n",
      "0  33.0  69.0  36.250000  16.777778   52.300000   74.100000   96.900000\n",
      "0  34.0  75.0  35.750000  14.444444   65.222222   68.000000   99.555556\n",
      "0  35.0  31.0  37.333333  14.300000   76.272727  100.545455   96.363636\n",
      "0  37.0  61.0  36.250000  18.454545   98.636364  117.545455   97.454545\n",
      "       pid  LABEL_RRate  LABEL_ABPm  LABEL_SpO2  LABEL_Heartrate\n",
      "0        1         12.1        85.4       100.0             59.9\n",
      "6622     2         20.4        99.1        95.4             65.8\n",
      "15008    4         17.8        78.8        97.4             71.8\n",
      "16335    6         17.9        75.1        97.3             80.7\n",
      "17676    8         18.7       112.8        97.0             92.6\n",
      "1       10         17.8       100.6        95.5             85.5\n",
      "2018    13         18.7        90.1        96.9             85.4\n",
      "2678    14         20.9        82.3        98.6             81.1\n",
      "6623    20         41.1        86.9        96.8            120.9\n",
      "8638    23         15.0        62.7        97.9             67.8\n",
      "9311    24         25.9        69.8        99.1             89.7\n",
      "10637   26         18.7        73.6        97.0             93.9\n",
      "11292   27         20.1        76.9        89.7            103.0\n",
      "12640   29         17.8        69.1        95.3             74.0\n",
      "13314   30         17.9        75.1        99.6             62.9\n",
      "13968   31         13.4        94.4        96.4             73.4\n",
      "14501   33         21.2        87.9        92.2             80.0\n",
      "14574   34         15.8        76.9        97.1             89.6\n",
      "14648   35         16.7        89.3        96.0             73.8\n",
      "14790   37         17.7        83.4        96.4             68.5\n"
     ]
    }
   ],
   "source": [
    "print(x_train.iloc[:20,:])\n",
    "print(y_train.iloc[:20,:])"
   ]
  },
  {
   "cell_type": "code",
   "execution_count": 10,
   "metadata": {},
   "outputs": [],
   "source": [
    "import sklearn.metrics as metrics"
   ]
  },
  {
   "cell_type": "code",
   "execution_count": 13,
   "metadata": {},
   "outputs": [
    {
     "name": "stdout",
     "output_type": "stream",
     "text": [
      "0.7015760375674231\n",
      "(array([       nan,        nan, 0.70157604]), 0.7015760375674231)\n"
     ]
    }
   ],
   "source": [
    "\n",
    "f = regr.predict(x_val.iloc[:,1:])\n",
    "f = pd.DataFrame(f)\n",
    "f.columns = list(y_val.columns[1:])\n",
    "f['pid'] = x_val.iloc[:,0].reset_index(drop=True)\n",
    "\n",
    "print(get_score(y_val, f, tasks=['task3']))\n",
    "\n",
    "# VITALS = ['LABEL_RRate', 'LABEL_ABPm', 'LABEL_SpO2', 'LABEL_Heartrate']\n",
    "\n",
    "# print(np.mean([0.5 + 0.5 * np.maximum(0, metrics.r2_score(y_val[entry], f[entry])) for entry in VITALS]))"
   ]
  },
  {
   "cell_type": "code",
   "execution_count": null,
   "metadata": {},
   "outputs": [],
   "source": []
  }
 ],
 "metadata": {
  "kernelspec": {
   "display_name": "Python 3",
   "language": "python",
   "name": "python3"
  },
  "language_info": {
   "codemirror_mode": {
    "name": "ipython",
    "version": 3
   },
   "file_extension": ".py",
   "mimetype": "text/x-python",
   "name": "python",
   "nbconvert_exporter": "python",
   "pygments_lexer": "ipython3",
   "version": "3.7.0"
  }
 },
 "nbformat": 4,
 "nbformat_minor": 2
}
