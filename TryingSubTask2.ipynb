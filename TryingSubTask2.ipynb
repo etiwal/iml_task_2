{
 "cells": [
  {
   "cell_type": "code",
   "execution_count": 11,
   "metadata": {},
   "outputs": [],
   "source": [
    "import numpy as np\n",
    "import pandas as pd\n",
    "import os\n",
    "# explicitly require this experimental feature\n",
    "from sklearn.experimental import enable_iterative_imputer  # noqa\n",
    "# now you can import normally from sklearn.impute\n",
    "from sklearn.impute import IterativeImputer, SimpleImputer\n",
    "from sklearn.metrics import mean_absolute_error\n",
    "from sklearn.svm import LinearSVR, SVR, SVC,LinearSVC\n",
    "from sklearn.datasets import make_regression\n",
    "from sklearn.preprocessing import normalize \n",
    "import matplotlib.pyplot as plt\n",
    "import seaborn as sns\n",
    "from sklearn.feature_selection import RFE\n",
    "from sklearn.linear_model import LogisticRegression, RidgeClassifier, RidgeClassifierCV\n",
    "from sklearn.neural_network import MLPClassifier\n",
    "from sklearn.ensemble import RandomForestClassifier\n",
    "from sklearn.preprocessing import StandardScaler"
   ]
  },
  {
   "cell_type": "code",
   "execution_count": 2,
   "metadata": {},
   "outputs": [],
   "source": [
    "# Read in data\n",
    "df_training_original = pd.read_csv('train_features.csv')\n",
    "df_training_label = pd.read_csv('train_labels.csv')\n",
    "all_pids = [pid for pid in df_training_original['pid'].unique()]"
   ]
  },
  {
   "cell_type": "code",
   "execution_count": 3,
   "metadata": {},
   "outputs": [],
   "source": [
    "def getPatientData(trainingData, pids, patients=0, mode='pid'):\n",
    "    if mode == 'number':\n",
    "        pids = all_pids[:patients]\n",
    "    if len(pids) == 0:\n",
    "        return trainingData\n",
    "    #pids = np.array(pids).astype(np.float)\n",
    "    patients = [trainingData.iloc[idx] for idx in range(0, len(trainingData)) if trainingData['pid'][idx] in pids]    \n",
    "    #patientTrainingDataIndex = [trainingData.iloc[idx] for idx, col in enumerate(trainingData) if trainingData['pid'][idx] in pids]    \n",
    "    return pd.DataFrame(patients)\n",
    "\n",
    "def partitionData(trainingDataPids, trainingPartition=80):\n",
    "    validationPartition = 100 - trainingPartition\n",
    "    countTraining = int((trainingPartition/100)*len(trainingDataPids))\n",
    "    training = trainingDataPids[:countTraining]\n",
    "    validation = trainingDataPids[countTraining:]\n",
    "    print('')\n",
    "    print('Training size: ' + str(countTraining))\n",
    "    print('Validation size: ' + str(len(validation)))\n",
    "    return training, validation\n",
    "\n",
    "def populateData(X,Y):\n",
    "    Z = pd.merge(X, Y, on='pid')\n",
    "    YData = Z[Y.columns].iloc[:,1:]\n",
    "    XData = Z[X.columns].iloc[:,1:]\n",
    "    return XData, YData"
   ]
  },
  {
   "cell_type": "code",
   "execution_count": 4,
   "metadata": {},
   "outputs": [
    {
     "name": "stdout",
     "output_type": "stream",
     "text": [
      "Number of missing values in data:\n",
      "FiO2                3246.0\n",
      "BaseExcess          1267.0\n",
      "Creatinine           837.0\n",
      "Lactate              295.0\n",
      "Bilirubin_total      219.0\n",
      "RRate                101.0\n",
      "Magnesium             59.0\n",
      "Phosphate             59.0\n",
      "Bilirubin_direct      19.0\n",
      "Calcium               19.0\n",
      "TroponinI             11.0\n",
      "BUN                    9.0\n",
      "WBC                    8.0\n",
      "dtype: float64\n",
      "\n",
      "Training size: 15196\n",
      "Validation size: 3799\n"
     ]
    }
   ],
   "source": [
    "df_training = df_training_original.copy()\n",
    "\n",
    "# See how many values are missing in which rows\n",
    "loss = df_training_original.isnull().any()\n",
    "lossRow = df_training[df_training_original == loss].sum()\n",
    "print('Number of missing values in data:')\n",
    "print(lossRow[lossRow > 0].sort_values(ascending=False))\n",
    "\n",
    "# Filter out certain rows with a lot of missing data\n",
    "lossColumns = list(lossRow[lossRow > 100].index)\n",
    "df_training = df_training.drop(columns=lossColumns)\n",
    "\n",
    "# Set all time data to be between 1-12\n",
    "X_ALL = pd.DataFrame(columns = df_training.columns)\n",
    "if os.path.exists('x_time_adjusted.csv'):\n",
    "    X_ALL = pd.read_csv('x_time_adjusted.csv', index_col=False)\n",
    "    X_ALL = X_ALL.iloc[:,1:]\n",
    "else:\n",
    "    for pids in all_pids:\n",
    "        df_trainingTemp = df_training[df_training['pid'] == pids]\n",
    "        df_trainingTemp['Time'] = df_trainingTemp['Time'] - (df_trainingTemp['Time'].min() -1)\n",
    "        X_ALL = pd.concat([X_ALL, df_trainingTemp])\n",
    "    \n",
    "df_training = X_ALL.copy()\n",
    "# Partition data in training and validation\n",
    "trainingPIDS, validationPIDS = partitionData(all_pids)\n"
   ]
  },
  {
   "cell_type": "code",
   "execution_count": 5,
   "metadata": {},
   "outputs": [
    {
     "name": "stderr",
     "output_type": "stream",
     "text": [
      "C:\\Users\\Oliver\\Anaconda3\\lib\\site-packages\\ipykernel_launcher.py:15: SettingWithCopyWarning: \n",
      "A value is trying to be set on a copy of a slice from a DataFrame.\n",
      "Try using .loc[row_indexer,col_indexer] = value instead\n",
      "\n",
      "See the caveats in the documentation: http://pandas.pydata.org/pandas-docs/stable/user_guide/indexing.html#returning-a-view-versus-a-copy\n",
      "  from ipykernel import kernelapp as app\n"
     ]
    },
    {
     "name": "stdout",
     "output_type": "stream",
     "text": [
      "(18995, 38)\n"
     ]
    }
   ],
   "source": [
    "## Divide data in half\n",
    "\n",
    "X_pid_train = pd.DataFrame(columns=['pid','Age', 'Temp1','Temp2','Temp3','Temp4','Temp5','Temp6',\n",
    "                              'HR1','HR2','HR3','HR4','HR5','HR6',\n",
    "                              'Abps1','Abps2','Abps3','Abps4','Abps5','Abps6',\n",
    "                              'ABPm1','ABPm2','ABPm3','ABPm4','ABPm5','ABPm6',\n",
    "                                    'SpO21','SpO22','SpO23','SpO24','SpO25','SpO26',\n",
    "                                    'ABPd1','ABPd2','ABPd3','ABPd4','ABPd5','ABPd6'\n",
    "                                   ])\n",
    "\n",
    "Y_pid_train = pd.DataFrame(columns = df_training_label.columns)\n",
    "for pid in all_pids:\n",
    "    uniqueData = df_training_original[df_training_original['pid']==pid]\n",
    "    yResult = df_training_label[df_training_label['pid'] == pid]\n",
    "    yResult['pid'] = yResult['pid'].astype(np.float)\n",
    "    Temp = uniqueData['Temp']\n",
    "    #if Temp.isna().sum() > 3:\n",
    "    #    continue\n",
    "    HR = uniqueData['Heartrate']\n",
    "    Abps = uniqueData['ABPs']\n",
    "    Abpm = uniqueData['ABPm']\n",
    "    Abpd = uniqueData['ABPd']\n",
    "    \n",
    "    spo2 = uniqueData['SpO2']\n",
    "    pH  = uniqueData['pH']\n",
    "    DF = pd.DataFrame([[np.nan,np.nan, np.nan, np.nan,np.nan,np.nan,np.nan,np.nan,np.nan,np.nan,\n",
    "                        np.nan,np.nan, np.nan, np.nan,np.nan,np.nan,np.nan,np.nan,np.nan,np.nan,\n",
    "                        np.nan,np.nan, np.nan, np.nan,np.nan,np.nan,np.nan,np.nan,np.nan,np.nan,\n",
    "                        np.nan,np.nan, np.nan, np.nan,np.nan,np.nan,np.nan,np.nan]],\n",
    "                      columns=['pid','Age', 'Temp1','Temp2','Temp3','Temp4','Temp5','Temp6',\n",
    "                              'HR1','HR2','HR3','HR4','HR5','HR6',\n",
    "                              'Abps1','Abps2','Abps3','Abps4','Abps5','Abps6',\n",
    "                              'ABPm1','ABPm2','ABPm3','ABPm4','ABPm5','ABPm6',\n",
    "                                    'SpO21','SpO22','SpO23','SpO24','SpO25','SpO26',\n",
    "                                    'ABPd1','ABPd2','ABPd3','ABPd4','ABPd5','ABPd6'\n",
    "                                   ])\n",
    "\n",
    "    DF['pid'] = uniqueData['pid'].iloc[0]\n",
    "    DF['Age'] = uniqueData['Age'].iloc[0]\n",
    "    for i in range(0,6):\n",
    "        DF['Temp' + str(i+1)] = Temp.iloc[2*i]\n",
    "        DF['HR' + str(i+1)] = HR.iloc[2*i]\n",
    "        DF['Abps' + str(i+1)] = Abps.iloc[2*i]\n",
    "        DF['ABPm' + str(i+1)] = Abpm.iloc[2*i]\n",
    "        DF['SpO2' + str(i+1)] = spo2.iloc[2*i]\n",
    "        DF['ABPd' + str(i+1)] = Abpd.iloc[2*i]\n",
    "\n",
    "#        DF['pH' + str(i+1)] = pH.iloc[2*i]\n",
    "\n",
    "    X_pid_train = pd.concat([X_pid_train, DF])\n",
    "    Y_pid_train = pd.concat([Y_pid_train, yResult])\n",
    "print(X_pid_train.shape)\n"
   ]
  },
  {
   "cell_type": "code",
   "execution_count": 361,
   "metadata": {},
   "outputs": [
    {
     "name": "stderr",
     "output_type": "stream",
     "text": [
      "C:\\Users\\Oliver\\Anaconda3\\lib\\site-packages\\ipykernel_launcher.py:16: SettingWithCopyWarning: \n",
      "A value is trying to be set on a copy of a slice from a DataFrame.\n",
      "Try using .loc[row_indexer,col_indexer] = value instead\n",
      "\n",
      "See the caveats in the documentation: http://pandas.pydata.org/pandas-docs/stable/user_guide/indexing.html#returning-a-view-versus-a-copy\n",
      "  app.launch_new_instance()\n"
     ]
    },
    {
     "name": "stdout",
     "output_type": "stream",
     "text": [
      "(18995, 20)\n"
     ]
    }
   ],
   "source": [
    "# Only take every third datapoint\n",
    "\n",
    "X_pid_train = pd.DataFrame(columns=['pid','Age', \n",
    "                                    'Temp1','Temp2','Temp3',\n",
    "                              'HR1','HR2','HR3',\n",
    "                              'Abps1','Abps2','Abps3',\n",
    "                              'ABPm1','ABPm2','ABPm3',\n",
    "                                    'SpO21','SpO22','SpO23',\n",
    "                                    'ABPd1','ABPd2','ABPd3'\n",
    "                                   ])\n",
    "\n",
    "Y_pid_train = pd.DataFrame(columns = df_training_label.columns)\n",
    "for pid in all_pids[:100000]:\n",
    "    uniqueData = df_training_original[df_training_original['pid']==pid]\n",
    "    yResult = df_training_label[df_training_label['pid'] == pid]\n",
    "    yResult['pid'] = yResult['pid'].astype(np.float)\n",
    "    Temp = uniqueData['Temp']\n",
    "    #if Temp.isna().sum() > 3:\n",
    "    #    continue\n",
    "    HR = uniqueData['Heartrate']\n",
    "    Abps = uniqueData['ABPs']\n",
    "    Abpm = uniqueData['ABPm']\n",
    "    Abpd = uniqueData['ABPd']\n",
    "    spo2 = uniqueData['SpO2']\n",
    "    #pH  = uniqueData['pH']\n",
    "    \n",
    "    DF = pd.DataFrame([[np.nan, np.nan, np.nan, np.nan,np.nan,np.nan,np.nan,np.nan,np.nan,np.nan,\n",
    "                        np.nan,np.nan, np.nan, np.nan,np.nan,np.nan,np.nan,np.nan,np.nan,np.nan]],\n",
    "                      columns=['pid','Age', \n",
    "                              'Temp1','Temp2','Temp3',\n",
    "                              'HR1','HR2','HR3',\n",
    "                              'Abps1','Abps2','Abps3',\n",
    "                              'ABPm1','ABPm2','ABPm3',\n",
    "                              'SpO21','SpO22','SpO23',\n",
    "                              'ABPd1','ABPd2','ABPd3'])\n",
    "\n",
    "    DF['pid'] = uniqueData['pid'].iloc[0]\n",
    "    DF['Age'] = uniqueData['Age'].iloc[0]\n",
    "    for i, j in enumerate([0,5,11]):\n",
    "        DF['Temp' + str(i+1)] = Temp.iloc[j]\n",
    "        DF['HR' + str(i+1)] = HR.iloc[j]\n",
    "        DF['Abps' + str(i+1)] = Abps.iloc[j]\n",
    "        DF['ABPm' + str(i+1)] = Abpm.iloc[j]\n",
    "        DF['SpO2' + str(i+1)] = spo2.iloc[j]\n",
    "        DF['ABPd' + str(i+1)] = Abpd.iloc[j]\n",
    "\n",
    "#        DF['pH' + str(i+1)] = pH.iloc[2*i]\n",
    "    X_pid_train = pd.concat([X_pid_train, DF])\n",
    "    Y_pid_train = pd.concat([Y_pid_train, yResult])\n",
    "print(X_pid_train.shape)"
   ]
  },
  {
   "cell_type": "code",
   "execution_count": 153,
   "metadata": {},
   "outputs": [
    {
     "name": "stderr",
     "output_type": "stream",
     "text": [
      "C:\\Users\\Oliver\\Anaconda3\\lib\\site-packages\\ipykernel_launcher.py:18: SettingWithCopyWarning: \n",
      "A value is trying to be set on a copy of a slice from a DataFrame.\n",
      "Try using .loc[row_indexer,col_indexer] = value instead\n",
      "\n",
      "See the caveats in the documentation: http://pandas.pydata.org/pandas-docs/stable/user_guide/indexing.html#returning-a-view-versus-a-copy\n"
     ]
    },
    {
     "name": "stdout",
     "output_type": "stream",
     "text": [
      "(18995, 8)\n"
     ]
    }
   ],
   "source": [
    "# Only take every third datapoint\n",
    "def lastValue(df):\n",
    "    length = len(df)\n",
    "    for indexDF in range(1, length):\n",
    "        if np.isnan(np.float64(df.iloc[-indexDF])) == False:\n",
    "            return df.iloc[-indexDF]\n",
    "        else:\n",
    "            continue\n",
    "    \n",
    "X_pid_train = pd.DataFrame(columns=['pid','Age', \n",
    "                                    'Temp','HR','Abps','ABPm','SpO2','ABPd'\n",
    "                                   ])\n",
    "\n",
    "Y_pid_train = pd.DataFrame(columns = df_training_label.columns)\n",
    "for pid in all_pids[:100000]:\n",
    "    uniqueData = df_training_original[df_training_original['pid']==pid]\n",
    "    yResult = df_training_label[df_training_label['pid'] == pid]\n",
    "    yResult['pid'] = yResult['pid'].astype(np.float)\n",
    "    Temp = uniqueData['Temp']\n",
    "    #if Temp.isna().sum() > 3:\n",
    "    #    continue\n",
    "    HR = uniqueData['Heartrate']\n",
    "    Abps = uniqueData['ABPs']\n",
    "    Abpm = uniqueData['ABPm']\n",
    "    Abpd = uniqueData['ABPd']\n",
    "    spo2 = uniqueData['SpO2']\n",
    "    #pH  = uniqueData['pH']\n",
    "   \n",
    "    \n",
    "    DF = pd.DataFrame([[np.nan, np.nan, np.nan, np.nan,np.nan,np.nan,np.nan,np.nan]],\n",
    "                      columns=['pid','Age','Temp','HR','Abps','ABPm','SpO2','ABPd'])\n",
    "\n",
    "    DF['pid'] = uniqueData['pid'].iloc[0]\n",
    "    DF['Age'] = uniqueData['Age'].iloc[0]\n",
    "    for i, j in enumerate([11]):\n",
    "        DF['Temp'] = lastValue(Temp)\n",
    "        DF['HR'] = lastValue(HR)\n",
    "        DF['Abps'] = lastValue(Abps)\n",
    "        DF['ABPm'] = lastValue(Abpm)\n",
    "        DF['SpO2'] = lastValue(spo2)\n",
    "        DF['ABPd'] = lastValue(Abpd)\n",
    "#        DF['pH' + str(i+1)] = pH.iloc[2*i]\n",
    "    X_pid_train = pd.concat([X_pid_train, DF])\n",
    "    Y_pid_train = pd.concat([Y_pid_train, yResult])\n",
    "print(X_pid_train.shape)"
   ]
  },
  {
   "cell_type": "code",
   "execution_count": 154,
   "metadata": {},
   "outputs": [
    {
     "name": "stdout",
     "output_type": "stream",
     "text": [
      "     pid   Age  Temp     HR   Abps   ABPm   SpO2  ABPd\n",
      "0      1  34.0  38.0   69.0  102.0   53.0  100.0  39.0\n",
      "0     10  71.0  36.0   75.0  136.0  102.0   98.0  78.0\n",
      "0    100  68.0  38.0  113.0  116.0   84.0   97.0  67.0\n",
      "0   1000  79.0  38.0   79.0  125.0   71.0   95.0  55.0\n",
      "0  10000  76.0  37.0   90.0  132.0   67.0   99.0  44.0\n"
     ]
    }
   ],
   "source": [
    "print(X_pid_train.head())"
   ]
  },
  {
   "cell_type": "code",
   "execution_count": 155,
   "metadata": {},
   "outputs": [
    {
     "name": "stdout",
     "output_type": "stream",
     "text": [
      "           pid   Age  Temp     HR   Abps   ABPm   SpO2       ABPd\n",
      "0          1.0  34.0  38.0   69.0  102.0   53.0  100.0  39.000000\n",
      "1         10.0  71.0  36.0   75.0  136.0  102.0   98.0  78.000000\n",
      "2        100.0  68.0  38.0  113.0  116.0   84.0   97.0  67.000000\n",
      "3       1000.0  79.0  38.0   79.0  125.0   71.0   95.0  55.000000\n",
      "4      10000.0  76.0  37.0   90.0  132.0   67.0   99.0  44.000000\n",
      "...        ...   ...   ...    ...    ...    ...    ...        ...\n",
      "18990   9993.0  80.0  35.0  112.0  101.0   76.0  100.0  68.000000\n",
      "18991   9995.0  73.0  36.0   64.0  174.0  123.0   96.0  63.239688\n",
      "18992   9996.0  53.0  38.0   95.0   95.0   68.0  100.0  50.500000\n",
      "18993   9998.0  89.0  37.0  100.0  156.0   95.0  100.0  59.000000\n",
      "18994   9999.0  85.0  36.0   79.0  128.0   85.0   98.0  89.000000\n",
      "\n",
      "[18995 rows x 8 columns]\n"
     ]
    }
   ],
   "source": [
    "my_imputer = SimpleImputer(strategy='mean')\n",
    "imputed_X_train_plus = pd.DataFrame(my_imputer.fit_transform(X_pid_train))\n",
    "imputed_X_train_plus.columns = X_pid_train.columns\n",
    "print(imputed_X_train_plus)"
   ]
  },
  {
   "cell_type": "code",
   "execution_count": 186,
   "metadata": {},
   "outputs": [
    {
     "data": {
      "image/png": "[encoded data removed]",
      "text/plain": [
       "<Figure size 1440x576 with 2 Axes>"
      ]
     },
     "metadata": {
      "needs_background": "light"
     },
     "output_type": "display_data"
    }
   ],
   "source": [
    "y2 = y_pid_fit[['pid','LABEL_Sepsis']]\n",
    "gg3 = pd.merge(X_norm, y2 )\n",
    "\n",
    "plt.figure(figsize=(20,8))\n",
    "corr = gg3[gg3.columns[1:31]].corr()\n",
    "ax = sns.heatmap(\n",
    "    corr, \n",
    "    vmin=-1, vmax=1, center=0,\n",
    "    cmap=sns.diverging_palette(20, 220, n=200),\n",
    "    square=True\n",
    ")\n",
    "ax.set_xticklabels(\n",
    "    ax.get_xticklabels(),\n",
    "    rotation=45,\n",
    "    horizontalalignment='right'\n",
    ");"
   ]
  },
  {
   "cell_type": "code",
   "execution_count": 156,
   "metadata": {},
   "outputs": [
    {
     "name": "stdout",
     "output_type": "stream",
     "text": [
      "(11129, 8)\n"
     ]
    },
    {
     "data": {
      "text/plain": [
       "MLPClassifier(activation='relu', alpha=1e-05, batch_size='auto', beta_1=0.9,\n",
       "              beta_2=0.999, early_stopping=False, epsilon=1e-08,\n",
       "              hidden_layer_sizes=(150, 150), learning_rate='constant',\n",
       "              learning_rate_init=0.001, max_iter=200, momentum=0.9,\n",
       "              n_iter_no_change=10, nesterovs_momentum=True, power_t=0.5,\n",
       "              random_state=1, shuffle=True, solver='sgd', tol=0.0001,\n",
       "              validation_fraction=0.1, verbose=False, warm_start=False)"
      ]
     },
     "execution_count": 156,
     "metadata": {},
     "output_type": "execute_result"
    }
   ],
   "source": [
    "\n",
    "#regr = LinearSVC(C=1, fit_intercept=False, multi_class='cramer_singer')\n",
    "\n",
    "# Drop rows that contain 0 for all y targets (get rid of a lot of negatives)\n",
    "cols = df_training_label.columns\n",
    "indices = [df_training_label.iloc[x,:].name for x in range(0, len(df_training_label)) if not(df_training_label.iloc[x,1:12] == [0.0,0.0,0.0,0.0,0.0,0.0,0.0,0.0,0.0,0.0,0.0]).all()]\n",
    "df_training2 = df_training_label.loc[indices,:]\n",
    "X_filtered = imputed_X_train_plus.copy()\n",
    "X_norm = X_filtered.copy()\n",
    "X_norm = X_norm[X_norm['pid'].isin(list(df_training2['pid']))]\n",
    "y_pid_fit = Y_pid_train[Y_pid_train['pid'].isin(list(df_training2['pid']))]\n",
    "y_pid_fit = y_pid_fit.reset_index(drop=True)\n",
    "\n",
    "# Normalize the data\n",
    "X_norm.iloc[:,1:] = StandardScaler().fit_transform(X_norm.iloc[:,1:])\n",
    "X_norm = pd.DataFrame(X_norm)\n",
    "X_norm = X_norm.reset_index(drop=True)\n",
    "X_norm.columns = X_filtered.columns\n",
    "print(X_norm.shape)\n",
    "\n",
    "\n",
    "\n",
    "# Train MLPClassifier\n",
    "#regr =   KNeighborsClassifier(3)\n",
    "regr = MLPClassifier(alpha=1e-5,hidden_layer_sizes=(150,150), random_state=1, solver='sgd', max_iter=200)\n",
    "#regr = RidgeClassifierCV()\n",
    "#regr = RandomForestClassifier()\n",
    "regr.fit(np.array(X_norm.iloc[:11000,1:]), np.array(y_pid_fit.iloc[:11000,11]))\n"
   ]
  },
  {
   "cell_type": "code",
   "execution_count": 158,
   "metadata": {},
   "outputs": [
    {
     "data": {
      "text/plain": [
       "0.4430309734513274"
      ]
     },
     "execution_count": 158,
     "metadata": {},
     "output_type": "execute_result"
    }
   ],
   "source": [
    "f = regr.predict_proba(X_norm.iloc[11000:,1:])\n",
    "f = pd.DataFrame(f[:,1])\n",
    "f['pid'] = X_norm.iloc[11000:,0].reset_index(drop=True)\n",
    "f.columns = ['LABEL_Sepsis', 'pid']\n",
    "#print(f)\n",
    "#f['LABEL_Sepsis'] = np.nan\n",
    "#f['LABEL_RRate'] = np.nan\n",
    "#f['LABEL_ABPm'] = np.nan\n",
    "#f['LABEL_SpO2'] = np.nan\n",
    "#f['LABEL_Heartrate'] = np.nan\n",
    "#f = f[Y_pid_train.columns]\n",
    "get_score(y_pid_fit.iloc[11000:,:], f)"
   ]
  },
  {
   "cell_type": "code",
   "execution_count": null,
   "metadata": {},
   "outputs": [],
   "source": [
    "#mit daten in 3 geteilt 0.6663326701565544 (50,50)\n",
    "# mit 6 datenpunkten 0.5481194690265486 mit netz (100,100) 0.599004424778761 (150,150)"
   ]
  },
  {
   "cell_type": "code",
   "execution_count": 42,
   "metadata": {},
   "outputs": [],
   "source": [
    "import sklearn.metrics as metrics\n",
    "\n",
    "TESTS = ['LABEL_BaseExcess', 'LABEL_Fibrinogen', 'LABEL_AST', 'LABEL_Alkalinephos', 'LABEL_Bilirubin_total',\n",
    "         'LABEL_Lactate', 'LABEL_TroponinI', 'LABEL_SaO2',\n",
    "         'LABEL_Bilirubin_direct', 'LABEL_EtCO2']\n",
    "def get_score(df_true, df_submission):\n",
    "    df_submission = df_submission.sort_values('pid')\n",
    "    df_true = df_true.sort_values('pid')\n",
    "    \n",
    "    #task1 = np.mean([metrics.roc_auc_score(df_true[entry], df_submission[entry]) for entry in TESTS])\n",
    "    task2 = metrics.roc_auc_score(df_true['LABEL_Sepsis'], df_submission['LABEL_Sepsis'])\n",
    "    #task3 = np.mean([0.5 + 0.5 * np.maximum(0, metrics.r2_score(df_true[entry], df_submission[entry])) for entry in VITALS])\n",
    "    #score = np.mean([task1, task2, task3])\n",
    "    return task2"
   ]
  },
  {
   "cell_type": "code",
   "execution_count": 185,
   "metadata": {},
   "outputs": [
    {
     "name": "stdout",
     "output_type": "stream",
     "text": [
      "           pid  LABEL_Sepsis\n",
      "0          1.0           0.0\n",
      "1        100.0           0.0\n",
      "2       1000.0           0.0\n",
      "3      10007.0           1.0\n",
      "4      10009.0           0.0\n",
      "...        ...           ...\n",
      "11124    999.0           1.0\n",
      "11125   9993.0           0.0\n",
      "11126   9996.0           0.0\n",
      "11127   9998.0           0.0\n",
      "11128   9999.0           0.0\n",
      "\n",
      "[11129 rows x 2 columns]\n",
      "           pid       Age      Temp        HR      Abps      ABPm      SpO2  \\\n",
      "0          1.0 -1.769359  1.279899 -0.916134 -0.831303 -1.716414  0.829499   \n",
      "1        100.0  0.342271  1.279899  1.573689 -0.213021  0.175566 -0.131410   \n",
      "2       1000.0  1.025445  1.279899 -0.350265  0.184446 -0.617845 -0.772016   \n",
      "3      10007.0 -0.154583  1.279899 -1.482003 -0.213021  0.663819 -0.131410   \n",
      "4      10009.0  0.404378  0.078588  0.838059 -0.477999 -1.838477  0.188893   \n",
      "...        ...       ...       ...       ...       ...       ...       ...   \n",
      "11124    999.0  0.777018 -1.122722 -0.689787  0.047366 -2.143635  0.829499   \n",
      "11125   9993.0  1.087552 -2.324033  1.517102 -0.875466 -0.312687  0.829499   \n",
      "11126   9996.0 -0.589331  1.279899  0.555125 -1.140444 -0.800940  0.829499   \n",
      "11127   9998.0  1.646513  0.078588  0.838059  1.553499  0.846914  0.829499   \n",
      "11128   9999.0  1.398086 -1.122722 -0.350265  0.316935  0.236598  0.188893   \n",
      "\n",
      "           ABPd  LABEL_Sepsis  \n",
      "0     -1.892460           0.0  \n",
      "1      0.338901           0.0  \n",
      "2     -0.617397           0.0  \n",
      "3      0.976433           1.0  \n",
      "4      0.338901           0.0  \n",
      "...         ...           ...  \n",
      "11124  0.039236           1.0  \n",
      "11125  0.418593           0.0  \n",
      "11126 -0.976008           0.0  \n",
      "11127 -0.298631           0.0  \n",
      "11128  2.092114           0.0  \n",
      "\n",
      "[11129 rows x 9 columns]\n"
     ]
    }
   ],
   "source": [
    "\n",
    "gg = X_norm.copy()\n",
    "y2 = y_pid_fit[['pid','LABEL_Sepsis']]\n",
    "gg3 = pd.merge(X_norm, y2 )\n",
    "print(gg3)"
   ]
  },
  {
   "cell_type": "code",
   "execution_count": null,
   "metadata": {},
   "outputs": [],
   "source": []
  }
 ],
 "metadata": {
  "kernelspec": {
   "display_name": "Python 3",
   "language": "python",
   "name": "python3"
  },
  "language_info": {
   "codemirror_mode": {
    "name": "ipython",
    "version": 3
   },
   "file_extension": ".py",
   "mimetype": "text/x-python",
   "name": "python",
   "nbconvert_exporter": "python",
   "pygments_lexer": "ipython3",
   "version": "3.7.4"
  }
 },
 "nbformat": 4,
 "nbformat_minor": 2
}
