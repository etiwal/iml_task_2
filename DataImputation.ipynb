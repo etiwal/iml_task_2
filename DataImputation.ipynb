{
 "cells": [
  {
   "cell_type": "code",
   "execution_count": 2,
   "metadata": {},
   "outputs": [],
   "source": [
    "import numpy as np\n",
    "import pandas as pd\n",
    "import os"
   ]
  },
  {
   "cell_type": "code",
   "execution_count": 11,
   "metadata": {},
   "outputs": [],
   "source": [
    "df_training = pd.read_csv('train_features.csv')\n",
    "df_training_label = pd.read_csv('train_labels.csv')\n",
    "all_pids = [pid for pid in df_training['pid'].unique()]\n"
   ]
  },
  {
   "cell_type": "code",
   "execution_count": 120,
   "metadata": {},
   "outputs": [],
   "source": [
    "def getPatientData(trainingData, pids):\n",
    "    patientTrainingDataIndex = [trainingData.iloc[idx] for idx, col in enumerate(trainingData) if trainingData['pid'][idx] in pids]\n",
    "    #patientTrainingDataIndex = trainingData[trainingData['pid'] == pids]\n",
    "    \n",
    "    return pd.DataFrame(patientTrainingDataIndex)\n",
    "\n",
    "def partitionData(trainingDataPids, trainingPartition=80):\n",
    "    validationPartition = 100 - trainingPartition\n",
    "    countTraining = int((trainingPartition/100)*len(trainingDataPids))\n",
    "    training = trainingDataPids[:countTraining]\n",
    "    validation = trainingDataPids[countTraining:]\n",
    "    print('Training size: ' + str(countTraining))\n",
    "    print('Validation size: ' + str(len(validation)))\n",
    "    return training, validation\n"
   ]
  },
  {
   "cell_type": "code",
   "execution_count": 124,
   "metadata": {},
   "outputs": [
    {
     "name": "stdout",
     "output_type": "stream",
     "text": [
      "Training size: 15196\n",
      "Validation size: 3799\n"
     ]
    }
   ],
   "source": [
    "res = getPatientData(df_training[:100], [1])\n",
    "trainingPIDS, validationPIDS = partitionData(all_pids)\n"
   ]
  },
  {
   "cell_type": "code",
   "execution_count": 127,
   "metadata": {},
   "outputs": [
    {
     "name": "stdout",
     "output_type": "stream",
     "text": [
      "1\n",
      "    pid  Time   Age  EtCO2  PTT   BUN  Lactate  Temp  Hgb  HCO3  ...  \\\n",
      "0   1.0   3.0  34.0    NaN  NaN  12.0      NaN  36.0  8.7  24.0  ...   \n",
      "1   1.0   4.0  34.0    NaN  NaN   NaN      NaN  36.0  NaN   NaN  ...   \n",
      "2   1.0   5.0  34.0    NaN  NaN   NaN      NaN  36.0  NaN   NaN  ...   \n",
      "3   1.0   6.0  34.0    NaN  NaN   NaN      NaN  37.0  NaN   NaN  ...   \n",
      "4   1.0   7.0  34.0    NaN  NaN   NaN      NaN   NaN  NaN   NaN  ...   \n",
      "5   1.0   8.0  34.0    NaN  NaN   NaN      NaN  37.0  NaN   NaN  ...   \n",
      "6   1.0   9.0  34.0    NaN  NaN   NaN      NaN  37.0  NaN   NaN  ...   \n",
      "7   1.0  10.0  34.0    NaN  NaN   NaN      NaN  37.0  NaN   NaN  ...   \n",
      "8   1.0  11.0  34.0    NaN  NaN  12.0      NaN   NaN  8.5  26.0  ...   \n",
      "9   1.0  12.0  34.0    NaN  NaN  12.0      NaN  38.0  8.5  26.0  ...   \n",
      "10  1.0  13.0  34.0    NaN  NaN   NaN      NaN   NaN  NaN   NaN  ...   \n",
      "11  1.0  14.0  34.0    NaN  NaN   NaN      NaN   NaN  NaN   NaN  ...   \n",
      "\n",
      "    Alkalinephos   SpO2  Bilirubin_direct  Chloride   Hct  Heartrate  \\\n",
      "0            NaN  100.0               NaN     114.0  24.6       94.0   \n",
      "1            NaN  100.0               NaN       NaN   NaN       99.0   \n",
      "2            NaN  100.0               NaN       NaN   NaN       92.0   \n",
      "3            NaN  100.0               NaN       NaN   NaN       88.0   \n",
      "4            NaN  100.0               NaN       NaN  22.4       81.0   \n",
      "5            NaN  100.0               NaN       NaN  22.4       82.0   \n",
      "6            NaN  100.0               NaN       NaN   NaN       67.0   \n",
      "7            NaN  100.0               NaN       NaN   NaN       62.0   \n",
      "8            NaN  100.0               NaN     111.0  23.8       58.0   \n",
      "9            NaN  100.0               NaN     111.0  23.8       66.0   \n",
      "10           NaN  100.0               NaN       NaN   NaN       67.0   \n",
      "11           NaN  100.0               NaN       NaN  22.2       69.0   \n",
      "\n",
      "    Bilirubin_total  TroponinI   ABPs    pH  \n",
      "0               NaN        NaN  142.0  7.33  \n",
      "1               NaN        NaN  125.0  7.33  \n",
      "2               NaN        NaN  110.0  7.37  \n",
      "3               NaN        NaN  104.0  7.37  \n",
      "4               NaN        NaN  100.0  7.41  \n",
      "5               NaN        NaN  106.0   NaN  \n",
      "6               NaN        NaN  112.0   NaN  \n",
      "7               NaN        NaN  121.0   NaN  \n",
      "8               NaN        NaN  118.0   NaN  \n",
      "9               NaN        NaN  110.0  7.39  \n",
      "10              NaN        NaN  124.0  7.39  \n",
      "11              NaN        NaN  102.0   NaN  \n",
      "\n",
      "[12 rows x 37 columns]\n"
     ]
    }
   ],
   "source": [
    "for singlePID in trainingPIDS:\n",
    "    print(singlePID)\n",
    "    X_pid = getPatientData(df_training, [singlePID])\n",
    "    print(X_pid)\n",
    "    break"
   ]
  },
  {
   "cell_type": "code",
   "execution_count": null,
   "metadata": {},
   "outputs": [],
   "source": []
  }
 ],
 "metadata": {
  "kernelspec": {
   "display_name": "Python 3",
   "language": "python",
   "name": "python3"
  },
  "language_info": {
   "codemirror_mode": {
    "name": "ipython",
    "version": 3
   },
   "file_extension": ".py",
   "mimetype": "text/x-python",
   "name": "python",
   "nbconvert_exporter": "python",
   "pygments_lexer": "ipython3",
   "version": "3.7.4"
  }
 },
 "nbformat": 4,
 "nbformat_minor": 2
}
