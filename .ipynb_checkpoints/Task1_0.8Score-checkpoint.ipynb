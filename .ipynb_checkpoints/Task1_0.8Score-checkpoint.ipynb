{
 "cells": [
  {
   "cell_type": "code",
   "execution_count": 1,
   "metadata": {},
   "outputs": [],
   "source": [
    "import numpy as np\n",
    "import pandas as pd\n",
    "import os\n",
    "# explicitly require this experimental feature\n",
    "from sklearn.experimental import enable_iterative_imputer  # noqa\n",
    "# now you can import normally from sklearn.impute\n",
    "from sklearn.impute import IterativeImputer, SimpleImputer\n",
    "from sklearn.metrics import mean_absolute_error\n",
    "from sklearn.svm import LinearSVR, SVR, SVC,LinearSVC\n",
    "from sklearn.datasets import make_regression\n",
    "from sklearn.preprocessing import normalize \n",
    "import matplotlib.pyplot as plt\n",
    "import seaborn as sns\n",
    "from sklearn.feature_selection import RFE\n",
    "from sklearn.linear_model import LogisticRegression, RidgeClassifier, RidgeClassifierCV\n",
    "from sklearn.neural_network import MLPClassifier\n",
    "from sklearn.ensemble import RandomForestClassifier\n",
    "from sklearn.model_selection import train_test_split\n",
    "from utils import dataset_imputer, get_score\n",
    "import importlib"
   ]
  },
  {
   "cell_type": "code",
   "execution_count": 2,
   "metadata": {},
   "outputs": [],
   "source": [
    "# Read in data\n",
    "df_training_features = pd.read_csv('train_features.csv')\n",
    "df_training_labels = pd.read_csv('train_labels.csv')\n",
    "all_pids = [pid for pid in df_training_features['pid'].unique()]\n",
    "\n",
    "pids_train, pids_val = train_test_split(all_pids, test_size = 0.1)"
   ]
  },
  {
   "cell_type": "code",
   "execution_count": 3,
   "metadata": {},
   "outputs": [
    {
     "ename": "NameError",
     "evalue": "name 'X_pid_train' is not defined",
     "output_type": "error",
     "traceback": [
      "\u001b[1;31m---------------------------------------------------------------------------\u001b[0m",
      "\u001b[1;31mNameError\u001b[0m                                 Traceback (most recent call last)",
      "\u001b[1;32m<ipython-input-3-40f2073be8ef>\u001b[0m in \u001b[0;36m<module>\u001b[1;34m()\u001b[0m\n\u001b[0;32m     40\u001b[0m \u001b[1;31m#    return task1\u001b[0m\u001b[1;33m\u001b[0m\u001b[1;33m\u001b[0m\u001b[0m\n\u001b[0;32m     41\u001b[0m \u001b[1;33m\u001b[0m\u001b[0m\n\u001b[1;32m---> 42\u001b[1;33m \u001b[0mgg3\u001b[0m \u001b[1;33m=\u001b[0m \u001b[0mpd\u001b[0m\u001b[1;33m.\u001b[0m\u001b[0mmerge\u001b[0m\u001b[1;33m(\u001b[0m\u001b[0mX_pid_train\u001b[0m\u001b[1;33m,\u001b[0m \u001b[0mdf_training_label\u001b[0m \u001b[1;33m)\u001b[0m\u001b[1;33m\u001b[0m\u001b[0m\n\u001b[0m\u001b[0;32m     43\u001b[0m \u001b[0mgg3\u001b[0m \u001b[1;33m=\u001b[0m \u001b[0mgg3\u001b[0m\u001b[1;33m.\u001b[0m\u001b[0mastype\u001b[0m\u001b[1;33m(\u001b[0m\u001b[0mfloat\u001b[0m\u001b[1;33m)\u001b[0m\u001b[1;33m\u001b[0m\u001b[0m\n\u001b[0;32m     44\u001b[0m \u001b[0mprint\u001b[0m\u001b[1;33m(\u001b[0m\u001b[0mgg3\u001b[0m\u001b[1;33m[\u001b[0m\u001b[0mgg3\u001b[0m\u001b[1;33m.\u001b[0m\u001b[0mcolumns\u001b[0m\u001b[1;33m[\u001b[0m\u001b[1;33m:\u001b[0m\u001b[1;36m38\u001b[0m\u001b[1;33m]\u001b[0m\u001b[1;33m]\u001b[0m\u001b[1;33m.\u001b[0m\u001b[0mhead\u001b[0m\u001b[1;33m(\u001b[0m\u001b[1;33m)\u001b[0m\u001b[1;33m)\u001b[0m\u001b[1;33m\u001b[0m\u001b[0m\n",
      "\u001b[1;31mNameError\u001b[0m: name 'X_pid_train' is not defined"
     ]
    }
   ],
   "source": [
    "def getPatientData(trainingData, pids, patients=0, mode='pid'):\n",
    "    if mode == 'number':\n",
    "        pids = all_pids[:patients]\n",
    "    if len(pids) == 0:\n",
    "        return trainingData\n",
    "    #pids = np.array(pids).astype(np.float)\n",
    "    patients = [trainingData.iloc[idx] for idx in range(0, len(trainingData)) if trainingData['pid'][idx] in pids]    \n",
    "    #patientTrainingDataIndex = [trainingData.iloc[idx] for idx, col in enumerate(trainingData) if trainingData['pid'][idx] in pids]    \n",
    "    return pd.DataFrame(patients)\n",
    "\n",
    "def partitionData(trainingDataPids, trainingPartition=80):\n",
    "    validationPartition = 100 - trainingPartition\n",
    "    countTraining = int((trainingPartition/100)*len(trainingDataPids))\n",
    "    training = trainingDataPids[:countTraining]\n",
    "    validation = trainingDataPids[countTraining:]\n",
    "    print('')\n",
    "    print('Training size: ' + str(countTraining))\n",
    "    print('Validation size: ' + str(len(validation)))\n",
    "    return training, validation\n",
    "\n",
    "def populateData(X,Y):\n",
    "    Z = pd.merge(X, Y, on='pid')\n",
    "    YData = Z[Y.columns].iloc[:,1:]\n",
    "    XData = Z[X.columns].iloc[:,1:]\n",
    "    return XData, YData\n",
    "import sklearn.metrics as metrics\n",
    "\n",
    "TESTS = ['LABEL_BaseExcess', 'LABEL_Fibrinogen', 'LABEL_AST', 'LABEL_Alkalinephos', 'LABEL_Bilirubin_total',\n",
    "         'LABEL_Lactate', 'LABEL_TroponinI', 'LABEL_SaO2',\n",
    "         'LABEL_Bilirubin_direct', 'LABEL_EtCO2']\n",
    "\n",
    "#def get_score(df_true, df_submission):\n",
    "#    df_submission = df_submission.sort_values('pid')\n",
    "#    df_true = df_true.sort_values('pid')\n",
    "#    \n",
    "#    task1 = np.mean([metrics.roc_auc_score(df_true[entry], df_submission[entry]) for entry in TESTS])\n",
    "#    #task2 = metrics.roc_auc_score(df_true['LABEL_Sepsis'], df_submission['LABEL_Sepsis'])\n",
    "#    #task3 = np.mean([0.5 + 0.5 * np.maximum(0, metrics.r2_score(df_true[entry], df_submission[entry])) for entry in VITALS])\n",
    "#    #score = np.mean([task1, task2, task3])\n",
    "#    return task1\n",
    "\n",
    "gg3 = pd.merge(X_pid_train, df_training_label )\n",
    "gg3 = gg3.astype(float)\n",
    "print(gg3[gg3.columns[:38]].head())\n",
    "print(len(gg3.columns))\n",
    "\n",
    "plt.figure(figsize=(20,8))\n",
    "print(gg3.columns[10:38])\n",
    "corr = gg3[gg3.columns[1:-5]].corr()\n",
    "f = plt.figure(figsize=(45, 35))\n",
    "ax = sns.heatmap(\n",
    "    corr, \n",
    "    vmin=-1, vmax=1, center=0,\n",
    "    cmap=sns.diverging_palette(20, 220, n=200),\n",
    "    square=True, annot=True\n",
    ")\n",
    "ax.set_xticklabels(\n",
    "    ax.get_xticklabels(),\n",
    "    rotation=45,\n",
    "    horizontalalignment='right'\n",
    ");\n",
    "plt.show()"
   ]
  },
  {
   "cell_type": "code",
   "execution_count": 3,
   "metadata": {},
   "outputs": [
    {
     "name": "stdout",
     "output_type": "stream",
     "text": [
      "['pid_count', 'Time_count', 'Age_count', 'EtCO2_count', 'PTT_count', 'BUN_count', 'Lactate_count', 'Temp_count', 'Hgb_count', 'HCO3_count', 'BaseExcess_count', 'RRate_count', 'Fibrinogen_count', 'Phosphate_count', 'WBC_count', 'Creatinine_count', 'PaCO2_count', 'AST_count', 'FiO2_count', 'Platelets_count', 'SaO2_count', 'Glucose_count', 'ABPm_count', 'Magnesium_count', 'Potassium_count', 'ABPd_count', 'Calcium_count', 'Alkalinephos_count', 'SpO2_count', 'Bilirubin_direct_count', 'Chloride_count', 'Hct_count', 'Heartrate_count', 'Bilirubin_total_count', 'TroponinI_count', 'ABPs_count', 'pH_count']\n",
      "pid                 12\n",
      "Time                12\n",
      "Age                 12\n",
      "EtCO2                0\n",
      "PTT                  3\n",
      "BUN                  3\n",
      "Lactate              2\n",
      "Temp                 4\n",
      "Hgb                  2\n",
      "HCO3                 3\n",
      "BaseExcess           0\n",
      "RRate               11\n",
      "Fibrinogen           0\n",
      "Phosphate            2\n",
      "WBC                  2\n",
      "Creatinine           3\n",
      "PaCO2                0\n",
      "AST                  3\n",
      "FiO2                 0\n",
      "Platelets            2\n",
      "SaO2                 0\n",
      "Glucose              3\n",
      "ABPm                11\n",
      "Magnesium            2\n",
      "Potassium            3\n",
      "ABPd                 0\n",
      "Calcium              2\n",
      "Alkalinephos         2\n",
      "SpO2                 9\n",
      "Bilirubin_direct     0\n",
      "Chloride             3\n",
      "Hct                  2\n",
      "Heartrate           11\n",
      "Bilirubin_total      3\n",
      "TroponinI            0\n",
      "ABPs                11\n",
      "pH                   0\n",
      "dtype: int64\n"
     ]
    },
    {
     "ename": "KeyError",
     "evalue": "\"['pid_count' 'Age_count' 'Time_count'] not found in axis\"",
     "output_type": "error",
     "traceback": [
      "\u001b[1;31m---------------------------------------------------------------------------\u001b[0m",
      "\u001b[1;31mKeyError\u001b[0m                                  Traceback (most recent call last)",
      "\u001b[1;32m<ipython-input-3-c28b1088a152>\u001b[0m in \u001b[0;36m<module>\u001b[1;34m()\u001b[0m\n\u001b[1;32m----> 1\u001b[1;33m \u001b[0mX_pid_train\u001b[0m \u001b[1;33m=\u001b[0m \u001b[0mdataset_imputer\u001b[0m\u001b[1;33m(\u001b[0m\u001b[0mdf_training_features\u001b[0m\u001b[1;33m,\u001b[0m \u001b[0mmethod\u001b[0m\u001b[1;33m=\u001b[0m\u001b[1;34m'mean_and_count'\u001b[0m\u001b[1;33m,\u001b[0m \u001b[0mpid_list\u001b[0m\u001b[1;33m=\u001b[0m\u001b[0mpids_train\u001b[0m\u001b[1;33m,\u001b[0m \u001b[0mfillna\u001b[0m\u001b[1;33m=\u001b[0m\u001b[1;32mTrue\u001b[0m\u001b[1;33m)\u001b[0m\u001b[1;33m\u001b[0m\u001b[0m\n\u001b[0m\u001b[0;32m      2\u001b[0m \u001b[0mX_pid_val\u001b[0m \u001b[1;33m=\u001b[0m \u001b[0mdataset_imputer\u001b[0m\u001b[1;33m(\u001b[0m\u001b[0mdf_training_features\u001b[0m\u001b[1;33m,\u001b[0m \u001b[0mmethod\u001b[0m\u001b[1;33m=\u001b[0m\u001b[1;34m'count'\u001b[0m\u001b[1;33m,\u001b[0m \u001b[0mpid_list\u001b[0m\u001b[1;33m=\u001b[0m\u001b[0mpids_val\u001b[0m\u001b[1;33m,\u001b[0m \u001b[0mfillna\u001b[0m\u001b[1;33m=\u001b[0m\u001b[1;32mTrue\u001b[0m\u001b[1;33m)\u001b[0m\u001b[1;33m\u001b[0m\u001b[0m\n",
      "\u001b[1;32m~\\Documents\\GitHub\\iml_task_2\\utils.py\u001b[0m in \u001b[0;36mdataset_imputer\u001b[1;34m(df_original, method, pid_list, fillna)\u001b[0m\n\u001b[0;32m     34\u001b[0m                 \u001b[0mdata_count\u001b[0m\u001b[1;33m.\u001b[0m\u001b[0mcolumns\u001b[0m \u001b[1;33m=\u001b[0m \u001b[0madditional_columns\u001b[0m\u001b[1;33m\u001b[0m\u001b[0m\n\u001b[0;32m     35\u001b[0m                 \u001b[0mprint\u001b[0m\u001b[1;33m(\u001b[0m\u001b[0mdata_count\u001b[0m\u001b[1;33m)\u001b[0m\u001b[1;33m\u001b[0m\u001b[0m\n\u001b[1;32m---> 36\u001b[1;33m                 \u001b[0mdata_count\u001b[0m \u001b[1;33m=\u001b[0m \u001b[0mdata_count\u001b[0m\u001b[1;33m.\u001b[0m\u001b[0mdrop\u001b[0m\u001b[1;33m(\u001b[0m\u001b[1;33m[\u001b[0m\u001b[1;34m'pid_count'\u001b[0m\u001b[1;33m,\u001b[0m \u001b[1;34m'Age_count'\u001b[0m\u001b[1;33m,\u001b[0m \u001b[1;34m'Time_count'\u001b[0m\u001b[1;33m]\u001b[0m\u001b[1;33m,\u001b[0m \u001b[0maxis\u001b[0m\u001b[1;33m=\u001b[0m\u001b[1;36m0\u001b[0m\u001b[1;33m)\u001b[0m\u001b[1;33m\u001b[0m\u001b[0m\n\u001b[0m\u001b[0;32m     37\u001b[0m \u001b[1;33m\u001b[0m\u001b[0m\n\u001b[0;32m     38\u001b[0m                 \u001b[0mdata\u001b[0m \u001b[1;33m=\u001b[0m \u001b[0mpd\u001b[0m\u001b[1;33m.\u001b[0m\u001b[0mconcat\u001b[0m\u001b[1;33m(\u001b[0m\u001b[1;33m[\u001b[0m\u001b[0mdata_mean\u001b[0m\u001b[1;33m,\u001b[0m \u001b[0mdata_count\u001b[0m\u001b[1;33m]\u001b[0m\u001b[1;33m)\u001b[0m\u001b[1;33m\u001b[0m\u001b[0m\n",
      "\u001b[1;32mC:\\ProgramData\\Anaconda3\\lib\\site-packages\\pandas\\core\\series.py\u001b[0m in \u001b[0;36mdrop\u001b[1;34m(self, labels, axis, index, columns, level, inplace, errors)\u001b[0m\n\u001b[0;32m   3414\u001b[0m         return super(Series, self).drop(labels=labels, axis=axis, index=index,\n\u001b[0;32m   3415\u001b[0m                                         \u001b[0mcolumns\u001b[0m\u001b[1;33m=\u001b[0m\u001b[0mcolumns\u001b[0m\u001b[1;33m,\u001b[0m \u001b[0mlevel\u001b[0m\u001b[1;33m=\u001b[0m\u001b[0mlevel\u001b[0m\u001b[1;33m,\u001b[0m\u001b[1;33m\u001b[0m\u001b[0m\n\u001b[1;32m-> 3416\u001b[1;33m                                         inplace=inplace, errors=errors)\n\u001b[0m\u001b[0;32m   3417\u001b[0m \u001b[1;33m\u001b[0m\u001b[0m\n\u001b[0;32m   3418\u001b[0m     \u001b[1;33m@\u001b[0m\u001b[0mSubstitution\u001b[0m\u001b[1;33m(\u001b[0m\u001b[1;33m**\u001b[0m\u001b[0m_shared_doc_kwargs\u001b[0m\u001b[1;33m)\u001b[0m\u001b[1;33m\u001b[0m\u001b[0m\n",
      "\u001b[1;32mC:\\ProgramData\\Anaconda3\\lib\\site-packages\\pandas\\core\\generic.py\u001b[0m in \u001b[0;36mdrop\u001b[1;34m(self, labels, axis, index, columns, level, inplace, errors)\u001b[0m\n\u001b[0;32m   3109\u001b[0m         \u001b[1;32mfor\u001b[0m \u001b[0maxis\u001b[0m\u001b[1;33m,\u001b[0m \u001b[0mlabels\u001b[0m \u001b[1;32min\u001b[0m \u001b[0maxes\u001b[0m\u001b[1;33m.\u001b[0m\u001b[0mitems\u001b[0m\u001b[1;33m(\u001b[0m\u001b[1;33m)\u001b[0m\u001b[1;33m:\u001b[0m\u001b[1;33m\u001b[0m\u001b[0m\n\u001b[0;32m   3110\u001b[0m             \u001b[1;32mif\u001b[0m \u001b[0mlabels\u001b[0m \u001b[1;32mis\u001b[0m \u001b[1;32mnot\u001b[0m \u001b[1;32mNone\u001b[0m\u001b[1;33m:\u001b[0m\u001b[1;33m\u001b[0m\u001b[0m\n\u001b[1;32m-> 3111\u001b[1;33m                 \u001b[0mobj\u001b[0m \u001b[1;33m=\u001b[0m \u001b[0mobj\u001b[0m\u001b[1;33m.\u001b[0m\u001b[0m_drop_axis\u001b[0m\u001b[1;33m(\u001b[0m\u001b[0mlabels\u001b[0m\u001b[1;33m,\u001b[0m \u001b[0maxis\u001b[0m\u001b[1;33m,\u001b[0m \u001b[0mlevel\u001b[0m\u001b[1;33m=\u001b[0m\u001b[0mlevel\u001b[0m\u001b[1;33m,\u001b[0m \u001b[0merrors\u001b[0m\u001b[1;33m=\u001b[0m\u001b[0merrors\u001b[0m\u001b[1;33m)\u001b[0m\u001b[1;33m\u001b[0m\u001b[0m\n\u001b[0m\u001b[0;32m   3112\u001b[0m \u001b[1;33m\u001b[0m\u001b[0m\n\u001b[0;32m   3113\u001b[0m         \u001b[1;32mif\u001b[0m \u001b[0minplace\u001b[0m\u001b[1;33m:\u001b[0m\u001b[1;33m\u001b[0m\u001b[0m\n",
      "\u001b[1;32mC:\\ProgramData\\Anaconda3\\lib\\site-packages\\pandas\\core\\generic.py\u001b[0m in \u001b[0;36m_drop_axis\u001b[1;34m(self, labels, axis, level, errors)\u001b[0m\n\u001b[0;32m   3141\u001b[0m                 \u001b[0mnew_axis\u001b[0m \u001b[1;33m=\u001b[0m \u001b[0maxis\u001b[0m\u001b[1;33m.\u001b[0m\u001b[0mdrop\u001b[0m\u001b[1;33m(\u001b[0m\u001b[0mlabels\u001b[0m\u001b[1;33m,\u001b[0m \u001b[0mlevel\u001b[0m\u001b[1;33m=\u001b[0m\u001b[0mlevel\u001b[0m\u001b[1;33m,\u001b[0m \u001b[0merrors\u001b[0m\u001b[1;33m=\u001b[0m\u001b[0merrors\u001b[0m\u001b[1;33m)\u001b[0m\u001b[1;33m\u001b[0m\u001b[0m\n\u001b[0;32m   3142\u001b[0m             \u001b[1;32melse\u001b[0m\u001b[1;33m:\u001b[0m\u001b[1;33m\u001b[0m\u001b[0m\n\u001b[1;32m-> 3143\u001b[1;33m                 \u001b[0mnew_axis\u001b[0m \u001b[1;33m=\u001b[0m \u001b[0maxis\u001b[0m\u001b[1;33m.\u001b[0m\u001b[0mdrop\u001b[0m\u001b[1;33m(\u001b[0m\u001b[0mlabels\u001b[0m\u001b[1;33m,\u001b[0m \u001b[0merrors\u001b[0m\u001b[1;33m=\u001b[0m\u001b[0merrors\u001b[0m\u001b[1;33m)\u001b[0m\u001b[1;33m\u001b[0m\u001b[0m\n\u001b[0m\u001b[0;32m   3144\u001b[0m             \u001b[0mresult\u001b[0m \u001b[1;33m=\u001b[0m \u001b[0mself\u001b[0m\u001b[1;33m.\u001b[0m\u001b[0mreindex\u001b[0m\u001b[1;33m(\u001b[0m\u001b[1;33m**\u001b[0m\u001b[1;33m{\u001b[0m\u001b[0maxis_name\u001b[0m\u001b[1;33m:\u001b[0m \u001b[0mnew_axis\u001b[0m\u001b[1;33m}\u001b[0m\u001b[1;33m)\u001b[0m\u001b[1;33m\u001b[0m\u001b[0m\n\u001b[0;32m   3145\u001b[0m \u001b[1;33m\u001b[0m\u001b[0m\n",
      "\u001b[1;32mC:\\ProgramData\\Anaconda3\\lib\\site-packages\\pandas\\core\\indexes\\base.py\u001b[0m in \u001b[0;36mdrop\u001b[1;34m(self, labels, errors)\u001b[0m\n\u001b[0;32m   4402\u001b[0m             \u001b[1;32mif\u001b[0m \u001b[0merrors\u001b[0m \u001b[1;33m!=\u001b[0m \u001b[1;34m'ignore'\u001b[0m\u001b[1;33m:\u001b[0m\u001b[1;33m\u001b[0m\u001b[0m\n\u001b[0;32m   4403\u001b[0m                 raise KeyError(\n\u001b[1;32m-> 4404\u001b[1;33m                     '{} not found in axis'.format(labels[mask]))\n\u001b[0m\u001b[0;32m   4405\u001b[0m             \u001b[0mindexer\u001b[0m \u001b[1;33m=\u001b[0m \u001b[0mindexer\u001b[0m\u001b[1;33m[\u001b[0m\u001b[1;33m~\u001b[0m\u001b[0mmask\u001b[0m\u001b[1;33m]\u001b[0m\u001b[1;33m\u001b[0m\u001b[0m\n\u001b[0;32m   4406\u001b[0m         \u001b[1;32mreturn\u001b[0m \u001b[0mself\u001b[0m\u001b[1;33m.\u001b[0m\u001b[0mdelete\u001b[0m\u001b[1;33m(\u001b[0m\u001b[0mindexer\u001b[0m\u001b[1;33m)\u001b[0m\u001b[1;33m\u001b[0m\u001b[0m\n",
      "\u001b[1;31mKeyError\u001b[0m: \"['pid_count' 'Age_count' 'Time_count'] not found in axis\""
     ]
    }
   ],
   "source": [
    "X_pid_train = dataset_imputer(df_training_features, method='count', pid_list=pids_train, fillna=True)\n",
    "X_pid_val = dataset_imputer(df_training_features, method='count', pid_list=pids_val, fillna=True)"
   ]
  },
  {
   "cell_type": "code",
   "execution_count": 5,
   "metadata": {},
   "outputs": [
    {
     "name": "stdout",
     "output_type": "stream",
     "text": [
      "100.0 % - completed\n",
      "\n",
      "100.0 % - completed\n",
      "\n"
     ]
    }
   ],
   "source": [
    "Y_pid_train = dataset_imputer(df_training_labels, method=None, pid_list=pids_train, fillna=True)\n",
    "Y_pid_val = dataset_imputer(df_training_labels, method=None, pid_list=pids_val, fillna=True)"
   ]
  },
  {
   "cell_type": "code",
   "execution_count": null,
   "metadata": {
    "scrolled": true
   },
   "outputs": [],
   "source": []
  },
  {
   "cell_type": "code",
   "execution_count": null,
   "metadata": {},
   "outputs": [],
   "source": []
  },
  {
   "cell_type": "code",
   "execution_count": 6,
   "metadata": {},
   "outputs": [
    {
     "name": "stdout",
     "output_type": "stream",
     "text": [
      "  pid Time Age EtCO2 PTT BUN Lactate Temp Hgb HCO3 ... Alkalinephos SpO2  \\\n",
      "0   1   12  34     0   0   3       0    8   3    3 ...            0   12   \n",
      "0   2   12  86     0   1   1       0    3   1    0 ...            0   11   \n",
      "0   4   12  66     0   1   2       0    3   2    0 ...            1   11   \n",
      "0   6   12  66     0   1   2       2   12   6    2 ...            0   12   \n",
      "0  10   12  71     0   1   1       0    2   1    0 ...            1   11   \n",
      "\n",
      "  Bilirubin_direct Chloride Hct Heartrate Bilirubin_total TroponinI ABPs pH  \n",
      "0                0        3   6        12               0         0   12  7  \n",
      "0                0        0   1        11               0         1   11  0  \n",
      "0                1        0   2        11               1         1   11  0  \n",
      "0                0        2  10        12               0         0   12  7  \n",
      "0                0        0   1        11               1         1   11  0  \n",
      "\n",
      "[5 rows x 37 columns]\n",
      "****************************************************************************************************\n",
      "       pid  LABEL_BaseExcess  LABEL_Fibrinogen  LABEL_AST  LABEL_Alkalinephos  \\\n",
      "0        1               1.0               0.0        0.0                 0.0   \n",
      "6622     2               0.0               0.0        0.0                 0.0   \n",
      "15008    4               0.0               0.0        0.0                 0.0   \n",
      "16335    6               1.0               0.0        0.0                 0.0   \n",
      "1       10               0.0               0.0        0.0                 0.0   \n",
      "\n",
      "       LABEL_Bilirubin_total  LABEL_Lactate  LABEL_TroponinI  LABEL_SaO2  \\\n",
      "0                        0.0            1.0              0.0         0.0   \n",
      "6622                     0.0            0.0              1.0         0.0   \n",
      "15008                    0.0            0.0              0.0         1.0   \n",
      "16335                    0.0            0.0              0.0         1.0   \n",
      "1                        0.0            0.0              0.0         0.0   \n",
      "\n",
      "       LABEL_Bilirubin_direct  LABEL_EtCO2  \n",
      "0                         0.0          0.0  \n",
      "6622                      0.0          0.0  \n",
      "15008                     0.0          0.0  \n",
      "16335                     0.0          0.0  \n",
      "1                         0.0          0.0  \n"
     ]
    }
   ],
   "source": [
    "#x_train = X_pid_train[['pid', 'PTT', 'HCO3', 'BaseExcess', 'PaCO2', 'FiO2', 'SaO2','Chloride', 'Hct', 'pH']]\n",
    "x_train, x_val = X_pid_train.copy(), X_pid_val.copy()\n",
    "y_train, y_val = Y_pid_train.copy(), Y_pid_val.copy()\n",
    "\n",
    "feature_columns = ['pid', 'Time', 'Age', 'EtCO2', 'PTT', 'BUN', 'Lactate', 'Temp', 'Hgb',\n",
    "                 'HCO3', 'BaseExcess', 'RRate', 'Fibrinogen', 'Phosphate', 'WBC',\n",
    "                 'Creatinine', 'PaCO2', 'AST', 'FiO2', 'Platelets', 'SaO2', 'Glucose',\n",
    "                 'ABPm', 'Magnesium', 'Potassium', 'ABPd', 'Calcium', 'Alkalinephos',\n",
    "                 'SpO2', 'Bilirubin_direct', 'Chloride', 'Hct', 'Heartrate',\n",
    "                 'Bilirubin_total', 'TroponinI', 'ABPs', 'pH']\n",
    "\n",
    "x_train, x_val = x_train[feature_columns], x_val[feature_columns]\n",
    "\n",
    "label_columns = ['pid', 'LABEL_BaseExcess', 'LABEL_Fibrinogen', 'LABEL_AST',\n",
    "                 'LABEL_Alkalinephos', 'LABEL_Bilirubin_total', 'LABEL_Lactate',\n",
    "                 'LABEL_TroponinI', 'LABEL_SaO2', 'LABEL_Bilirubin_direct',\n",
    "                 'LABEL_EtCO2']\n",
    "\n",
    "y_train, y_val = y_train[label_columns], y_val[label_columns]\n",
    "\n",
    "print(x_train.head())\n",
    "print('*'*100)\n",
    "print(y_train.head())\n"
   ]
  },
  {
   "cell_type": "code",
   "execution_count": null,
   "metadata": {},
   "outputs": [],
   "source": []
  },
  {
   "cell_type": "code",
   "execution_count": 7,
   "metadata": {},
   "outputs": [
    {
     "name": "stdout",
     "output_type": "stream",
     "text": [
      "(17095, 37)\n",
      "(17095, 11)\n"
     ]
    }
   ],
   "source": [
    "print(x_train.shape)\n",
    "print(y_train.shape)"
   ]
  },
  {
   "cell_type": "code",
   "execution_count": 13,
   "metadata": {},
   "outputs": [
    {
     "name": "stderr",
     "output_type": "stream",
     "text": [
      "C:\\Users\\etien\\AppData\\Roaming\\Python\\Python37\\site-packages\\sklearn\\neural_network\\_multilayer_perceptron.py:571: ConvergenceWarning: Stochastic Optimizer: Maximum iterations (200) reached and the optimization hasn't converged yet.\n",
      "  % self.max_iter, ConvergenceWarning)\n"
     ]
    },
    {
     "data": {
      "text/plain": [
       "MLPClassifier(activation='relu', alpha=1e-05, batch_size='auto', beta_1=0.9,\n",
       "              beta_2=0.999, early_stopping=False, epsilon=1e-08,\n",
       "              hidden_layer_sizes=(100, 100), learning_rate='constant',\n",
       "              learning_rate_init=0.001, max_fun=15000, max_iter=200,\n",
       "              momentum=0.9, n_iter_no_change=10, nesterovs_momentum=True,\n",
       "              power_t=0.5, random_state=1, shuffle=True, solver='sgd',\n",
       "              tol=0.0001, validation_fraction=0.1, verbose=False,\n",
       "              warm_start=False)"
      ]
     },
     "execution_count": 13,
     "metadata": {},
     "output_type": "execute_result"
    }
   ],
   "source": [
    "# Train MLPClassifier\n",
    "#regr =   KNeighborsClassifier(3)\n",
    "regr = MLPClassifier(alpha=1e-5,hidden_layer_sizes=(100,100), random_state=1, solver='sgd', max_iter=200)\n",
    "#regr = RidgeClassifierCV()\n",
    "#regr = RandomForestClassifier()\n",
    "regr.fit(x_train.iloc[:,2:], y_train.iloc[:,1:])"
   ]
  },
  {
   "cell_type": "code",
   "execution_count": 14,
   "metadata": {},
   "outputs": [
    {
     "name": "stdout",
     "output_type": "stream",
     "text": [
      "  pid Time Age EtCO2 PTT BUN Lactate Temp Hgb HCO3 ... Alkalinephos SpO2  \\\n",
      "0   1   12  34     0   0   3       0    8   3    3 ...            0   12   \n",
      "0   2   12  86     0   1   1       0    3   1    0 ...            0   11   \n",
      "0   4   12  66     0   1   2       0    3   2    0 ...            1   11   \n",
      "0   6   12  66     0   1   2       2   12   6    2 ...            0   12   \n",
      "0  10   12  71     0   1   1       0    2   1    0 ...            1   11   \n",
      "\n",
      "  Bilirubin_direct Chloride Hct Heartrate Bilirubin_total TroponinI ABPs pH  \n",
      "0                0        3   6        12               0         0   12  7  \n",
      "0                0        0   1        11               0         1   11  0  \n",
      "0                1        0   2        11               1         1   11  0  \n",
      "0                0        2  10        12               0         0   12  7  \n",
      "0                0        0   1        11               1         1   11  0  \n",
      "\n",
      "[5 rows x 37 columns]\n",
      "       LABEL_BaseExcess  LABEL_Fibrinogen  LABEL_AST  LABEL_Alkalinephos  \\\n",
      "0                   1.0               0.0        0.0                 0.0   \n",
      "6622                0.0               0.0        0.0                 0.0   \n",
      "15008               0.0               0.0        0.0                 0.0   \n",
      "16335               1.0               0.0        0.0                 0.0   \n",
      "1                   0.0               0.0        0.0                 0.0   \n",
      "\n",
      "       LABEL_Bilirubin_total  LABEL_Lactate  LABEL_TroponinI  LABEL_SaO2  \\\n",
      "0                        0.0            1.0              0.0         0.0   \n",
      "6622                     0.0            0.0              1.0         0.0   \n",
      "15008                    0.0            0.0              0.0         1.0   \n",
      "16335                    0.0            0.0              0.0         1.0   \n",
      "1                        0.0            0.0              0.0         0.0   \n",
      "\n",
      "       LABEL_Bilirubin_direct  LABEL_EtCO2  \n",
      "0                         0.0          0.0  \n",
      "6622                      0.0          0.0  \n",
      "15008                     0.0          0.0  \n",
      "16335                     0.0          0.0  \n",
      "1                         0.0          0.0  \n"
     ]
    }
   ],
   "source": [
    "print(x_train.head())\n",
    "print(y_train.iloc[:5,1:])"
   ]
  },
  {
   "cell_type": "code",
   "execution_count": 15,
   "metadata": {},
   "outputs": [
    {
     "name": "stdout",
     "output_type": "stream",
     "text": [
      "  pid Time Age EtCO2 PTT BUN Lactate Temp Hgb HCO3 ... Alkalinephos SpO2  \\\n",
      "0   8   12  42     0   0   1       0    3   0    0 ...            0   10   \n",
      "0  20   12  77     0   0   1       0    2   1    0 ...            1   11   \n",
      "0  27   12  58     0   1   1       1    3   1    1 ...            0   12   \n",
      "0  49   12  79     0   1   3       2    5   3    3 ...            3   11   \n",
      "0  70   12  54     0   0   0       0    3   0    0 ...            0   11   \n",
      "\n",
      "  Bilirubin_direct Chloride Hct Heartrate Bilirubin_total TroponinI ABPs pH  \n",
      "0                0        0   0        11               0         1   11  0  \n",
      "0                0        0   1        11               1         1   11  0  \n",
      "0                0        1   1        12               0         0   12  3  \n",
      "0                0        3   3        11               2         0    4  0  \n",
      "0                0        0   0        11               0         0   11  2  \n",
      "\n",
      "[5 rows x 37 columns]\n",
      "       LABEL_BaseExcess  LABEL_Fibrinogen  LABEL_AST  LABEL_Alkalinephos  \\\n",
      "17676               0.0               0.0        0.0                 0.0   \n",
      "6623                0.0               0.0        0.0                 0.0   \n",
      "11292               1.0               0.0        0.0                 0.0   \n",
      "15596               1.0               0.0        1.0                 1.0   \n",
      "16998               1.0               0.0        0.0                 0.0   \n",
      "\n",
      "       LABEL_Bilirubin_total  LABEL_Lactate  LABEL_TroponinI  LABEL_SaO2  \\\n",
      "17676                    0.0            0.0              0.0         0.0   \n",
      "6623                     0.0            0.0              0.0         0.0   \n",
      "11292                    0.0            0.0              0.0         1.0   \n",
      "15596                    0.0            1.0              0.0         0.0   \n",
      "16998                    0.0            0.0              0.0         0.0   \n",
      "\n",
      "       LABEL_Bilirubin_direct  LABEL_EtCO2  \n",
      "17676                     0.0          0.0  \n",
      "6623                      0.0          0.0  \n",
      "11292                     0.0          0.0  \n",
      "15596                     0.0          0.0  \n",
      "16998                     0.0          0.0  \n"
     ]
    }
   ],
   "source": [
    "print(x_val.head())\n",
    "print(y_val.iloc[:5,1:])"
   ]
  },
  {
   "cell_type": "code",
   "execution_count": 16,
   "metadata": {},
   "outputs": [
    {
     "name": "stdout",
     "output_type": "stream",
     "text": [
      "0.814348017800393\n"
     ]
    }
   ],
   "source": [
    "f = regr.predict_proba(x_val.iloc[:,2:])\n",
    "f = pd.DataFrame(f)\n",
    "f.columns = y_val.columns[1:]\n",
    "#f.columns = ['LABEL_BaseExcess1', 'LABEL_BaseExcess']\n",
    "f['pid'] = x_val.iloc[:,0].reset_index(drop=True)\n",
    "\n",
    "print(get_score(y_val, f, tasks=['task1'])[1])\n",
    "#print(f)\n"
   ]
  },
  {
   "cell_type": "code",
   "execution_count": null,
   "metadata": {},
   "outputs": [],
   "source": []
  }
 ],
 "metadata": {
  "kernelspec": {
   "display_name": "Python 3",
   "language": "python",
   "name": "python3"
  },
  "language_info": {
   "codemirror_mode": {
    "name": "ipython",
    "version": 3
   },
   "file_extension": ".py",
   "mimetype": "text/x-python",
   "name": "python",
   "nbconvert_exporter": "python",
   "pygments_lexer": "ipython3",
   "version": "3.7.0"
  }
 },
 "nbformat": 4,
 "nbformat_minor": 2
}
