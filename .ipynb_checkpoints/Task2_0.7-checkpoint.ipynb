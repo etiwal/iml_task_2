{
 "cells": [
  {
   "cell_type": "code",
   "execution_count": 1,
   "metadata": {},
   "outputs": [],
   "source": [
    "import numpy as np\n",
    "import pandas as pd\n",
    "import os\n",
    "# explicitly require this experimental feature\n",
    "from sklearn.experimental import enable_iterative_imputer  # noqa\n",
    "# now you can import normally from sklearn.impute\n",
    "from sklearn.impute import IterativeImputer, SimpleImputer\n",
    "from sklearn.metrics import mean_absolute_error\n",
    "from sklearn.svm import LinearSVR, SVR, SVC,LinearSVC\n",
    "from sklearn.datasets import make_regression\n",
    "from sklearn.preprocessing import normalize \n",
    "import matplotlib.pyplot as plt\n",
    "import seaborn as sns\n",
    "from sklearn.feature_selection import RFE\n",
    "from sklearn.linear_model import LogisticRegression, RidgeClassifier, RidgeClassifierCV\n",
    "from sklearn.neural_network import MLPClassifier\n",
    "from sklearn.ensemble import RandomForestClassifier\n",
    "from sklearn.model_selection import train_test_split\n",
    "from utils import dataset_imputer, get_score"
   ]
  },
  {
   "cell_type": "code",
   "execution_count": 2,
   "metadata": {},
   "outputs": [],
   "source": [
    "# Read in data\n",
    "df_training_features = pd.read_csv('train_features.csv')\n",
    "df_training_labels = pd.read_csv('train_labels.csv')\n",
    "all_pids = [pid for pid in df_training_features['pid'].unique()]\n",
    "\n",
    "pids_train, pids_val = train_test_split(all_pids, test_size = 0.1)"
   ]
  },
  {
   "cell_type": "code",
   "execution_count": 3,
   "metadata": {},
   "outputs": [
    {
     "ename": "IndentationError",
     "evalue": "unexpected indent (<ipython-input-3-76159bbf12be>, line 32)",
     "output_type": "error",
     "traceback": [
      "\u001b[1;36m  File \u001b[1;32m\"<ipython-input-3-76159bbf12be>\"\u001b[1;36m, line \u001b[1;32m32\u001b[0m\n\u001b[1;33m    df_submission = df_submission.sort_values('pid')\u001b[0m\n\u001b[1;37m    ^\u001b[0m\n\u001b[1;31mIndentationError\u001b[0m\u001b[1;31m:\u001b[0m unexpected indent\n"
     ]
    }
   ],
   "source": [
    "# def getPatientData(trainingData, pids, patients=0, mode='pid'):\n",
    "#     if mode == 'number':\n",
    "#         pids = all_pids[:patients]\n",
    "#     if len(pids) == 0:\n",
    "#         return trainingData\n",
    "#     #pids = np.array(pids).astype(np.float)\n",
    "#     patients = [trainingData.iloc[idx] for idx in range(0, len(trainingData)) if trainingData['pid'][idx] in pids]    \n",
    "#     #patientTrainingDataIndex = [trainingData.iloc[idx] for idx, col in enumerate(trainingData) if trainingData['pid'][idx] in pids]    \n",
    "#     return pd.DataFrame(patients)\n",
    "\n",
    "# def partitionData(trainingDataPids, trainingPartition=80):\n",
    "#     validationPartition = 100 - trainingPartition\n",
    "#     countTraining = int((trainingPartition/100)*len(trainingDataPids))\n",
    "#     training = trainingDataPids[:countTraining]\n",
    "#     validation = trainingDataPids[countTraining:]\n",
    "#     print('')\n",
    "#     print('Training size: ' + str(countTraining))\n",
    "#     print('Validation size: ' + str(len(validation)))\n",
    "#     return training, validation\n",
    "\n",
    "# def populateData(X,Y):\n",
    "#     Z = pd.merge(X, Y, on='pid')\n",
    "#     YData = Z[Y.columns].iloc[:,1:]\n",
    "#     XData = Z[X.columns].iloc[:,1:]\n",
    "#     return XData, YData\n",
    "# import sklearn.metrics as metrics\n",
    "\n",
    "# TESTS = ['LABEL_BaseExcess', 'LABEL_Fibrinogen', 'LABEL_AST', 'LABEL_Alkalinephos', 'LABEL_Bilirubin_total',\n",
    "#          'LABEL_Lactate', 'LABEL_TroponinI', 'LABEL_SaO2',\n",
    "#          'LABEL_Bilirubin_direct', 'LABEL_EtCO2']\n",
    "# #def get_score(df_true, df_submission):\n",
    "#     df_submission = df_submission.sort_values('pid')\n",
    "#     df_true = df_true.sort_values('pid')\n",
    "    \n",
    "#     #task1 = np.mean([metrics.roc_auc_score(df_true[entry], df_submission[entry]) for entry in TESTS])\n",
    "#     task2 = metrics.roc_auc_score(df_true['LABEL_Sepsis'], df_submission['LABEL_Sepsis'])\n",
    "#     #task3 = np.mean([0.5 + 0.5 * np.maximum(0, metrics.r2_score(df_true[entry], df_submission[entry])) for entry in VITALS])\n",
    "#     #score = np.mean([task1, task2, task3])\n",
    "#     return task2"
   ]
  },
  {
   "cell_type": "code",
   "execution_count": 4,
   "metadata": {
    "scrolled": true
   },
   "outputs": [
    {
     "name": "stdout",
     "output_type": "stream",
     "text": [
      "0.0 %\n",
      "10.0 %\n",
      "20.0 %\n",
      "30.0 %\n",
      "40.0 %\n",
      "50.0 %\n",
      "60.0 %\n",
      "70.0 %\n",
      "80.0 %\n",
      "90.0 %\n",
      "100.0 % - completed\n",
      "\n",
      "0.0 %\n",
      "10.0 %\n",
      "20.0 %\n",
      "30.0 %\n",
      "40.0 %\n",
      "50.0 %\n",
      "60.0 %\n",
      "70.0 %\n",
      "80.0 %\n",
      "90.0 %\n",
      "100.0 % - completed\n",
      "\n"
     ]
    }
   ],
   "source": [
    "X_pid_train = dataset_imputer(df_training_features, method='mean_and_count', pid_list=pids_train, fillna=True)\n",
    "X_pid_val = dataset_imputer(df_training_features, method='mean_and_count', pid_list=pids_val, fillna=True)\n"
   ]
  },
  {
   "cell_type": "code",
   "execution_count": 5,
   "metadata": {},
   "outputs": [
    {
     "name": "stdout",
     "output_type": "stream",
     "text": [
      "100.0 % - completed\n",
      "\n",
      "100.0 % - completed\n",
      "\n"
     ]
    }
   ],
   "source": [
    "Y_pid_train = dataset_imputer(df_training_labels, method=None, pid_list=pids_train, fillna=True)\n",
    "Y_pid_val = dataset_imputer(df_training_labels, method=None, pid_list=pids_val, fillna=True)"
   ]
  },
  {
   "cell_type": "code",
   "execution_count": 10,
   "metadata": {},
   "outputs": [
    {
     "name": "stdout",
     "output_type": "stream",
     "text": [
      "    pid   PTT  HCO3  BaseExcess  PaCO2      FiO2  SaO2  Chloride    Hct  \\\n",
      "0   2.0  31.8   0.0    0.000000    0.0  0.000000   0.0       0.0  40.20   \n",
      "0   4.0  34.6   0.0    0.000000    0.0  0.000000   0.0       0.0  33.55   \n",
      "0   6.0  53.8  19.5   -2.857143   39.0  0.566667  95.0     113.5  30.39   \n",
      "0   8.0   0.0   0.0    0.000000    0.0  0.000000   0.0       0.0   0.00   \n",
      "0  10.0  27.8   0.0    0.000000    0.0  0.000000   0.0       0.0  42.10   \n",
      "\n",
      "         pH    ...     Alkalinephos_count  SpO2_count  Bilirubin_direct_count  \\\n",
      "0  0.000000    ...                    0.0        11.0                     0.0   \n",
      "0  0.000000    ...                    1.0        11.0                     1.0   \n",
      "0  7.352857    ...                    0.0        12.0                     0.0   \n",
      "0  0.000000    ...                    0.0        10.0                     0.0   \n",
      "0  0.000000    ...                    1.0        11.0                     0.0   \n",
      "\n",
      "   Chloride_count  Hct_count  Heartrate_count  Bilirubin_total_count  \\\n",
      "0             0.0        1.0             11.0                    0.0   \n",
      "0             0.0        2.0             11.0                    1.0   \n",
      "0             2.0       10.0             12.0                    0.0   \n",
      "0             0.0        0.0             11.0                    0.0   \n",
      "0             0.0        1.0             11.0                    1.0   \n",
      "\n",
      "   TroponinI_count  ABPs_count  pH_count  \n",
      "0              1.0        11.0       0.0  \n",
      "0              1.0        11.0       0.0  \n",
      "0              0.0        12.0       7.0  \n",
      "0              1.0        11.0       0.0  \n",
      "0              1.0        11.0       0.0  \n",
      "\n",
      "[5 rows x 44 columns]\n",
      "****************************************************************************************************\n",
      "       pid  LABEL_Sepsis\n",
      "6622     2           0.0\n",
      "15008    4           0.0\n",
      "16335    6           0.0\n",
      "17676    8           0.0\n",
      "1       10           0.0\n"
     ]
    }
   ],
   "source": [
    "x_train, x_val = X_pid_train.fillna(0).copy(), X_pid_val.fillna(0).copy()\n",
    "y_train, y_val = Y_pid_train.fillna(0).copy(), Y_pid_val.fillna(0).copy()\n",
    "\n",
    "feature_columns = ['pid', 'PTT', 'HCO3', 'BaseExcess', 'PaCO2', 'FiO2', 'SaO2','Chloride', 'Hct', 'pH'\n",
    "                      , 'EtCO2_count',\n",
    "                       'PTT_count', 'BUN_count', 'Lactate_count', 'Temp_count', 'Hgb_count',\n",
    "                       'HCO3_count', 'BaseExcess_count', 'RRate_count', 'Fibrinogen_count',\n",
    "                       'Phosphate_count', 'WBC_count', 'Creatinine_count', 'PaCO2_count',\n",
    "                       'AST_count', 'FiO2_count', 'Platelets_count', 'SaO2_count',\n",
    "                       'Glucose_count', 'ABPm_count', 'Magnesium_count', 'Potassium_count',\n",
    "                       'ABPd_count', 'Calcium_count', 'Alkalinephos_count', 'SpO2_count',\n",
    "                       'Bilirubin_direct_count', 'Chloride_count', 'Hct_count',\n",
    "                       'Heartrate_count', 'Bilirubin_total_count', 'TroponinI_count',\n",
    "                       'ABPs_count', 'pH_count']\n",
    "\n",
    "x_train, x_val = x_train[feature_columns], x_val[feature_columns]\n",
    "\n",
    "\n",
    "label_columns = ['pid', 'LABEL_Sepsis']\n",
    "\n",
    "y_train, y_val = y_train[label_columns], y_val[label_columns]\n",
    "\n",
    "print(x_train.head())\n",
    "print('*'*100)\n",
    "print(y_train.head())"
   ]
  },
  {
   "cell_type": "code",
   "execution_count": 11,
   "metadata": {},
   "outputs": [
    {
     "name": "stdout",
     "output_type": "stream",
     "text": [
      "(17095, 44)\n",
      "(17095, 2)\n"
     ]
    }
   ],
   "source": [
    "print(x_train.shape)\n",
    "print(y_train.shape)"
   ]
  },
  {
   "cell_type": "code",
   "execution_count": 12,
   "metadata": {},
   "outputs": [
    {
     "name": "stdout",
     "output_type": "stream",
     "text": [
      "[0. 1.]\n",
      "0.17174532176067256\n"
     ]
    }
   ],
   "source": [
    "# Train MLPClassifier\n",
    "#regr =   KNeighborsClassifier(3)\n",
    "regr = MLPClassifier(alpha=1e-4, hidden_layer_sizes=(200,200,200), random_state=1, solver='sgd', max_iter=300)\n",
    "#regr = RidgeClassifierCV()\n",
    "#regr = RandomForestClassifier()\n",
    "regr.fit(x_train.iloc[:,1:], y_train.iloc[:,1].values)"
   ]
  },
  {
   "cell_type": "code",
   "execution_count": 16,
   "metadata": {},
   "outputs": [
    {
     "name": "stdout",
     "output_type": "stream",
     "text": [
      "0.6930786576469028\n"
     ]
    }
   ],
   "source": [
    "f = regr.predict_proba(x_val.iloc[:,1:])\n",
    "f = pd.DataFrame(f)\n",
    "f.columns = ['False', 'LABEL_Sepsis']\n",
    "f['pid'] = x_val.iloc[:,0].reset_index(drop=True)\n",
    "\n",
    "print(get_score(y_val.iloc[:,:], f, tasks=['task2'])[1])"
   ]
  }
 ],
 "metadata": {
  "kernelspec": {
   "display_name": "Python 3",
   "language": "python",
   "name": "python3"
  },
  "language_info": {
   "codemirror_mode": {
    "name": "ipython",
    "version": 3
   },
   "file_extension": ".py",
   "mimetype": "text/x-python",
   "name": "python",
   "nbconvert_exporter": "python",
   "pygments_lexer": "ipython3",
   "version": "3.7.0"
  }
 },
 "nbformat": 4,
 "nbformat_minor": 2
}
