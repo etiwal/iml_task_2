{
 "cells": [
  {
   "cell_type": "code",
   "execution_count": 1,
   "metadata": {},
   "outputs": [],
   "source": [
    "import numpy as np\n",
    "import pandas as pd\n",
    "import os\n",
    "# explicitly require this experimental feature\n",
    "from sklearn.experimental import enable_iterative_imputer  # noqa\n",
    "# now you can import normally from sklearn.impute\n",
    "from sklearn.impute import IterativeImputer, SimpleImputer\n",
    "from sklearn.metrics import mean_absolute_error\n",
    "from sklearn.svm import LinearSVR, SVR, SVC,LinearSVC\n",
    "from sklearn.datasets import make_regression\n",
    "from sklearn.preprocessing import normalize \n",
    "import matplotlib.pyplot as plt\n",
    "import seaborn as sns\n",
    "from sklearn.feature_selection import RFE\n",
    "from sklearn.linear_model import LogisticRegression, RidgeClassifier, RidgeClassifierCV\n",
    "from sklearn.neural_network import MLPClassifier\n",
    "from sklearn.ensemble import RandomForestClassifier\n",
    "from sklearn.model_selection import train_test_split\n",
    "from utils import dataset_imputer, get_score"
   ]
  },
  {
   "cell_type": "code",
   "execution_count": 2,
   "metadata": {},
   "outputs": [],
   "source": [
    "# Read in data\n",
    "df_training_features = pd.read_csv('train_features.csv')\n",
    "df_training_labels = pd.read_csv('train_labels.csv')\n",
    "all_pids = [pid for pid in df_training_features['pid'].unique()]\n",
    "\n",
    "pids_train, pids_val = train_test_split(all_pids, test_size = 0.1)"
   ]
  },
  {
   "cell_type": "code",
   "execution_count": 3,
   "metadata": {},
   "outputs": [
    {
     "ename": "IndentationError",
     "evalue": "unexpected indent (<ipython-input-3-76159bbf12be>, line 32)",
     "output_type": "error",
     "traceback": [
      "\u001b[1;36m  File \u001b[1;32m\"<ipython-input-3-76159bbf12be>\"\u001b[1;36m, line \u001b[1;32m32\u001b[0m\n\u001b[1;33m    df_submission = df_submission.sort_values('pid')\u001b[0m\n\u001b[1;37m    ^\u001b[0m\n\u001b[1;31mIndentationError\u001b[0m\u001b[1;31m:\u001b[0m unexpected indent\n"
     ]
    }
   ],
   "source": [
    "# def getPatientData(trainingData, pids, patients=0, mode='pid'):\n",
    "#     if mode == 'number':\n",
    "#         pids = all_pids[:patients]\n",
    "#     if len(pids) == 0:\n",
    "#         return trainingData\n",
    "#     #pids = np.array(pids).astype(np.float)\n",
    "#     patients = [trainingData.iloc[idx] for idx in range(0, len(trainingData)) if trainingData['pid'][idx] in pids]    \n",
    "#     #patientTrainingDataIndex = [trainingData.iloc[idx] for idx, col in enumerate(trainingData) if trainingData['pid'][idx] in pids]    \n",
    "#     return pd.DataFrame(patients)\n",
    "\n",
    "# def partitionData(trainingDataPids, trainingPartition=80):\n",
    "#     validationPartition = 100 - trainingPartition\n",
    "#     countTraining = int((trainingPartition/100)*len(trainingDataPids))\n",
    "#     training = trainingDataPids[:countTraining]\n",
    "#     validation = trainingDataPids[countTraining:]\n",
    "#     print('')\n",
    "#     print('Training size: ' + str(countTraining))\n",
    "#     print('Validation size: ' + str(len(validation)))\n",
    "#     return training, validation\n",
    "\n",
    "# def populateData(X,Y):\n",
    "#     Z = pd.merge(X, Y, on='pid')\n",
    "#     YData = Z[Y.columns].iloc[:,1:]\n",
    "#     XData = Z[X.columns].iloc[:,1:]\n",
    "#     return XData, YData\n",
    "# import sklearn.metrics as metrics\n",
    "\n",
    "# TESTS = ['LABEL_BaseExcess', 'LABEL_Fibrinogen', 'LABEL_AST', 'LABEL_Alkalinephos', 'LABEL_Bilirubin_total',\n",
    "#          'LABEL_Lactate', 'LABEL_TroponinI', 'LABEL_SaO2',\n",
    "#          'LABEL_Bilirubin_direct', 'LABEL_EtCO2']\n",
    "# #def get_score(df_true, df_submission):\n",
    "#     df_submission = df_submission.sort_values('pid')\n",
    "#     df_true = df_true.sort_values('pid')\n",
    "    \n",
    "#     #task1 = np.mean([metrics.roc_auc_score(df_true[entry], df_submission[entry]) for entry in TESTS])\n",
    "#     task2 = metrics.roc_auc_score(df_true['LABEL_Sepsis'], df_submission['LABEL_Sepsis'])\n",
    "#     #task3 = np.mean([0.5 + 0.5 * np.maximum(0, metrics.r2_score(df_true[entry], df_submission[entry])) for entry in VITALS])\n",
    "#     #score = np.mean([task1, task2, task3])\n",
    "#     return task2"
   ]
  },
  {
   "cell_type": "code",
   "execution_count": 4,
   "metadata": {
    "scrolled": true
   },
   "outputs": [
    {
     "name": "stdout",
     "output_type": "stream",
     "text": [
      "0.0 %\n",
      "10.0 %\n",
      "20.0 %\n",
      "30.0 %\n",
      "40.0 %\n",
      "50.0 %\n",
      "60.0 %\n",
      "70.0 %\n",
      "80.0 %\n",
      "90.0 %\n",
      "100.0 % - completed\n",
      "\n",
      "0.0 %\n",
      "10.0 %\n",
      "20.0 %\n",
      "30.0 %\n",
      "40.0 %\n",
      "50.0 %\n",
      "60.0 %\n",
      "70.0 %\n",
      "80.0 %\n",
      "90.0 %\n",
      "100.0 % - completed\n",
      "\n"
     ]
    }
   ],
   "source": [
    "X_pid_train = dataset_imputer(df_training_features, method='mean_and_count', pid_list=pids_train, fillna=True)\n",
    "X_pid_val = dataset_imputer(df_training_features, method='mean_and_count', pid_list=pids_val, fillna=True)\n"
   ]
  },
  {
   "cell_type": "code",
   "execution_count": 5,
   "metadata": {},
   "outputs": [
    {
     "name": "stdout",
     "output_type": "stream",
     "text": [
      "100.0 % - completed\n",
      "\n",
      "100.0 % - completed\n",
      "\n"
     ]
    }
   ],
   "source": [
    "Y_pid_train = dataset_imputer(df_training_labels, method=None, pid_list=pids_train, fillna=True)\n",
    "Y_pid_val = dataset_imputer(df_training_labels, method=None, pid_list=pids_val, fillna=True)"
   ]
  },
  {
   "cell_type": "code",
   "execution_count": 26,
   "metadata": {},
   "outputs": [
    {
     "name": "stdout",
     "output_type": "stream",
     "text": [
      "    pid   PTT  HCO3  BaseExcess  PaCO2      FiO2  SaO2  Chloride    Hct  \\\n",
      "0   2.0  31.8   0.0    0.000000    0.0  0.000000   0.0       0.0  40.20   \n",
      "0   4.0  34.6   0.0    0.000000    0.0  0.000000   0.0       0.0  33.55   \n",
      "0   6.0  53.8  19.5   -2.857143   39.0  0.566667  95.0     113.5  30.39   \n",
      "0   8.0   0.0   0.0    0.000000    0.0  0.000000   0.0       0.0   0.00   \n",
      "0  10.0  27.8   0.0    0.000000    0.0  0.000000   0.0       0.0  42.10   \n",
      "\n",
      "         pH    ...     Alkalinephos_count  SpO2_count  Bilirubin_direct_count  \\\n",
      "0  0.000000    ...                    0.0        11.0                     0.0   \n",
      "0  0.000000    ...                    1.0        11.0                     1.0   \n",
      "0  7.352857    ...                    0.0        12.0                     0.0   \n",
      "0  0.000000    ...                    0.0        10.0                     0.0   \n",
      "0  0.000000    ...                    1.0        11.0                     0.0   \n",
      "\n",
      "   Chloride_count  Hct_count  Heartrate_count  Bilirubin_total_count  \\\n",
      "0             0.0        1.0             11.0                    0.0   \n",
      "0             0.0        2.0             11.0                    1.0   \n",
      "0             2.0       10.0             12.0                    0.0   \n",
      "0             0.0        0.0             11.0                    0.0   \n",
      "0             0.0        1.0             11.0                    1.0   \n",
      "\n",
      "   TroponinI_count  ABPs_count  pH_count  \n",
      "0              1.0        11.0       0.0  \n",
      "0              1.0        11.0       0.0  \n",
      "0              0.0        12.0       7.0  \n",
      "0              1.0        11.0       0.0  \n",
      "0              1.0        11.0       0.0  \n",
      "\n",
      "[5 rows x 44 columns]\n",
      "****************************************************************************************************\n",
      "       pid  LABEL_Sepsis\n",
      "6622     2           0.0\n",
      "15008    4           0.0\n",
      "16335    6           0.0\n",
      "17676    8           0.0\n",
      "1       10           0.0\n"
     ]
    }
   ],
   "source": [
    "x_train, x_val = X_pid_train.fillna(0).copy(), X_pid_val.fillna(0).copy()\n",
    "y_train, y_val = Y_pid_train.fillna(0).copy(), Y_pid_val.fillna(0).copy()\n",
    "\n",
    "feature_columns = ['pid', 'PTT', 'HCO3', 'BaseExcess', 'PaCO2', 'FiO2', 'SaO2','Chloride', 'Hct', 'pH'\n",
    "                      , 'EtCO2_count',\n",
    "                       'PTT_count', 'BUN_count', 'Lactate_count', 'Temp_count', 'Hgb_count',\n",
    "                       'HCO3_count', 'BaseExcess_count', 'RRate_count', 'Fibrinogen_count',\n",
    "                       'Phosphate_count', 'WBC_count', 'Creatinine_count', 'PaCO2_count',\n",
    "                       'AST_count', 'FiO2_count', 'Platelets_count', 'SaO2_count',\n",
    "                       'Glucose_count', 'ABPm_count', 'Magnesium_count', 'Potassium_count',\n",
    "                       'ABPd_count', 'Calcium_count', 'Alkalinephos_count', 'SpO2_count',\n",
    "                       'Bilirubin_direct_count', 'Chloride_count', 'Hct_count',\n",
    "                       'Heartrate_count', 'Bilirubin_total_count', 'TroponinI_count',\n",
    "                       'ABPs_count', 'pH_count']\n",
    "\n",
    "x_train, x_val = x_train[feature_columns], x_val[feature_columns]\n",
    "\n",
    "\n",
    "label_columns = ['pid', 'LABEL_Sepsis']\n",
    "\n",
    "y_train, y_val = y_train[label_columns], y_val[label_columns]\n",
    "\n",
    "print(x_train.head())\n",
    "print('*'*100)\n",
    "print(y_train.head())"
   ]
  },
  {
   "cell_type": "code",
   "execution_count": 27,
   "metadata": {},
   "outputs": [
    {
     "name": "stdout",
     "output_type": "stream",
     "text": [
      "(17095, 44)\n",
      "(17095, 2)\n"
     ]
    }
   ],
   "source": [
    "print(x_train.shape)\n",
    "print(y_train.shape)"
   ]
  },
  {
   "cell_type": "code",
   "execution_count": 30,
   "metadata": {},
   "outputs": [
    {
     "data": {
      "text/plain": [
       "MLPClassifier(activation='relu', alpha=0.0001, batch_size='auto', beta_1=0.9,\n",
       "              beta_2=0.999, early_stopping=False, epsilon=1e-08,\n",
       "              hidden_layer_sizes=(200, 200, 200), learning_rate='constant',\n",
       "              learning_rate_init=0.001, max_fun=15000, max_iter=300,\n",
       "              momentum=0.9, n_iter_no_change=10, nesterovs_momentum=True,\n",
       "              power_t=0.5, random_state=1, shuffle=True, solver='sgd',\n",
       "              tol=0.0001, validation_fraction=0.1, verbose=False,\n",
       "              warm_start=False)"
      ]
     },
     "execution_count": 30,
     "metadata": {},
     "output_type": "execute_result"
    }
   ],
   "source": [
    "# Train MLPClassifier\n",
    "#regr =   KNeighborsClassifier(3)\n",
    "regr = MLPClassifier(alpha=1e-4, hidden_layer_sizes=(200,200,200), random_state=1, solver='sgd', max_iter=300)\n",
    "#regr = RidgeClassifierCV()\n",
    "#regr = RandomForestClassifier()\n",
    "regr.fit(x_train.iloc[:,1:], y_train.iloc[:,1].values)"
   ]
  },
  {
   "cell_type": "code",
   "execution_count": 31,
   "metadata": {},
   "outputs": [
    {
     "name": "stdout",
     "output_type": "stream",
     "text": [
      "0.6930786576469028\n"
     ]
    }
   ],
   "source": [
    "f = regr.predict_proba(x_val.iloc[:,1:])\n",
    "f = pd.DataFrame(f)\n",
    "f.columns = ['False', 'LABEL_Sepsis']\n",
    "f.drop(['False'], inplace=True)\n",
    "f['pid'] = x_val.iloc[:,0].reset_index(drop=True)\n",
    "\n",
    "print(get_score(y_val, f, tasks=['task2'])[1])"
   ]
  },
  {
   "cell_type": "code",
   "execution_count": 36,
   "metadata": {},
   "outputs": [
    {
     "name": "stdout",
     "output_type": "stream",
     "text": [
      "0.0 %\n",
      "10.0 %\n",
      "20.0 %\n",
      "30.0 %\n",
      "40.0 %\n",
      "50.0 %\n",
      "60.0 %\n",
      "70.0 %\n",
      "80.0 %\n",
      "90.0 %\n",
      "100.0 %\n",
      "100.0 % - completed\n",
      "\n",
      "   pid        PTT       HCO3  BaseExcess  PaCO2  FiO2  SaO2    Chloride  \\\n",
      "0  0.0  41.350000  14.500000        -6.5   28.0  0.53   0.0  100.000000   \n",
      "0  3.0   0.000000   0.000000         0.0    0.0  0.00   0.0    0.000000   \n",
      "0  5.0   0.000000   0.000000         0.0    0.0  0.00   0.0    0.000000   \n",
      "0  7.0  75.766667  24.666667         0.5   43.0  0.50  70.0  100.666667   \n",
      "0  9.0  35.400000  22.000000         0.0    0.0  0.00   0.0  103.000000   \n",
      "\n",
      "     Hct    pH    ...     Alkalinephos_count  SpO2_count  \\\n",
      "0  28.45  7.37    ...                    2.0         9.0   \n",
      "0   0.00  0.00    ...                    0.0         6.0   \n",
      "0   0.00  0.00    ...                    0.0        11.0   \n",
      "0  22.99  7.38    ...                    3.0        11.0   \n",
      "0  33.70  0.00    ...                    0.0        11.0   \n",
      "\n",
      "   Bilirubin_direct_count  Chloride_count  Hct_count  Heartrate_count  \\\n",
      "0                     0.0             2.0        2.0              8.0   \n",
      "0                     0.0             0.0        0.0              6.0   \n",
      "0                     0.0             0.0        0.0             11.0   \n",
      "0                     2.0             3.0        5.0             11.0   \n",
      "0                     0.0             2.0        2.0             11.0   \n",
      "\n",
      "   Bilirubin_total_count  TroponinI_count  ABPs_count  pH_count  \n",
      "0                    2.0              0.0         8.0       2.0  \n",
      "0                    0.0              0.0         6.0       0.0  \n",
      "0                    0.0              0.0        10.0       0.0  \n",
      "0                    3.0              0.0        11.0       2.0  \n",
      "0                    0.0              0.0        10.0       0.0  \n",
      "\n",
      "[5 rows x 44 columns]\n",
      "****************************************************************************************************\n"
     ]
    },
    {
     "ename": "ValueError",
     "evalue": "Length mismatch: Expected axis has 2 elements, new values have 1 elements",
     "output_type": "error",
     "traceback": [
      "\u001b[1;31m---------------------------------------------------------------------------\u001b[0m",
      "\u001b[1;31mValueError\u001b[0m                                Traceback (most recent call last)",
      "\u001b[1;32m<ipython-input-36-de8510c4b9dd>\u001b[0m in \u001b[0;36m<module>\u001b[1;34m()\u001b[0m\n\u001b[0;32m     28\u001b[0m \u001b[0mf\u001b[0m \u001b[1;33m=\u001b[0m \u001b[0mregr\u001b[0m\u001b[1;33m.\u001b[0m\u001b[0mpredict_proba\u001b[0m\u001b[1;33m(\u001b[0m\u001b[0mx_test\u001b[0m\u001b[1;33m.\u001b[0m\u001b[0miloc\u001b[0m\u001b[1;33m[\u001b[0m\u001b[1;33m:\u001b[0m\u001b[1;33m,\u001b[0m\u001b[1;36m1\u001b[0m\u001b[1;33m:\u001b[0m\u001b[1;33m]\u001b[0m\u001b[1;33m)\u001b[0m\u001b[1;33m\u001b[0m\u001b[0m\n\u001b[0;32m     29\u001b[0m \u001b[0mf\u001b[0m \u001b[1;33m=\u001b[0m \u001b[0mpd\u001b[0m\u001b[1;33m.\u001b[0m\u001b[0mDataFrame\u001b[0m\u001b[1;33m(\u001b[0m\u001b[0mf\u001b[0m\u001b[1;33m)\u001b[0m\u001b[1;33m\u001b[0m\u001b[0m\n\u001b[1;32m---> 30\u001b[1;33m \u001b[0mf\u001b[0m\u001b[1;33m.\u001b[0m\u001b[0mcolumns\u001b[0m \u001b[1;33m=\u001b[0m \u001b[1;33m[\u001b[0m\u001b[1;34m'LABEL_Sepsis'\u001b[0m\u001b[1;33m]\u001b[0m\u001b[1;33m\u001b[0m\u001b[0m\n\u001b[0m\u001b[0;32m     31\u001b[0m \u001b[0mf\u001b[0m\u001b[1;33m[\u001b[0m\u001b[1;34m'pid'\u001b[0m\u001b[1;33m]\u001b[0m \u001b[1;33m=\u001b[0m \u001b[0mx_test\u001b[0m\u001b[1;33m.\u001b[0m\u001b[0miloc\u001b[0m\u001b[1;33m[\u001b[0m\u001b[1;33m:\u001b[0m\u001b[1;33m,\u001b[0m\u001b[1;36m0\u001b[0m\u001b[1;33m]\u001b[0m\u001b[1;33m.\u001b[0m\u001b[0mreset_index\u001b[0m\u001b[1;33m(\u001b[0m\u001b[0mdrop\u001b[0m\u001b[1;33m=\u001b[0m\u001b[1;32mTrue\u001b[0m\u001b[1;33m)\u001b[0m\u001b[1;33m\u001b[0m\u001b[0m\n\u001b[0;32m     32\u001b[0m \u001b[1;33m\u001b[0m\u001b[0m\n",
      "\u001b[1;32mC:\\ProgramData\\Anaconda3\\lib\\site-packages\\pandas\\core\\generic.py\u001b[0m in \u001b[0;36m__setattr__\u001b[1;34m(self, name, value)\u001b[0m\n\u001b[0;32m   4387\u001b[0m         \u001b[1;32mtry\u001b[0m\u001b[1;33m:\u001b[0m\u001b[1;33m\u001b[0m\u001b[0m\n\u001b[0;32m   4388\u001b[0m             \u001b[0mobject\u001b[0m\u001b[1;33m.\u001b[0m\u001b[0m__getattribute__\u001b[0m\u001b[1;33m(\u001b[0m\u001b[0mself\u001b[0m\u001b[1;33m,\u001b[0m \u001b[0mname\u001b[0m\u001b[1;33m)\u001b[0m\u001b[1;33m\u001b[0m\u001b[0m\n\u001b[1;32m-> 4389\u001b[1;33m             \u001b[1;32mreturn\u001b[0m \u001b[0mobject\u001b[0m\u001b[1;33m.\u001b[0m\u001b[0m__setattr__\u001b[0m\u001b[1;33m(\u001b[0m\u001b[0mself\u001b[0m\u001b[1;33m,\u001b[0m \u001b[0mname\u001b[0m\u001b[1;33m,\u001b[0m \u001b[0mvalue\u001b[0m\u001b[1;33m)\u001b[0m\u001b[1;33m\u001b[0m\u001b[0m\n\u001b[0m\u001b[0;32m   4390\u001b[0m         \u001b[1;32mexcept\u001b[0m \u001b[0mAttributeError\u001b[0m\u001b[1;33m:\u001b[0m\u001b[1;33m\u001b[0m\u001b[0m\n\u001b[0;32m   4391\u001b[0m             \u001b[1;32mpass\u001b[0m\u001b[1;33m\u001b[0m\u001b[0m\n",
      "\u001b[1;32mpandas\\_libs\\properties.pyx\u001b[0m in \u001b[0;36mpandas._libs.properties.AxisProperty.__set__\u001b[1;34m()\u001b[0m\n",
      "\u001b[1;32mC:\\ProgramData\\Anaconda3\\lib\\site-packages\\pandas\\core\\generic.py\u001b[0m in \u001b[0;36m_set_axis\u001b[1;34m(self, axis, labels)\u001b[0m\n\u001b[0;32m    644\u001b[0m \u001b[1;33m\u001b[0m\u001b[0m\n\u001b[0;32m    645\u001b[0m     \u001b[1;32mdef\u001b[0m \u001b[0m_set_axis\u001b[0m\u001b[1;33m(\u001b[0m\u001b[0mself\u001b[0m\u001b[1;33m,\u001b[0m \u001b[0maxis\u001b[0m\u001b[1;33m,\u001b[0m \u001b[0mlabels\u001b[0m\u001b[1;33m)\u001b[0m\u001b[1;33m:\u001b[0m\u001b[1;33m\u001b[0m\u001b[0m\n\u001b[1;32m--> 646\u001b[1;33m         \u001b[0mself\u001b[0m\u001b[1;33m.\u001b[0m\u001b[0m_data\u001b[0m\u001b[1;33m.\u001b[0m\u001b[0mset_axis\u001b[0m\u001b[1;33m(\u001b[0m\u001b[0maxis\u001b[0m\u001b[1;33m,\u001b[0m \u001b[0mlabels\u001b[0m\u001b[1;33m)\u001b[0m\u001b[1;33m\u001b[0m\u001b[0m\n\u001b[0m\u001b[0;32m    647\u001b[0m         \u001b[0mself\u001b[0m\u001b[1;33m.\u001b[0m\u001b[0m_clear_item_cache\u001b[0m\u001b[1;33m(\u001b[0m\u001b[1;33m)\u001b[0m\u001b[1;33m\u001b[0m\u001b[0m\n\u001b[0;32m    648\u001b[0m \u001b[1;33m\u001b[0m\u001b[0m\n",
      "\u001b[1;32mC:\\ProgramData\\Anaconda3\\lib\\site-packages\\pandas\\core\\internals.py\u001b[0m in \u001b[0;36mset_axis\u001b[1;34m(self, axis, new_labels)\u001b[0m\n\u001b[0;32m   3321\u001b[0m             raise ValueError(\n\u001b[0;32m   3322\u001b[0m                 \u001b[1;34m'Length mismatch: Expected axis has {old} elements, new '\u001b[0m\u001b[1;33m\u001b[0m\u001b[0m\n\u001b[1;32m-> 3323\u001b[1;33m                 'values have {new} elements'.format(old=old_len, new=new_len))\n\u001b[0m\u001b[0;32m   3324\u001b[0m \u001b[1;33m\u001b[0m\u001b[0m\n\u001b[0;32m   3325\u001b[0m         \u001b[0mself\u001b[0m\u001b[1;33m.\u001b[0m\u001b[0maxes\u001b[0m\u001b[1;33m[\u001b[0m\u001b[0maxis\u001b[0m\u001b[1;33m]\u001b[0m \u001b[1;33m=\u001b[0m \u001b[0mnew_labels\u001b[0m\u001b[1;33m\u001b[0m\u001b[0m\n",
      "\u001b[1;31mValueError\u001b[0m: Length mismatch: Expected axis has 2 elements, new values have 1 elements"
     ]
    }
   ],
   "source": [
    "# TEST TIME!\n",
    "\n",
    "df_test_features = pd.read_csv('test_features.csv')\n",
    "\n",
    "all_pids_test = [pid for pid in df_test_features['pid'].unique()]\n",
    "\n",
    "X_pid_test = dataset_imputer(df_test_features, method='mean_and_count', pid_list=all_pids_test, fillna=True)\n",
    "\n",
    "x_test = X_pid_test.fillna(0).copy()\n",
    "\n",
    "feature_columns = ['pid', 'PTT', 'HCO3', 'BaseExcess', 'PaCO2', 'FiO2', 'SaO2','Chloride', 'Hct', 'pH'\n",
    "                      , 'EtCO2_count',\n",
    "                       'PTT_count', 'BUN_count', 'Lactate_count', 'Temp_count', 'Hgb_count',\n",
    "                       'HCO3_count', 'BaseExcess_count', 'RRate_count', 'Fibrinogen_count',\n",
    "                       'Phosphate_count', 'WBC_count', 'Creatinine_count', 'PaCO2_count',\n",
    "                       'AST_count', 'FiO2_count', 'Platelets_count', 'SaO2_count',\n",
    "                       'Glucose_count', 'ABPm_count', 'Magnesium_count', 'Potassium_count',\n",
    "                       'ABPd_count', 'Calcium_count', 'Alkalinephos_count', 'SpO2_count',\n",
    "                       'Bilirubin_direct_count', 'Chloride_count', 'Hct_count',\n",
    "                       'Heartrate_count', 'Bilirubin_total_count', 'TroponinI_count',\n",
    "                       'ABPs_count', 'pH_count']\n",
    "\n",
    "x_test= x_test[feature_columns]\n",
    "\n",
    "print(x_test.head())\n",
    "print('*'*100)\n",
    "\n",
    "f = regr.predict_proba(x_test.iloc[:,1:])\n",
    "f = pd.DataFrame(f)\n",
    "f.columns = ['False', 'LABEL_Sepsis']\n",
    "f.drop(['False'], inplace=True)\n",
    "f['pid'] = x_test.iloc[:,0].reset_index(drop=True)\n",
    "\n",
    "f.to_csv('task2_test.csv', index=None)"
   ]
  },
  {
   "cell_type": "code",
   "execution_count": null,
   "metadata": {},
   "outputs": [],
   "source": []
  }
 ],
 "metadata": {
  "kernelspec": {
   "display_name": "Python 3",
   "language": "python",
   "name": "python3"
  },
  "language_info": {
   "codemirror_mode": {
    "name": "ipython",
    "version": 3
   },
   "file_extension": ".py",
   "mimetype": "text/x-python",
   "name": "python",
   "nbconvert_exporter": "python",
   "pygments_lexer": "ipython3",
   "version": "3.7.0"
  }
 },
 "nbformat": 4,
 "nbformat_minor": 2
}
