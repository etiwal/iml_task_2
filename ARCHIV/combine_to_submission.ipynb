{
 "cells": [
  {
   "cell_type": "code",
   "execution_count": 2,
   "metadata": {},
   "outputs": [],
   "source": [
    "import pandas as pd\n",
    "\n",
    "df_task1 = pd.read_csv('task1_test.csv')\n",
    "df_task2 = pd.read_csv('task2_test.csv')\n",
    "df_task3 = pd.read_csv('task3_test.csv')\n",
    "\n",
    "df = pd.merge(df_task1, df_task2, on='pid')\n",
    "df = pd.merge(df, df_task3, on='pid')\n",
    "\n",
    "ordered_columns_list = ['pid', 'LABEL_BaseExcess', 'LABEL_Fibrinogen', 'LABEL_AST', 'LABEL_Alkalinephos', 'LABEL_Bilirubin_total', 'LABEL_Lactate', 'LABEL_TroponinI', 'LABEL_SaO2', 'LABEL_Bilirubin_direct', 'LABEL_EtCO2', \n",
    "                        'LABEL_Sepsis', \n",
    "                        'LABEL_RRate', 'LABEL_ABPm', 'LABEL_SpO2', 'LABEL_Heartrate']\n",
    "\n",
    "df = df[ordered_columns_list]\n",
    "\n",
    "df.to_csv('submission.csv', index=False, float_format='%.3f')\n",
    "df.to_csv('submission.zip', index=False, float_format='%.3f', compression='zip')"
   ]
  },
  {
   "cell_type": "code",
   "execution_count": null,
   "metadata": {},
   "outputs": [],
   "source": []
  }
 ],
 "metadata": {
  "kernelspec": {
   "display_name": "Python 3",
   "language": "python",
   "name": "python3"
  },
  "language_info": {
   "codemirror_mode": {
    "name": "ipython",
    "version": 3
   },
   "file_extension": ".py",
   "mimetype": "text/x-python",
   "name": "python",
   "nbconvert_exporter": "python",
   "pygments_lexer": "ipython3",
   "version": "3.7.0"
  }
 },
 "nbformat": 4,
 "nbformat_minor": 2
}
