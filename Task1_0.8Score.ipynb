{
 "cells": [
  {
   "cell_type": "code",
   "execution_count": 9,
   "metadata": {},
   "outputs": [],
   "source": [
    "import numpy as np\n",
    "import pandas as pd\n",
    "import os\n",
    "# explicitly require this experimental feature\n",
    "from sklearn.experimental import enable_iterative_imputer  # noqa\n",
    "# now you can import normally from sklearn.impute\n",
    "from sklearn.impute import IterativeImputer, SimpleImputer\n",
    "from sklearn.metrics import mean_absolute_error\n",
    "from sklearn.svm import LinearSVR, SVR, SVC,LinearSVC\n",
    "from sklearn.datasets import make_regression\n",
    "from sklearn.preprocessing import normalize \n",
    "import matplotlib.pyplot as plt\n",
    "import seaborn as sns\n",
    "from sklearn.feature_selection import RFE\n",
    "from sklearn.linear_model import LogisticRegression, RidgeClassifier, RidgeClassifierCV\n",
    "from sklearn.neural_network import MLPClassifier\n",
    "from sklearn.ensemble import RandomForestClassifier\n",
    "from sklearn.model_selection import train_test_split\n",
    "from utils import dataset_imputer, get_score"
   ]
  },
  {
   "cell_type": "code",
   "execution_count": 10,
   "metadata": {},
   "outputs": [],
   "source": [
    "# Read in data\n",
    "df_training_features = pd.read_csv('train_features.csv')\n",
    "df_training_labels = pd.read_csv('train_labels.csv')\n",
    "all_pids = [pid for pid in df_training_features['pid'].unique()]\n",
    "\n",
    "pids_train, pids_val = train_test_split(all_pids, test_size = 0.1)"
   ]
  },
  {
   "cell_type": "code",
   "execution_count": 11,
   "metadata": {},
   "outputs": [],
   "source": [
    "# def getPatientData(trainingData, pids, patients=0, mode='pid'):\n",
    "#     if mode == 'number':\n",
    "#         pids = all_pids[:patients]\n",
    "#     if len(pids) == 0:\n",
    "#         return trainingData\n",
    "#     #pids = np.array(pids).astype(np.float)\n",
    "#     patients = [trainingData.iloc[idx] for idx in range(0, len(trainingData)) if trainingData['pid'][idx] in pids]    \n",
    "#     #patientTrainingDataIndex = [trainingData.iloc[idx] for idx, col in enumerate(trainingData) if trainingData['pid'][idx] in pids]    \n",
    "#     return pd.DataFrame(patients)\n",
    "\n",
    "# def partitionData(trainingDataPids, trainingPartition=80):\n",
    "#     validationPartition = 100 - trainingPartition\n",
    "#     countTraining = int((trainingPartition/100)*len(trainingDataPids))\n",
    "#     training = trainingDataPids[:countTraining]\n",
    "#     validation = trainingDataPids[countTraining:]\n",
    "#     print('')\n",
    "#     print('Training size: ' + str(countTraining))\n",
    "#     print('Validation size: ' + str(len(validation)))\n",
    "#     return training, validation\n",
    "\n",
    "# def populateData(X,Y):\n",
    "#     Z = pd.merge(X, Y, on='pid')\n",
    "#     YData = Z[Y.columns].iloc[:,1:]\n",
    "#     XData = Z[X.columns].iloc[:,1:]\n",
    "#     return XData, YData\n",
    "# import sklearn.metrics as metrics\n",
    "\n",
    "# TESTS = ['LABEL_BaseExcess', 'LABEL_Fibrinogen', 'LABEL_AST', 'LABEL_Alkalinephos', 'LABEL_Bilirubin_total',\n",
    "#          'LABEL_Lactate', 'LABEL_TroponinI', 'LABEL_SaO2',\n",
    "#          'LABEL_Bilirubin_direct', 'LABEL_EtCO2']\n",
    "\n",
    "# #def get_score(df_true, df_submission):\n",
    "# #    df_submission = df_submission.sort_values('pid')\n",
    "# #    df_true = df_true.sort_values('pid')\n",
    "# #    \n",
    "# #    task1 = np.mean([metrics.roc_auc_score(df_true[entry], df_submission[entry]) for entry in TESTS])\n",
    "# #    #task2 = metrics.roc_auc_score(df_true['LABEL_Sepsis'], df_submission['LABEL_Sepsis'])\n",
    "# #    #task3 = np.mean([0.5 + 0.5 * np.maximum(0, metrics.r2_score(df_true[entry], df_submission[entry])) for entry in VITALS])\n",
    "# #    #score = np.mean([task1, task2, task3])\n",
    "# #    return task1\n",
    "\n",
    "# gg3 = pd.merge(X_pid_train, df_training_label )\n",
    "# gg3 = gg3.astype(float)\n",
    "# print(gg3[gg3.columns[:38]].head())\n",
    "# print(len(gg3.columns))\n",
    "\n",
    "# plt.figure(figsize=(20,8))\n",
    "# print(gg3.columns[10:38])\n",
    "# corr = gg3[gg3.columns[1:-5]].corr()\n",
    "# f = plt.figure(figsize=(45, 35))\n",
    "# ax = sns.heatmap(\n",
    "#     corr, \n",
    "#     vmin=-1, vmax=1, center=0,\n",
    "#     cmap=sns.diverging_palette(20, 220, n=200),\n",
    "#     square=True, annot=True\n",
    "# )\n",
    "# ax.set_xticklabels(\n",
    "#     ax.get_xticklabels(),\n",
    "#     rotation=45,\n",
    "#     horizontalalignment='right'\n",
    "# );\n",
    "# plt.show()"
   ]
  },
  {
   "cell_type": "code",
   "execution_count": 12,
   "metadata": {},
   "outputs": [
    {
     "name": "stdout",
     "output_type": "stream",
     "text": [
      "0.0 %\n",
      "10.0 %\n",
      "20.0 %\n",
      "30.0 %\n",
      "40.0 %\n",
      "50.0 %\n",
      "60.0 %\n",
      "70.0 %\n",
      "80.0 %\n",
      "90.0 %\n",
      "100.0 % - completed\n",
      "\n",
      "0.0 %\n",
      "10.0 %\n",
      "20.0 %\n",
      "30.0 %\n",
      "40.0 %\n",
      "50.0 %\n",
      "60.0 %\n",
      "70.0 %\n",
      "80.0 %\n",
      "90.0 %\n",
      "100.0 % - completed\n",
      "\n"
     ]
    }
   ],
   "source": [
    "X_pid_train = dataset_imputer(df_training_features, method='count', pid_list=pids_train, fillna=True)\n",
    "X_pid_val = dataset_imputer(df_training_features, method='count', pid_list=pids_val, fillna=True)"
   ]
  },
  {
   "cell_type": "code",
   "execution_count": 13,
   "metadata": {},
   "outputs": [
    {
     "name": "stdout",
     "output_type": "stream",
     "text": [
      "100.0 % - completed\n",
      "\n",
      "100.0 % - completed\n",
      "\n"
     ]
    }
   ],
   "source": [
    "Y_pid_train = dataset_imputer(df_training_labels, method=None, pid_list=pids_train, fillna=True)\n",
    "Y_pid_val = dataset_imputer(df_training_labels, method=None, pid_list=pids_val, fillna=True)"
   ]
  },
  {
   "cell_type": "code",
   "execution_count": null,
   "metadata": {
    "scrolled": true
   },
   "outputs": [],
   "source": []
  },
  {
   "cell_type": "code",
   "execution_count": null,
   "metadata": {},
   "outputs": [],
   "source": []
  },
  {
   "cell_type": "code",
   "execution_count": 21,
   "metadata": {},
   "outputs": [
    {
     "name": "stdout",
     "output_type": "stream",
     "text": [
      "  pid Age EtCO2 PTT BUN Lactate Temp Hgb HCO3 BaseExcess ... Alkalinephos  \\\n",
      "0   2  86     0   1   1       0    3   1    0          0 ...            0   \n",
      "0   4  66     0   1   2       0    3   2    0          0 ...            1   \n",
      "0   8  42     0   0   1       0    3   0    0          0 ...            0   \n",
      "0  10  71     0   1   1       0    2   1    0          0 ...            1   \n",
      "0  13  73     0   1   2       0    5   2    2          4 ...            0   \n",
      "\n",
      "  SpO2 Bilirubin_direct Chloride Hct Heartrate Bilirubin_total TroponinI ABPs  \\\n",
      "0   11                0        0   1        11               0         1   11   \n",
      "0   11                1        0   2        11               1         1   11   \n",
      "0   10                0        0   0        11               0         1   11   \n",
      "0   11                0        0   1        11               1         1   11   \n",
      "0   12                0        2   2        12               0         0   11   \n",
      "\n",
      "  pH  \n",
      "0  0  \n",
      "0  0  \n",
      "0  0  \n",
      "0  0  \n",
      "0  4  \n",
      "\n",
      "[5 rows x 36 columns]\n",
      "****************************************************************************************************\n",
      "       pid  LABEL_BaseExcess  LABEL_Fibrinogen  LABEL_AST  LABEL_Alkalinephos  \\\n",
      "6622     2               0.0               0.0        0.0                 0.0   \n",
      "15008    4               0.0               0.0        0.0                 0.0   \n",
      "17676    8               0.0               0.0        0.0                 0.0   \n",
      "1       10               0.0               0.0        0.0                 0.0   \n",
      "2018    13               1.0               0.0        0.0                 0.0   \n",
      "\n",
      "       LABEL_Bilirubin_total  LABEL_Lactate  LABEL_TroponinI  LABEL_SaO2  \\\n",
      "6622                     0.0            0.0              1.0         0.0   \n",
      "15008                    0.0            0.0              0.0         1.0   \n",
      "17676                    0.0            0.0              0.0         0.0   \n",
      "1                        0.0            0.0              0.0         0.0   \n",
      "2018                     0.0            0.0              0.0         0.0   \n",
      "\n",
      "       LABEL_Bilirubin_direct  LABEL_EtCO2  \n",
      "6622                      0.0          0.0  \n",
      "15008                     0.0          0.0  \n",
      "17676                     0.0          0.0  \n",
      "1                         0.0          0.0  \n",
      "2018                      0.0          0.0  \n"
     ]
    }
   ],
   "source": [
    "#x_train = X_pid_train[['pid', 'PTT', 'HCO3', 'BaseExcess', 'PaCO2', 'FiO2', 'SaO2','Chloride', 'Hct', 'pH']]\n",
    "x_train, x_val = X_pid_train.copy(), X_pid_val.copy()\n",
    "y_train, y_val = Y_pid_train.copy(), Y_pid_val.copy()\n",
    "\n",
    "feature_columns = ['pid', 'Age', 'EtCO2', 'PTT', 'BUN', 'Lactate', 'Temp', 'Hgb',\n",
    "                 'HCO3', 'BaseExcess', 'RRate', 'Fibrinogen', 'Phosphate', 'WBC',\n",
    "                 'Creatinine', 'PaCO2', 'AST', 'FiO2', 'Platelets', 'SaO2', 'Glucose',\n",
    "                 'ABPm', 'Magnesium', 'Potassium', 'ABPd', 'Calcium', 'Alkalinephos',\n",
    "                 'SpO2', 'Bilirubin_direct', 'Chloride', 'Hct', 'Heartrate',\n",
    "                 'Bilirubin_total', 'TroponinI', 'ABPs', 'pH']\n",
    "\n",
    "x_train, x_val = x_train[feature_columns], x_val[feature_columns]\n",
    "\n",
    "label_columns = ['pid', 'LABEL_BaseExcess', 'LABEL_Fibrinogen', 'LABEL_AST',\n",
    "                 'LABEL_Alkalinephos', 'LABEL_Bilirubin_total', 'LABEL_Lactate',\n",
    "                 'LABEL_TroponinI', 'LABEL_SaO2', 'LABEL_Bilirubin_direct',\n",
    "                 'LABEL_EtCO2']\n",
    "\n",
    "y_train, y_val = y_train[label_columns], y_val[label_columns]\n",
    "\n",
    "print(x_train.head())\n",
    "print('*'*100)\n",
    "print(y_train.head())\n"
   ]
  },
  {
   "cell_type": "code",
   "execution_count": null,
   "metadata": {},
   "outputs": [],
   "source": []
  },
  {
   "cell_type": "code",
   "execution_count": 22,
   "metadata": {},
   "outputs": [
    {
     "name": "stdout",
     "output_type": "stream",
     "text": [
      "(17095, 36)\n",
      "(17095, 11)\n"
     ]
    }
   ],
   "source": [
    "print(x_train.shape)\n",
    "print(y_train.shape)"
   ]
  },
  {
   "cell_type": "code",
   "execution_count": 23,
   "metadata": {},
   "outputs": [
    {
     "name": "stderr",
     "output_type": "stream",
     "text": [
      "C:\\Users\\etien\\AppData\\Roaming\\Python\\Python37\\site-packages\\sklearn\\neural_network\\_multilayer_perceptron.py:571: ConvergenceWarning: Stochastic Optimizer: Maximum iterations (200) reached and the optimization hasn't converged yet.\n",
      "  % self.max_iter, ConvergenceWarning)\n"
     ]
    },
    {
     "data": {
      "text/plain": [
       "MLPClassifier(activation='relu', alpha=1e-05, batch_size='auto', beta_1=0.9,\n",
       "              beta_2=0.999, early_stopping=False, epsilon=1e-08,\n",
       "              hidden_layer_sizes=(100, 100), learning_rate='constant',\n",
       "              learning_rate_init=0.001, max_fun=15000, max_iter=200,\n",
       "              momentum=0.9, n_iter_no_change=10, nesterovs_momentum=True,\n",
       "              power_t=0.5, random_state=1, shuffle=True, solver='sgd',\n",
       "              tol=0.0001, validation_fraction=0.1, verbose=False,\n",
       "              warm_start=False)"
      ]
     },
     "execution_count": 23,
     "metadata": {},
     "output_type": "execute_result"
    }
   ],
   "source": [
    "# Train MLPClassifier\n",
    "#regr =   KNeighborsClassifier(3)\n",
    "regr = MLPClassifier(alpha=1e-5,hidden_layer_sizes=(100,100), random_state=1, solver='sgd', max_iter=200)\n",
    "#regr = RidgeClassifierCV()\n",
    "#regr = RandomForestClassifier()\n",
    "regr.fit(x_train.iloc[:,1:], y_train.iloc[:,1:])"
   ]
  },
  {
   "cell_type": "code",
   "execution_count": 24,
   "metadata": {},
   "outputs": [
    {
     "name": "stdout",
     "output_type": "stream",
     "text": [
      "  pid Age EtCO2 PTT BUN Lactate Temp Hgb HCO3 BaseExcess ... Alkalinephos  \\\n",
      "0   2  86     0   1   1       0    3   1    0          0 ...            0   \n",
      "0   4  66     0   1   2       0    3   2    0          0 ...            1   \n",
      "0   8  42     0   0   1       0    3   0    0          0 ...            0   \n",
      "0  10  71     0   1   1       0    2   1    0          0 ...            1   \n",
      "0  13  73     0   1   2       0    5   2    2          4 ...            0   \n",
      "\n",
      "  SpO2 Bilirubin_direct Chloride Hct Heartrate Bilirubin_total TroponinI ABPs  \\\n",
      "0   11                0        0   1        11               0         1   11   \n",
      "0   11                1        0   2        11               1         1   11   \n",
      "0   10                0        0   0        11               0         1   11   \n",
      "0   11                0        0   1        11               1         1   11   \n",
      "0   12                0        2   2        12               0         0   11   \n",
      "\n",
      "  pH  \n",
      "0  0  \n",
      "0  0  \n",
      "0  0  \n",
      "0  0  \n",
      "0  4  \n",
      "\n",
      "[5 rows x 36 columns]\n",
      "       LABEL_BaseExcess  LABEL_Fibrinogen  LABEL_AST  LABEL_Alkalinephos  \\\n",
      "6622                0.0               0.0        0.0                 0.0   \n",
      "15008               0.0               0.0        0.0                 0.0   \n",
      "17676               0.0               0.0        0.0                 0.0   \n",
      "1                   0.0               0.0        0.0                 0.0   \n",
      "2018                1.0               0.0        0.0                 0.0   \n",
      "\n",
      "       LABEL_Bilirubin_total  LABEL_Lactate  LABEL_TroponinI  LABEL_SaO2  \\\n",
      "6622                     0.0            0.0              1.0         0.0   \n",
      "15008                    0.0            0.0              0.0         1.0   \n",
      "17676                    0.0            0.0              0.0         0.0   \n",
      "1                        0.0            0.0              0.0         0.0   \n",
      "2018                     0.0            0.0              0.0         0.0   \n",
      "\n",
      "       LABEL_Bilirubin_direct  LABEL_EtCO2  \n",
      "6622                      0.0          0.0  \n",
      "15008                     0.0          0.0  \n",
      "17676                     0.0          0.0  \n",
      "1                         0.0          0.0  \n",
      "2018                      0.0          0.0  \n"
     ]
    }
   ],
   "source": [
    "print(x_train.head())\n",
    "print(y_train.iloc[:5,1:])"
   ]
  },
  {
   "cell_type": "code",
   "execution_count": 25,
   "metadata": {},
   "outputs": [
    {
     "name": "stdout",
     "output_type": "stream",
     "text": [
      "  pid Age EtCO2 PTT BUN Lactate Temp Hgb HCO3 BaseExcess ... Alkalinephos  \\\n",
      "0   1  34     0   0   3       0    8   3    3          6 ...            0   \n",
      "0   6  66     0   1   2       2   12   6    2          7 ...            0   \n",
      "0  24  85     0   1   1       2   12   2    1          7 ...            0   \n",
      "0  45  53     0   0   0       0    5   0    0          0 ...            0   \n",
      "0  49  79     0   1   3       2    5   3    3          0 ...            3   \n",
      "\n",
      "  SpO2 Bilirubin_direct Chloride Hct Heartrate Bilirubin_total TroponinI ABPs  \\\n",
      "0   12                0        3   6        12               0         0   12   \n",
      "0   12                0        2  10        12               0         0   12   \n",
      "0   11                0        1   4        12               0         0   12   \n",
      "0   11                0        0   0        11               0         0   11   \n",
      "0   11                0        3   3        11               2         0    4   \n",
      "\n",
      "  pH  \n",
      "0  7  \n",
      "0  7  \n",
      "0  7  \n",
      "0  0  \n",
      "0  0  \n",
      "\n",
      "[5 rows x 36 columns]\n",
      "       LABEL_BaseExcess  LABEL_Fibrinogen  LABEL_AST  LABEL_Alkalinephos  \\\n",
      "0                   1.0               0.0        0.0                 0.0   \n",
      "16335               1.0               0.0        0.0                 0.0   \n",
      "9311                1.0               1.0        1.0                 1.0   \n",
      "15325               0.0               0.0        0.0                 0.0   \n",
      "15596               1.0               0.0        1.0                 1.0   \n",
      "\n",
      "       LABEL_Bilirubin_total  LABEL_Lactate  LABEL_TroponinI  LABEL_SaO2  \\\n",
      "0                        0.0            1.0              0.0         0.0   \n",
      "16335                    0.0            0.0              0.0         1.0   \n",
      "9311                     1.0            1.0              0.0         1.0   \n",
      "15325                    0.0            0.0              0.0         0.0   \n",
      "15596                    0.0            1.0              0.0         0.0   \n",
      "\n",
      "       LABEL_Bilirubin_direct  LABEL_EtCO2  \n",
      "0                         0.0          0.0  \n",
      "16335                     0.0          0.0  \n",
      "9311                      0.0          0.0  \n",
      "15325                     0.0          0.0  \n",
      "15596                     0.0          0.0  \n"
     ]
    }
   ],
   "source": [
    "print(x_val.head())\n",
    "print(y_val.iloc[:5,1:])"
   ]
  },
  {
   "cell_type": "code",
   "execution_count": 27,
   "metadata": {},
   "outputs": [
    {
     "name": "stdout",
     "output_type": "stream",
     "text": [
      "0.8086742979465722\n"
     ]
    }
   ],
   "source": [
    "f = regr.predict_proba(x_val.iloc[:,1:])\n",
    "f = pd.DataFrame(f)\n",
    "f.columns = y_val.columns[1:]\n",
    "#f.columns = ['LABEL_BaseExcess1', 'LABEL_BaseExcess']\n",
    "f['pid'] = x_val.iloc[:,0].reset_index(drop=True)\n",
    "\n",
    "print(get_score(y_val, f, tasks=['task1'])[1])\n",
    "#print(f)\n"
   ]
  },
  {
   "cell_type": "code",
   "execution_count": 29,
   "metadata": {},
   "outputs": [
    {
     "name": "stdout",
     "output_type": "stream",
     "text": [
      "0.0 %\n",
      "10.0 %\n",
      "20.0 %\n",
      "30.0 %\n",
      "40.0 %\n",
      "50.0 %\n",
      "60.0 %\n",
      "70.0 %\n",
      "80.0 %\n",
      "90.0 %\n",
      "100.0 %\n",
      "100.0 % - completed\n",
      "\n",
      "  pid Age EtCO2 PTT BUN Lactate Temp Hgb HCO3 BaseExcess ... Alkalinephos  \\\n",
      "0   0  39     0   2   2       0    5   2    2          2 ...            2   \n",
      "0   3  84     0   0   0       0    4   0    0          0 ...            0   \n",
      "0   5  62     0   0   0       0    2   0    0          0 ...            0   \n",
      "0   7  71     0   3   3       0   10   5    3          2 ...            3   \n",
      "0   9  51     0   1   2       0    2   2    2          0 ...            0   \n",
      "\n",
      "  SpO2 Bilirubin_direct Chloride Hct Heartrate Bilirubin_total TroponinI ABPs  \\\n",
      "0    9                0        2   2         8               2         0    8   \n",
      "0    6                0        0   0         6               0         0    6   \n",
      "0   11                0        0   0        11               0         0   10   \n",
      "0   11                2        3   5        11               3         0   11   \n",
      "0   11                0        2   2        11               0         0   10   \n",
      "\n",
      "  pH  \n",
      "0  2  \n",
      "0  0  \n",
      "0  0  \n",
      "0  2  \n",
      "0  0  \n",
      "\n",
      "[5 rows x 36 columns]\n",
      "****************************************************************************************************\n"
     ]
    }
   ],
   "source": [
    "# TEST TIME!\n",
    "\n",
    "df_test_features = pd.read_csv('test_features.csv')\n",
    "\n",
    "all_pids_test = [pid for pid in df_test_features['pid'].unique()]\n",
    "\n",
    "X_pid_test = dataset_imputer(df_test_features, method='count', pid_list=all_pids_test, fillna=True)\n",
    "\n",
    "x_test = X_pid_test.copy()\n",
    "\n",
    "feature_columns = ['pid', 'Age', 'EtCO2', 'PTT', 'BUN', 'Lactate', 'Temp', 'Hgb',\n",
    "                 'HCO3', 'BaseExcess', 'RRate', 'Fibrinogen', 'Phosphate', 'WBC',\n",
    "                 'Creatinine', 'PaCO2', 'AST', 'FiO2', 'Platelets', 'SaO2', 'Glucose',\n",
    "                 'ABPm', 'Magnesium', 'Potassium', 'ABPd', 'Calcium', 'Alkalinephos',\n",
    "                 'SpO2', 'Bilirubin_direct', 'Chloride', 'Hct', 'Heartrate',\n",
    "                 'Bilirubin_total', 'TroponinI', 'ABPs', 'pH']\n",
    "\n",
    "x_test= x_test[feature_columns]\n",
    "\n",
    "print(x_test.head())\n",
    "print('*'*100)\n",
    "\n",
    "f = regr.predict_proba(x_test.iloc[:,1:])\n",
    "f = pd.DataFrame(f)\n",
    "f.columns = ['LABEL_BaseExcess', 'LABEL_Fibrinogen', 'LABEL_AST',\n",
    "             'LABEL_Alkalinephos', 'LABEL_Bilirubin_total', 'LABEL_Lactate',\n",
    "             'LABEL_TroponinI', 'LABEL_SaO2', 'LABEL_Bilirubin_direct',\n",
    "             'LABEL_EtCO2']\n",
    "f['pid'] = x_test.iloc[:,0].reset_index(drop=True)\n",
    "\n",
    "f.to_csv('task1_test.csv', index=None)"
   ]
  },
  {
   "cell_type": "code",
   "execution_count": null,
   "metadata": {},
   "outputs": [],
   "source": []
  },
  {
   "cell_type": "code",
   "execution_count": null,
   "metadata": {},
   "outputs": [],
   "source": []
  }
 ],
 "metadata": {
  "kernelspec": {
   "display_name": "Python 3",
   "language": "python",
   "name": "python3"
  },
  "language_info": {
   "codemirror_mode": {
    "name": "ipython",
    "version": 3
   },
   "file_extension": ".py",
   "mimetype": "text/x-python",
   "name": "python",
   "nbconvert_exporter": "python",
   "pygments_lexer": "ipython3",
   "version": "3.7.0"
  }
 },
 "nbformat": 4,
 "nbformat_minor": 2
}
